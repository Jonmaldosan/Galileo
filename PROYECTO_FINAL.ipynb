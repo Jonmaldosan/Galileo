{
 "cells": [
  {
   "cell_type": "code",
   "execution_count": 273,
   "metadata": {},
   "outputs": [],
   "source": [
    "import pandas as pd\n",
    "import numpy as np\n",
    "from faker import Faker\n",
    "import random\n",
    "import datetime\n",
    "import boto3\n",
    "import psycopg2\n",
    "import configparser\n",
    "import matplotlib.pyplot as plt"
   ]
  },
  {
   "cell_type": "code",
   "execution_count": 12,
   "metadata": {},
   "outputs": [
    {
     "data": {
      "text/plain": [
       "['config.cfg']"
      ]
     },
     "execution_count": 12,
     "metadata": {},
     "output_type": "execute_result"
    }
   ],
   "source": [
    "config = configparser.ConfigParser()\n",
    "config.read('config.cfg')"
   ]
  },
  {
   "attachments": {},
   "cell_type": "markdown",
   "metadata": {},
   "source": [
    "### CREACION DE INSTANCIAS EN RDS"
   ]
  },
  {
   "cell_type": "code",
   "execution_count": 4,
   "metadata": {},
   "outputs": [],
   "source": [
    "aws_conn = boto3.client('rds', aws_access_key_id=config.get('IAM', 'ACCESS_KEY'),\n",
    "                    aws_secret_access_key=config.get('IAM', 'SECRET_ACCESS_KEY'),\n",
    "                    region_name='us-east-1')"
   ]
  },
  {
   "attachments": {},
   "cell_type": "markdown",
   "metadata": {},
   "source": [
    "### VERIFICACION DE INSTANCIAS EN RDS"
   ]
  },
  {
   "cell_type": "code",
   "execution_count": 5,
   "metadata": {},
   "outputs": [
    {
     "name": "stdout",
     "output_type": "stream",
     "text": [
      "DBInstanceIds []\n"
     ]
    }
   ],
   "source": [
    "rdsInstanceIds = []\n",
    "\n",
    "response = aws_conn.describe_db_instances()\n",
    "for resp in response['DBInstances']:\n",
    "    rdsInstanceIds.append(resp['DBInstanceIdentifier'])\n",
    "    db_instance_status = resp['DBInstanceStatus']\n",
    "\n",
    "print(f\"DBInstanceIds {rdsInstanceIds}\")"
   ]
  },
  {
   "cell_type": "code",
   "execution_count": 6,
   "metadata": {},
   "outputs": [],
   "source": [
    "rds1Identifier = 'OLTP'"
   ]
  },
  {
   "attachments": {},
   "cell_type": "markdown",
   "metadata": {},
   "source": [
    "### CREACION DE LOS SERVICIOS EN RDS PARA EL OLTP"
   ]
  },
  {
   "cell_type": "code",
   "execution_count": 9,
   "metadata": {},
   "outputs": [
    {
     "name": "stdout",
     "output_type": "stream",
     "text": [
      "{'DBInstance': {'DBInstanceIdentifier': 'oltp', 'DBInstanceClass': 'db.t3.micro', 'Engine': 'postgres', 'DBInstanceStatus': 'creating', 'MasterUsername': 'postgres', 'DBName': 'OLTP', 'AllocatedStorage': 10, 'PreferredBackupWindow': '03:02-03:32', 'BackupRetentionPeriod': 1, 'DBSecurityGroups': [], 'VpcSecurityGroups': [{'VpcSecurityGroupId': 'sg-008e1623a182fda6c', 'Status': 'active'}], 'DBParameterGroups': [{'DBParameterGroupName': 'default.postgres14', 'ParameterApplyStatus': 'in-sync'}], 'DBSubnetGroup': {'DBSubnetGroupName': 'default', 'DBSubnetGroupDescription': 'default', 'VpcId': 'vpc-0e9ad43e5e102799b', 'SubnetGroupStatus': 'Complete', 'Subnets': [{'SubnetIdentifier': 'subnet-05fa9ae41a65d125b', 'SubnetAvailabilityZone': {'Name': 'us-east-1f'}, 'SubnetOutpost': {}, 'SubnetStatus': 'Active'}, {'SubnetIdentifier': 'subnet-05e41800505383ed7', 'SubnetAvailabilityZone': {'Name': 'us-east-1a'}, 'SubnetOutpost': {}, 'SubnetStatus': 'Active'}, {'SubnetIdentifier': 'subnet-093017ed8fc6e4a22', 'SubnetAvailabilityZone': {'Name': 'us-east-1d'}, 'SubnetOutpost': {}, 'SubnetStatus': 'Active'}, {'SubnetIdentifier': 'subnet-0f32e91db935621f4', 'SubnetAvailabilityZone': {'Name': 'us-east-1e'}, 'SubnetOutpost': {}, 'SubnetStatus': 'Active'}, {'SubnetIdentifier': 'subnet-082c87108caa3c9f5', 'SubnetAvailabilityZone': {'Name': 'us-east-1c'}, 'SubnetOutpost': {}, 'SubnetStatus': 'Active'}, {'SubnetIdentifier': 'subnet-0672a9aedecbfc54c', 'SubnetAvailabilityZone': {'Name': 'us-east-1b'}, 'SubnetOutpost': {}, 'SubnetStatus': 'Active'}]}, 'PreferredMaintenanceWindow': 'thu:07:54-thu:08:24', 'PendingModifiedValues': {'MasterUserPassword': '****'}, 'MultiAZ': False, 'EngineVersion': '14.6', 'AutoMinorVersionUpgrade': True, 'ReadReplicaDBInstanceIdentifiers': [], 'LicenseModel': 'postgresql-license', 'OptionGroupMemberships': [{'OptionGroupName': 'default:postgres-14', 'Status': 'in-sync'}], 'PubliclyAccessible': True, 'StorageType': 'gp2', 'DbInstancePort': 0, 'StorageEncrypted': False, 'DbiResourceId': 'db-RACUQ3JVYBP3JXIJHLZ7E6TGN4', 'CACertificateIdentifier': 'rds-ca-2019', 'DomainMemberships': [], 'CopyTagsToSnapshot': False, 'MonitoringInterval': 0, 'DBInstanceArn': 'arn:aws:rds:us-east-1:819466016857:db:oltp', 'IAMDatabaseAuthenticationEnabled': False, 'PerformanceInsightsEnabled': False, 'DeletionProtection': False, 'AssociatedRoles': [], 'TagList': [], 'CustomerOwnedIpEnabled': False, 'BackupTarget': 'region', 'NetworkType': 'IPV4'}, 'ResponseMetadata': {'RequestId': '4c63a455-aa58-4986-aa28-ec6bf1d3def6', 'HTTPStatusCode': 200, 'HTTPHeaders': {'x-amzn-requestid': '4c63a455-aa58-4986-aa28-ec6bf1d3def6', 'strict-transport-security': 'max-age=31536000', 'content-type': 'text/xml', 'content-length': '5192', 'date': 'Sat, 08 Apr 2023 05:29:46 GMT'}, 'RetryAttempts': 0}}\n"
     ]
    }
   ],
   "source": [
    "try:\n",
    "    response = aws_conn.create_db_instance(\n",
    "            AllocatedStorage=10,\n",
    "            DBName=config.get('OLTP', 'DB_NAME'),\n",
    "            DBInstanceIdentifier=rds1Identifier,\n",
    "            DBInstanceClass=\"db.t3.micro\",\n",
    "            Engine=\"postgres\",\n",
    "            MasterUsername=config.get('OLTP', 'DB_USER'),\n",
    "            MasterUserPassword=config.get('OLTP', 'DB_PASSWORD'),\n",
    "            Port=int(config.get('OLTP', 'DB_PORT')),\n",
    "            VpcSecurityGroupIds=[config.get('VPC', 'SECURITY_GROUP')],\n",
    "            PubliclyAccessible=True\n",
    "        )\n",
    "    print(response)\n",
    "except aws_conn.exceptions.DBInstanceAlreadyExistsFault as ex:\n",
    "    print(\"La Instancia de Base de Datos ya Existe.\")"
   ]
  },
  {
   "attachments": {},
   "cell_type": "markdown",
   "metadata": {},
   "source": [
    "### VALIDACION DE CONEXION"
   ]
  },
  {
   "cell_type": "code",
   "execution_count": 93,
   "metadata": {},
   "outputs": [
    {
     "name": "stdout",
     "output_type": "stream",
     "text": [
      "oltp.cpvsavu5bx5f.us-east-1.rds.amazonaws.com\n"
     ]
    }
   ],
   "source": [
    "try:\n",
    "     instances = aws_conn.describe_db_instances(DBInstanceIdentifier=rds1Identifier)\n",
    "     RDS_HOST = instances.get('DBInstances')[0].get('Endpoint').get('Address')\n",
    "     print(RDS_HOST)\n",
    "except Exception as ex:\n",
    "     print(\"La instancia de base de datos no existe o aun no se ha terminado de crear.\")\n",
    "     print(ex)"
   ]
  },
  {
   "attachments": {},
   "cell_type": "markdown",
   "metadata": {},
   "source": [
    "### CREACION DE TABLAS REGISTRO DE TRANSACCIONES"
   ]
  },
  {
   "cell_type": "code",
   "execution_count": 15,
   "metadata": {},
   "outputs": [
    {
     "name": "stdout",
     "output_type": "stream",
     "text": [
      "Base de Datos Creada Exitosamente\n"
     ]
    }
   ],
   "source": [
    "import SQL_OLTP\n",
    "\n",
    "try:\n",
    "    db_conn = psycopg2.connect(\n",
    "        database=config.get('OLTP', 'DB_NAME'), \n",
    "        user=config.get('OLTP', 'DB_USER'),\n",
    "        password=config.get('OLTP', 'DB_PASSWORD'), \n",
    "        host=RDS_HOST,\n",
    "        port=config.get('OLTP', 'DB_PORT')\n",
    "    )\n",
    "\n",
    "    cursor = db_conn.cursor()\n",
    "    cursor.execute(SQL_OLTP.DDL_QUERY)\n",
    "    db_conn.commit()\n",
    "    print(\"Base de Datos Creada Exitosamente\")\n",
    "except Exception as ex:\n",
    "    print(\"ERROR: Error al crear la base de datos.\")\n",
    "    print(ex)"
   ]
  },
  {
   "cell_type": "code",
   "execution_count": 94,
   "metadata": {},
   "outputs": [],
   "source": [
    "def insertDataToSQL(data_dict, table_name):\n",
    "     postgres_driver = f\"\"\"postgresql://{config.get('OLTP', 'DB_USER')}:{config.get('OLTP', 'DB_PASSWORD')}@{RDS_HOST}:{config.get('OLTP', 'DB_PORT')}/{config.get('OLTP', 'DB_NAME')}\"\"\"    \n",
    "     df_data = pd.DataFrame.from_records(data_dict)\n",
    "     try:\n",
    "          response = df_data.to_sql(table_name, postgres_driver, index=False, if_exists='append')\n",
    "          print(f'Se han insertado {response} nuevos registros.' )\n",
    "     except Exception as ex:\n",
    "          print(ex)"
   ]
  },
  {
   "attachments": {},
   "cell_type": "markdown",
   "metadata": {},
   "source": [
    "### CONEXION HACIA AWS S3"
   ]
  },
  {
   "cell_type": "code",
   "execution_count": 23,
   "metadata": {},
   "outputs": [],
   "source": [
    "s3 = boto3.resource(\n",
    "    service_name = 's3',\n",
    "    region_name = 'us-east-1',\n",
    "    aws_access_key_id = config.get('IAM', 'ACCESS_KEY'),\n",
    "    aws_secret_access_key = config.get('IAM', 'SECRET_ACCESS_KEY')\n",
    ")"
   ]
  },
  {
   "cell_type": "code",
   "execution_count": 24,
   "metadata": {},
   "outputs": [
    {
     "name": "stdout",
     "output_type": "stream",
     "text": [
      "dspython-2023\n",
      "proyectodwh2023\n"
     ]
    }
   ],
   "source": [
    "for bucket in s3.buckets.all():\n",
    "    S3_BUCKET_NAME = bucket.name\n",
    "    print(bucket.name)"
   ]
  },
  {
   "cell_type": "code",
   "execution_count": 25,
   "metadata": {},
   "outputs": [],
   "source": [
    "S3_BUCKET_NAME = 'dspython-2023'"
   ]
  },
  {
   "cell_type": "code",
   "execution_count": 42,
   "metadata": {},
   "outputs": [
    {
     "data": {
      "text/plain": [
       "['CATEGORIA.csv',\n",
       " 'CLIENTE.csv',\n",
       " 'DEPARTAMENTO.csv',\n",
       " 'DEVOLUCIONES.csv',\n",
       " 'ENVIO.csv',\n",
       " 'GERENTE.csv',\n",
       " 'HOLLIDAY.csv',\n",
       " 'MUNICIPIO.csv',\n",
       " 'PRODUCTO.csv',\n",
       " 'REGION.csv',\n",
       " 'SEGMENTO.csv',\n",
       " 'STORE.csv',\n",
       " 'SUBCATEGORIA.csv',\n",
       " 'VENTAS.csv']"
      ]
     },
     "execution_count": 42,
     "metadata": {},
     "output_type": "execute_result"
    }
   ],
   "source": [
    "remoteFileList = []\n",
    "for objt in s3.Bucket(S3_BUCKET_NAME).objects.all():\n",
    "    remoteFileList.append(objt.key)\n",
    "\n",
    "remoteFileList"
   ]
  },
  {
   "attachments": {},
   "cell_type": "markdown",
   "metadata": {},
   "source": [
    "### CARGA DE DATOS OLTP"
   ]
  },
  {
   "cell_type": "code",
   "execution_count": 43,
   "metadata": {},
   "outputs": [
    {
     "data": {
      "text/html": [
       "<div>\n",
       "<style scoped>\n",
       "    .dataframe tbody tr th:only-of-type {\n",
       "        vertical-align: middle;\n",
       "    }\n",
       "\n",
       "    .dataframe tbody tr th {\n",
       "        vertical-align: top;\n",
       "    }\n",
       "\n",
       "    .dataframe thead th {\n",
       "        text-align: right;\n",
       "    }\n",
       "</style>\n",
       "<table border=\"1\" class=\"dataframe\">\n",
       "  <thead>\n",
       "    <tr style=\"text-align: right;\">\n",
       "      <th></th>\n",
       "      <th>categoria_id</th>\n",
       "      <th>categoria</th>\n",
       "    </tr>\n",
       "  </thead>\n",
       "  <tbody>\n",
       "    <tr>\n",
       "      <th>0</th>\n",
       "      <td>MAT</td>\n",
       "      <td>Material de oficina</td>\n",
       "    </tr>\n",
       "    <tr>\n",
       "      <th>1</th>\n",
       "      <td>MOB</td>\n",
       "      <td>Mobiliario</td>\n",
       "    </tr>\n",
       "    <tr>\n",
       "      <th>2</th>\n",
       "      <td>TEC</td>\n",
       "      <td>Tecnología</td>\n",
       "    </tr>\n",
       "  </tbody>\n",
       "</table>\n",
       "</div>"
      ],
      "text/plain": [
       "  categoria_id            categoria\n",
       "0          MAT  Material de oficina\n",
       "1          MOB           Mobiliario\n",
       "2          TEC           Tecnología"
      ]
     },
     "execution_count": 43,
     "metadata": {},
     "output_type": "execute_result"
    }
   ],
   "source": [
    "import io\n",
    "\n",
    "for remoteFile in remoteFileList:\n",
    "    try:\n",
    "        file = s3.Bucket(S3_BUCKET_NAME).Object(remoteFile).get()\n",
    "        data = file['Body'].read()\n",
    "        df_categoria = pd.read_csv('CATEGORIA.csv')\n",
    "    except Exception as ex:\n",
    "        print(\"No es un archivo.\")\n",
    "        print(ex)\n",
    "\n",
    "df_categoria.head()"
   ]
  },
  {
   "cell_type": "code",
   "execution_count": 35,
   "metadata": {},
   "outputs": [
    {
     "name": "stdout",
     "output_type": "stream",
     "text": [
      "Se han insertado 3 nuevos registros.\n"
     ]
    }
   ],
   "source": [
    "insertDataToSQL(df_categoria, 'categoria')"
   ]
  },
  {
   "cell_type": "code",
   "execution_count": 44,
   "metadata": {},
   "outputs": [
    {
     "data": {
      "text/html": [
       "<div>\n",
       "<style scoped>\n",
       "    .dataframe tbody tr th:only-of-type {\n",
       "        vertical-align: middle;\n",
       "    }\n",
       "\n",
       "    .dataframe tbody tr th {\n",
       "        vertical-align: top;\n",
       "    }\n",
       "\n",
       "    .dataframe thead th {\n",
       "        text-align: right;\n",
       "    }\n",
       "</style>\n",
       "<table border=\"1\" class=\"dataframe\">\n",
       "  <thead>\n",
       "    <tr style=\"text-align: right;\">\n",
       "      <th></th>\n",
       "      <th>region_id</th>\n",
       "      <th>region</th>\n",
       "    </tr>\n",
       "  </thead>\n",
       "  <tbody>\n",
       "    <tr>\n",
       "      <th>0</th>\n",
       "      <td>MET</td>\n",
       "      <td>Metropolitana</td>\n",
       "    </tr>\n",
       "    <tr>\n",
       "      <th>1</th>\n",
       "      <td>NOR</td>\n",
       "      <td>Norte</td>\n",
       "    </tr>\n",
       "    <tr>\n",
       "      <th>2</th>\n",
       "      <td>NRT</td>\n",
       "      <td>Nororiental</td>\n",
       "    </tr>\n",
       "    <tr>\n",
       "      <th>3</th>\n",
       "      <td>SUR</td>\n",
       "      <td>Suroriental</td>\n",
       "    </tr>\n",
       "    <tr>\n",
       "      <th>4</th>\n",
       "      <td>CNT</td>\n",
       "      <td>Central</td>\n",
       "    </tr>\n",
       "  </tbody>\n",
       "</table>\n",
       "</div>"
      ],
      "text/plain": [
       "  region_id         region\n",
       "0       MET  Metropolitana\n",
       "1       NOR          Norte\n",
       "2       NRT    Nororiental\n",
       "3       SUR    Suroriental\n",
       "4       CNT        Central"
      ]
     },
     "execution_count": 44,
     "metadata": {},
     "output_type": "execute_result"
    }
   ],
   "source": [
    "import io\n",
    "\n",
    "for remoteFile in remoteFileList:\n",
    "    try:\n",
    "        file = s3.Bucket(S3_BUCKET_NAME).Object(remoteFile).get()\n",
    "        data = file['Body'].read()\n",
    "        df_region = pd.read_csv('REGION.csv')\n",
    "    except Exception as ex:\n",
    "        print(\"No es un archivo.\")\n",
    "        print(ex)\n",
    "\n",
    "df_region.head()"
   ]
  },
  {
   "cell_type": "code",
   "execution_count": 45,
   "metadata": {},
   "outputs": [
    {
     "name": "stdout",
     "output_type": "stream",
     "text": [
      "Se han insertado 8 nuevos registros.\n"
     ]
    }
   ],
   "source": [
    "insertDataToSQL(df_region, 'region')"
   ]
  },
  {
   "cell_type": "code",
   "execution_count": 46,
   "metadata": {},
   "outputs": [
    {
     "data": {
      "text/html": [
       "<div>\n",
       "<style scoped>\n",
       "    .dataframe tbody tr th:only-of-type {\n",
       "        vertical-align: middle;\n",
       "    }\n",
       "\n",
       "    .dataframe tbody tr th {\n",
       "        vertical-align: top;\n",
       "    }\n",
       "\n",
       "    .dataframe thead th {\n",
       "        text-align: right;\n",
       "    }\n",
       "</style>\n",
       "<table border=\"1\" class=\"dataframe\">\n",
       "  <thead>\n",
       "    <tr style=\"text-align: right;\">\n",
       "      <th></th>\n",
       "      <th>departamento_id</th>\n",
       "      <th>region_id</th>\n",
       "      <th>departamento</th>\n",
       "    </tr>\n",
       "  </thead>\n",
       "  <tbody>\n",
       "    <tr>\n",
       "      <th>0</th>\n",
       "      <td>GT-01</td>\n",
       "      <td>MET</td>\n",
       "      <td>Guatemala</td>\n",
       "    </tr>\n",
       "    <tr>\n",
       "      <th>1</th>\n",
       "      <td>GT-02</td>\n",
       "      <td>NOR</td>\n",
       "      <td>Alta Verapaz</td>\n",
       "    </tr>\n",
       "    <tr>\n",
       "      <th>2</th>\n",
       "      <td>GT-03</td>\n",
       "      <td>NOR</td>\n",
       "      <td>Baja Verapaz</td>\n",
       "    </tr>\n",
       "    <tr>\n",
       "      <th>3</th>\n",
       "      <td>GT-04</td>\n",
       "      <td>NRT</td>\n",
       "      <td>Chiquimula</td>\n",
       "    </tr>\n",
       "    <tr>\n",
       "      <th>4</th>\n",
       "      <td>GT-05</td>\n",
       "      <td>NRT</td>\n",
       "      <td>El Progreso</td>\n",
       "    </tr>\n",
       "  </tbody>\n",
       "</table>\n",
       "</div>"
      ],
      "text/plain": [
       "  departamento_id region_id  departamento\n",
       "0           GT-01       MET     Guatemala\n",
       "1           GT-02       NOR  Alta Verapaz\n",
       "2           GT-03       NOR  Baja Verapaz\n",
       "3           GT-04       NRT    Chiquimula\n",
       "4           GT-05       NRT   El Progreso"
      ]
     },
     "execution_count": 46,
     "metadata": {},
     "output_type": "execute_result"
    }
   ],
   "source": [
    "import io\n",
    "\n",
    "for remoteFile in remoteFileList:\n",
    "    try:\n",
    "        file = s3.Bucket(S3_BUCKET_NAME).Object(remoteFile).get()\n",
    "        data = file['Body'].read()\n",
    "        df_departamento = pd.read_csv('DEPARTAMENTO.csv')\n",
    "    except Exception as ex:\n",
    "        print(\"No es un archivo.\")\n",
    "        print(ex)\n",
    "\n",
    "df_departamento.head()"
   ]
  },
  {
   "cell_type": "code",
   "execution_count": 47,
   "metadata": {},
   "outputs": [
    {
     "name": "stdout",
     "output_type": "stream",
     "text": [
      "Se han insertado 22 nuevos registros.\n"
     ]
    }
   ],
   "source": [
    "insertDataToSQL(df_departamento, 'departamento')"
   ]
  },
  {
   "cell_type": "code",
   "execution_count": 48,
   "metadata": {},
   "outputs": [
    {
     "data": {
      "text/html": [
       "<div>\n",
       "<style scoped>\n",
       "    .dataframe tbody tr th:only-of-type {\n",
       "        vertical-align: middle;\n",
       "    }\n",
       "\n",
       "    .dataframe tbody tr th {\n",
       "        vertical-align: top;\n",
       "    }\n",
       "\n",
       "    .dataframe thead th {\n",
       "        text-align: right;\n",
       "    }\n",
       "</style>\n",
       "<table border=\"1\" class=\"dataframe\">\n",
       "  <thead>\n",
       "    <tr style=\"text-align: right;\">\n",
       "      <th></th>\n",
       "      <th>municipio_id</th>\n",
       "      <th>departamento_id</th>\n",
       "      <th>municipio</th>\n",
       "    </tr>\n",
       "  </thead>\n",
       "  <tbody>\n",
       "    <tr>\n",
       "      <th>0</th>\n",
       "      <td>GT-0101</td>\n",
       "      <td>GT-01</td>\n",
       "      <td>Guatemala</td>\n",
       "    </tr>\n",
       "    <tr>\n",
       "      <th>1</th>\n",
       "      <td>GT-0102</td>\n",
       "      <td>GT-01</td>\n",
       "      <td>Santa Catarina Pinula</td>\n",
       "    </tr>\n",
       "    <tr>\n",
       "      <th>2</th>\n",
       "      <td>GT-0103</td>\n",
       "      <td>GT-01</td>\n",
       "      <td>San José Pinula</td>\n",
       "    </tr>\n",
       "    <tr>\n",
       "      <th>3</th>\n",
       "      <td>GT-0104</td>\n",
       "      <td>GT-01</td>\n",
       "      <td>San José del Golfo</td>\n",
       "    </tr>\n",
       "    <tr>\n",
       "      <th>4</th>\n",
       "      <td>GT-0105</td>\n",
       "      <td>GT-01</td>\n",
       "      <td>Palencia</td>\n",
       "    </tr>\n",
       "  </tbody>\n",
       "</table>\n",
       "</div>"
      ],
      "text/plain": [
       "  municipio_id departamento_id              municipio\n",
       "0      GT-0101           GT-01              Guatemala\n",
       "1      GT-0102           GT-01  Santa Catarina Pinula\n",
       "2      GT-0103           GT-01        San José Pinula\n",
       "3      GT-0104           GT-01     San José del Golfo\n",
       "4      GT-0105           GT-01               Palencia"
      ]
     },
     "execution_count": 48,
     "metadata": {},
     "output_type": "execute_result"
    }
   ],
   "source": [
    "import io\n",
    "\n",
    "for remoteFile in remoteFileList:\n",
    "    try:\n",
    "        file = s3.Bucket(S3_BUCKET_NAME).Object(remoteFile).get()\n",
    "        data = file['Body'].read()\n",
    "        df_municipio = pd.read_csv('MUNICIPIO.csv')\n",
    "    except Exception as ex:\n",
    "        print(\"No es un archivo.\")\n",
    "        print(ex)\n",
    "\n",
    "df_municipio.head()"
   ]
  },
  {
   "cell_type": "code",
   "execution_count": 49,
   "metadata": {},
   "outputs": [
    {
     "name": "stdout",
     "output_type": "stream",
     "text": [
      "Se han insertado 329 nuevos registros.\n"
     ]
    }
   ],
   "source": [
    "insertDataToSQL(df_municipio, 'municipio')"
   ]
  },
  {
   "cell_type": "code",
   "execution_count": 50,
   "metadata": {},
   "outputs": [
    {
     "data": {
      "text/html": [
       "<div>\n",
       "<style scoped>\n",
       "    .dataframe tbody tr th:only-of-type {\n",
       "        vertical-align: middle;\n",
       "    }\n",
       "\n",
       "    .dataframe tbody tr th {\n",
       "        vertical-align: top;\n",
       "    }\n",
       "\n",
       "    .dataframe thead th {\n",
       "        text-align: right;\n",
       "    }\n",
       "</style>\n",
       "<table border=\"1\" class=\"dataframe\">\n",
       "  <thead>\n",
       "    <tr style=\"text-align: right;\">\n",
       "      <th></th>\n",
       "      <th>subcategoria_id</th>\n",
       "      <th>categoria_id</th>\n",
       "      <th>categoria</th>\n",
       "      <th>subcategoria</th>\n",
       "    </tr>\n",
       "  </thead>\n",
       "  <tbody>\n",
       "    <tr>\n",
       "      <th>0</th>\n",
       "      <td>ET</td>\n",
       "      <td>MAT</td>\n",
       "      <td>Material de oficina</td>\n",
       "      <td>Etiquetas</td>\n",
       "    </tr>\n",
       "    <tr>\n",
       "      <th>1</th>\n",
       "      <td>MO</td>\n",
       "      <td>MOB</td>\n",
       "      <td>Mobiliario</td>\n",
       "      <td>Mobiliario</td>\n",
       "    </tr>\n",
       "    <tr>\n",
       "      <th>2</th>\n",
       "      <td>LI</td>\n",
       "      <td>MOB</td>\n",
       "      <td>Mobiliario</td>\n",
       "      <td>Librerías</td>\n",
       "    </tr>\n",
       "    <tr>\n",
       "      <th>3</th>\n",
       "      <td>CA</td>\n",
       "      <td>MAT</td>\n",
       "      <td>Material de oficina</td>\n",
       "      <td>Carpetas</td>\n",
       "    </tr>\n",
       "    <tr>\n",
       "      <th>4</th>\n",
       "      <td>AR</td>\n",
       "      <td>MAT</td>\n",
       "      <td>Material de oficina</td>\n",
       "      <td>Arte</td>\n",
       "    </tr>\n",
       "  </tbody>\n",
       "</table>\n",
       "</div>"
      ],
      "text/plain": [
       "  subcategoria_id categoria_id            categoria subcategoria\n",
       "0              ET          MAT  Material de oficina    Etiquetas\n",
       "1              MO          MOB           Mobiliario   Mobiliario\n",
       "2              LI          MOB           Mobiliario    Librerías\n",
       "3              CA          MAT  Material de oficina     Carpetas\n",
       "4              AR          MAT  Material de oficina         Arte"
      ]
     },
     "execution_count": 50,
     "metadata": {},
     "output_type": "execute_result"
    }
   ],
   "source": [
    "import io\n",
    "\n",
    "for remoteFile in remoteFileList:\n",
    "    try:\n",
    "        file = s3.Bucket(S3_BUCKET_NAME).Object(remoteFile).get()\n",
    "        data = file['Body'].read()\n",
    "        df_subcategoria = pd.read_csv('SUBCATEGORIA.csv')\n",
    "    except Exception as ex:\n",
    "        print(\"No es un archivo.\")\n",
    "        print(ex)\n",
    "\n",
    "df_subcategoria.head()"
   ]
  },
  {
   "cell_type": "code",
   "execution_count": 51,
   "metadata": {},
   "outputs": [
    {
     "name": "stdout",
     "output_type": "stream",
     "text": [
      "Se han insertado 17 nuevos registros.\n"
     ]
    }
   ],
   "source": [
    "insertDataToSQL(df_subcategoria, 'subcategoria')"
   ]
  },
  {
   "cell_type": "code",
   "execution_count": 52,
   "metadata": {},
   "outputs": [
    {
     "data": {
      "text/html": [
       "<div>\n",
       "<style scoped>\n",
       "    .dataframe tbody tr th:only-of-type {\n",
       "        vertical-align: middle;\n",
       "    }\n",
       "\n",
       "    .dataframe tbody tr th {\n",
       "        vertical-align: top;\n",
       "    }\n",
       "\n",
       "    .dataframe thead th {\n",
       "        text-align: right;\n",
       "    }\n",
       "</style>\n",
       "<table border=\"1\" class=\"dataframe\">\n",
       "  <thead>\n",
       "    <tr style=\"text-align: right;\">\n",
       "      <th></th>\n",
       "      <th>producto_id</th>\n",
       "      <th>categoria_id</th>\n",
       "      <th>subcategoria_id</th>\n",
       "      <th>nombre_del_producto</th>\n",
       "    </tr>\n",
       "  </thead>\n",
       "  <tbody>\n",
       "    <tr>\n",
       "      <th>0</th>\n",
       "      <td>MAT-ET-10000866</td>\n",
       "      <td>MAT</td>\n",
       "      <td>ET</td>\n",
       "      <td>Hon Etiquetas para carpetas de archivos, Ajust...</td>\n",
       "    </tr>\n",
       "    <tr>\n",
       "      <th>1</th>\n",
       "      <td>MOB-MO-10000543</td>\n",
       "      <td>MOB</td>\n",
       "      <td>MO</td>\n",
       "      <td>Tenex Reloj, Duradero</td>\n",
       "    </tr>\n",
       "    <tr>\n",
       "      <th>2</th>\n",
       "      <td>MOB-LI-10000111</td>\n",
       "      <td>MOB</td>\n",
       "      <td>LI</td>\n",
       "      <td>Ikea Vitrina, Blanco</td>\n",
       "    </tr>\n",
       "    <tr>\n",
       "      <th>3</th>\n",
       "      <td>MAT-CA-10004211</td>\n",
       "      <td>MAT</td>\n",
       "      <td>CA</td>\n",
       "      <td>Cardinal Carpeta, Transparente</td>\n",
       "    </tr>\n",
       "    <tr>\n",
       "      <th>4</th>\n",
       "      <td>MAT-AR-10001135</td>\n",
       "      <td>MAT</td>\n",
       "      <td>AR</td>\n",
       "      <td>Sanford Lienzos, Tamaños variados</td>\n",
       "    </tr>\n",
       "  </tbody>\n",
       "</table>\n",
       "</div>"
      ],
      "text/plain": [
       "       producto_id categoria_id subcategoria_id  \\\n",
       "0  MAT-ET-10000866          MAT              ET   \n",
       "1  MOB-MO-10000543          MOB              MO   \n",
       "2  MOB-LI-10000111          MOB              LI   \n",
       "3  MAT-CA-10004211          MAT              CA   \n",
       "4  MAT-AR-10001135          MAT              AR   \n",
       "\n",
       "                                 nombre_del_producto  \n",
       "0  Hon Etiquetas para carpetas de archivos, Ajust...  \n",
       "1                              Tenex Reloj, Duradero  \n",
       "2                               Ikea Vitrina, Blanco  \n",
       "3                     Cardinal Carpeta, Transparente  \n",
       "4                  Sanford Lienzos, Tamaños variados  "
      ]
     },
     "execution_count": 52,
     "metadata": {},
     "output_type": "execute_result"
    }
   ],
   "source": [
    "import io\n",
    "\n",
    "for remoteFile in remoteFileList:\n",
    "    try:\n",
    "        file = s3.Bucket(S3_BUCKET_NAME).Object(remoteFile).get()\n",
    "        data = file['Body'].read()\n",
    "        df_producto = pd.read_csv('PRODUCTO.csv')\n",
    "    except Exception as ex:\n",
    "        print(\"No es un archivo.\")\n",
    "        print(ex)\n",
    "\n",
    "df_producto.head()"
   ]
  },
  {
   "cell_type": "code",
   "execution_count": 53,
   "metadata": {},
   "outputs": [
    {
     "name": "stdout",
     "output_type": "stream",
     "text": [
      "Se han insertado 186 nuevos registros.\n"
     ]
    }
   ],
   "source": [
    "insertDataToSQL(df_producto, 'producto')"
   ]
  },
  {
   "cell_type": "code",
   "execution_count": 54,
   "metadata": {},
   "outputs": [
    {
     "data": {
      "text/html": [
       "<div>\n",
       "<style scoped>\n",
       "    .dataframe tbody tr th:only-of-type {\n",
       "        vertical-align: middle;\n",
       "    }\n",
       "\n",
       "    .dataframe tbody tr th {\n",
       "        vertical-align: top;\n",
       "    }\n",
       "\n",
       "    .dataframe thead th {\n",
       "        text-align: right;\n",
       "    }\n",
       "</style>\n",
       "<table border=\"1\" class=\"dataframe\">\n",
       "  <thead>\n",
       "    <tr style=\"text-align: right;\">\n",
       "      <th></th>\n",
       "      <th>segmento_id</th>\n",
       "      <th>segmento</th>\n",
       "    </tr>\n",
       "  </thead>\n",
       "  <tbody>\n",
       "    <tr>\n",
       "      <th>0</th>\n",
       "      <td>CL</td>\n",
       "      <td>Cliente</td>\n",
       "    </tr>\n",
       "    <tr>\n",
       "      <th>1</th>\n",
       "      <td>PE</td>\n",
       "      <td>Pequeña empresa</td>\n",
       "    </tr>\n",
       "    <tr>\n",
       "      <th>2</th>\n",
       "      <td>ME</td>\n",
       "      <td>Empresa</td>\n",
       "    </tr>\n",
       "  </tbody>\n",
       "</table>\n",
       "</div>"
      ],
      "text/plain": [
       "  segmento_id         segmento\n",
       "0          CL          Cliente\n",
       "1          PE  Pequeña empresa\n",
       "2          ME          Empresa"
      ]
     },
     "execution_count": 54,
     "metadata": {},
     "output_type": "execute_result"
    }
   ],
   "source": [
    "import io\n",
    "\n",
    "for remoteFile in remoteFileList:\n",
    "    try:\n",
    "        file = s3.Bucket(S3_BUCKET_NAME).Object(remoteFile).get()\n",
    "        data = file['Body'].read()\n",
    "        df_segmento = pd.read_csv('SEGMENTO.csv')\n",
    "    except Exception as ex:\n",
    "        print(\"No es un archivo.\")\n",
    "        print(ex)\n",
    "\n",
    "df_segmento.head()"
   ]
  },
  {
   "cell_type": "code",
   "execution_count": 55,
   "metadata": {},
   "outputs": [
    {
     "name": "stdout",
     "output_type": "stream",
     "text": [
      "Se han insertado 3 nuevos registros.\n"
     ]
    }
   ],
   "source": [
    "insertDataToSQL(df_segmento, 'segmento')"
   ]
  },
  {
   "cell_type": "code",
   "execution_count": 56,
   "metadata": {},
   "outputs": [
    {
     "data": {
      "text/html": [
       "<div>\n",
       "<style scoped>\n",
       "    .dataframe tbody tr th:only-of-type {\n",
       "        vertical-align: middle;\n",
       "    }\n",
       "\n",
       "    .dataframe tbody tr th {\n",
       "        vertical-align: top;\n",
       "    }\n",
       "\n",
       "    .dataframe thead th {\n",
       "        text-align: right;\n",
       "    }\n",
       "</style>\n",
       "<table border=\"1\" class=\"dataframe\">\n",
       "  <thead>\n",
       "    <tr style=\"text-align: right;\">\n",
       "      <th></th>\n",
       "      <th>cliente_id</th>\n",
       "      <th>nombre_del_cliente</th>\n",
       "      <th>segmento_id</th>\n",
       "      <th>region_id</th>\n",
       "      <th>departamento_id</th>\n",
       "      <th>municipio_id</th>\n",
       "    </tr>\n",
       "  </thead>\n",
       "  <tbody>\n",
       "    <tr>\n",
       "      <th>0</th>\n",
       "      <td>RC-20575</td>\n",
       "      <td>Reyes Coto</td>\n",
       "      <td>CL</td>\n",
       "      <td>MET</td>\n",
       "      <td>GT-01</td>\n",
       "      <td>GT-0101</td>\n",
       "    </tr>\n",
       "    <tr>\n",
       "      <th>1</th>\n",
       "      <td>IG-16570</td>\n",
       "      <td>Iván Girón</td>\n",
       "      <td>CL</td>\n",
       "      <td>MET</td>\n",
       "      <td>GT-01</td>\n",
       "      <td>GT-0102</td>\n",
       "    </tr>\n",
       "    <tr>\n",
       "      <th>2</th>\n",
       "      <td>CV-13000</td>\n",
       "      <td>Cristina Vázquez</td>\n",
       "      <td>CL</td>\n",
       "      <td>MET</td>\n",
       "      <td>GT-01</td>\n",
       "      <td>GT-0107</td>\n",
       "    </tr>\n",
       "    <tr>\n",
       "      <th>3</th>\n",
       "      <td>TR-21250</td>\n",
       "      <td>Trinidad Rubio</td>\n",
       "      <td>CL</td>\n",
       "      <td>MET</td>\n",
       "      <td>GT-01</td>\n",
       "      <td>GT-0112</td>\n",
       "    </tr>\n",
       "    <tr>\n",
       "      <th>4</th>\n",
       "      <td>MG-18910</td>\n",
       "      <td>Mireia Garay</td>\n",
       "      <td>PE</td>\n",
       "      <td>MET</td>\n",
       "      <td>GT-01</td>\n",
       "      <td>GT-0114</td>\n",
       "    </tr>\n",
       "  </tbody>\n",
       "</table>\n",
       "</div>"
      ],
      "text/plain": [
       "  cliente_id nombre_del_cliente segmento_id region_id departamento_id  \\\n",
       "0   RC-20575         Reyes Coto          CL       MET           GT-01   \n",
       "1   IG-16570         Iván Girón          CL       MET           GT-01   \n",
       "2   CV-13000   Cristina Vázquez          CL       MET           GT-01   \n",
       "3   TR-21250     Trinidad Rubio          CL       MET           GT-01   \n",
       "4   MG-18910       Mireia Garay          PE       MET           GT-01   \n",
       "\n",
       "  municipio_id  \n",
       "0      GT-0101  \n",
       "1      GT-0102  \n",
       "2      GT-0107  \n",
       "3      GT-0112  \n",
       "4      GT-0114  "
      ]
     },
     "execution_count": 56,
     "metadata": {},
     "output_type": "execute_result"
    }
   ],
   "source": [
    "import io\n",
    "\n",
    "for remoteFile in remoteFileList:\n",
    "    try:\n",
    "        file = s3.Bucket(S3_BUCKET_NAME).Object(remoteFile).get()\n",
    "        data = file['Body'].read()\n",
    "        df_cliente = pd.read_csv('CLIENTE.csv')\n",
    "    except Exception as ex:\n",
    "        print(\"No es un archivo.\")\n",
    "        print(ex)\n",
    "\n",
    "df_cliente.head()"
   ]
  },
  {
   "cell_type": "code",
   "execution_count": 57,
   "metadata": {},
   "outputs": [
    {
     "name": "stdout",
     "output_type": "stream",
     "text": [
      "Se han insertado 794 nuevos registros.\n"
     ]
    }
   ],
   "source": [
    "insertDataToSQL(df_cliente, 'cliente')"
   ]
  },
  {
   "cell_type": "code",
   "execution_count": 62,
   "metadata": {},
   "outputs": [
    {
     "data": {
      "text/html": [
       "<div>\n",
       "<style scoped>\n",
       "    .dataframe tbody tr th:only-of-type {\n",
       "        vertical-align: middle;\n",
       "    }\n",
       "\n",
       "    .dataframe tbody tr th {\n",
       "        vertical-align: top;\n",
       "    }\n",
       "\n",
       "    .dataframe thead th {\n",
       "        text-align: right;\n",
       "    }\n",
       "</style>\n",
       "<table border=\"1\" class=\"dataframe\">\n",
       "  <thead>\n",
       "    <tr style=\"text-align: right;\">\n",
       "      <th></th>\n",
       "      <th>gerente_id</th>\n",
       "      <th>gerente_regional</th>\n",
       "    </tr>\n",
       "  </thead>\n",
       "  <tbody>\n",
       "    <tr>\n",
       "      <th>0</th>\n",
       "      <td>1001</td>\n",
       "      <td>Eva Lara</td>\n",
       "    </tr>\n",
       "    <tr>\n",
       "      <th>1</th>\n",
       "      <td>1010</td>\n",
       "      <td>Silvia Pérez</td>\n",
       "    </tr>\n",
       "    <tr>\n",
       "      <th>2</th>\n",
       "      <td>1020</td>\n",
       "      <td>Augusto Olivares</td>\n",
       "    </tr>\n",
       "    <tr>\n",
       "      <th>3</th>\n",
       "      <td>1023</td>\n",
       "      <td>Gabriela Bustamante</td>\n",
       "    </tr>\n",
       "    <tr>\n",
       "      <th>4</th>\n",
       "      <td>1551</td>\n",
       "      <td>Alejandro Villatoro</td>\n",
       "    </tr>\n",
       "  </tbody>\n",
       "</table>\n",
       "</div>"
      ],
      "text/plain": [
       "   gerente_id     gerente_regional\n",
       "0        1001             Eva Lara\n",
       "1        1010         Silvia Pérez\n",
       "2        1020     Augusto Olivares\n",
       "3        1023  Gabriela Bustamante\n",
       "4        1551  Alejandro Villatoro"
      ]
     },
     "execution_count": 62,
     "metadata": {},
     "output_type": "execute_result"
    }
   ],
   "source": [
    "import io\n",
    "\n",
    "for remoteFile in remoteFileList:\n",
    "    try:\n",
    "        file = s3.Bucket(S3_BUCKET_NAME).Object(remoteFile).get()\n",
    "        data = file['Body'].read()\n",
    "        df_gerente = pd.read_csv('GERENTE.csv')\n",
    "    except Exception as ex:\n",
    "        print(\"No es un archivo.\")\n",
    "        print(ex)\n",
    "\n",
    "df_gerente.head()"
   ]
  },
  {
   "cell_type": "code",
   "execution_count": 63,
   "metadata": {},
   "outputs": [
    {
     "name": "stdout",
     "output_type": "stream",
     "text": [
      "Se han insertado 8 nuevos registros.\n"
     ]
    }
   ],
   "source": [
    "insertDataToSQL(df_gerente, 'gerente')"
   ]
  },
  {
   "cell_type": "code",
   "execution_count": 64,
   "metadata": {},
   "outputs": [
    {
     "data": {
      "text/html": [
       "<div>\n",
       "<style scoped>\n",
       "    .dataframe tbody tr th:only-of-type {\n",
       "        vertical-align: middle;\n",
       "    }\n",
       "\n",
       "    .dataframe tbody tr th {\n",
       "        vertical-align: top;\n",
       "    }\n",
       "\n",
       "    .dataframe thead th {\n",
       "        text-align: right;\n",
       "    }\n",
       "</style>\n",
       "<table border=\"1\" class=\"dataframe\">\n",
       "  <thead>\n",
       "    <tr style=\"text-align: right;\">\n",
       "      <th></th>\n",
       "      <th>store_id</th>\n",
       "      <th>region_id</th>\n",
       "      <th>gerente_id</th>\n",
       "      <th>store</th>\n",
       "    </tr>\n",
       "  </thead>\n",
       "  <tbody>\n",
       "    <tr>\n",
       "      <th>0</th>\n",
       "      <td>G10</td>\n",
       "      <td>MET</td>\n",
       "      <td>1001</td>\n",
       "      <td>CENTRAL 2</td>\n",
       "    </tr>\n",
       "    <tr>\n",
       "      <th>1</th>\n",
       "      <td>G20</td>\n",
       "      <td>NOR</td>\n",
       "      <td>1010</td>\n",
       "      <td>PETEN</td>\n",
       "    </tr>\n",
       "    <tr>\n",
       "      <th>2</th>\n",
       "      <td>G30</td>\n",
       "      <td>NRT</td>\n",
       "      <td>1020</td>\n",
       "      <td>IZABAL</td>\n",
       "    </tr>\n",
       "    <tr>\n",
       "      <th>3</th>\n",
       "      <td>G40</td>\n",
       "      <td>SUR</td>\n",
       "      <td>1023</td>\n",
       "      <td>ESCUINTLA</td>\n",
       "    </tr>\n",
       "    <tr>\n",
       "      <th>4</th>\n",
       "      <td>G50</td>\n",
       "      <td>CNT</td>\n",
       "      <td>1551</td>\n",
       "      <td>CENTRAL 1</td>\n",
       "    </tr>\n",
       "  </tbody>\n",
       "</table>\n",
       "</div>"
      ],
      "text/plain": [
       "  store_id region_id  gerente_id      store\n",
       "0      G10       MET        1001  CENTRAL 2\n",
       "1      G20       NOR        1010      PETEN\n",
       "2      G30       NRT        1020     IZABAL\n",
       "3      G40       SUR        1023  ESCUINTLA\n",
       "4      G50       CNT        1551  CENTRAL 1"
      ]
     },
     "execution_count": 64,
     "metadata": {},
     "output_type": "execute_result"
    }
   ],
   "source": [
    "import io\n",
    "\n",
    "for remoteFile in remoteFileList:\n",
    "    try:\n",
    "        file = s3.Bucket(S3_BUCKET_NAME).Object(remoteFile).get()\n",
    "        data = file['Body'].read()\n",
    "        df_store = pd.read_csv('STORE.csv')\n",
    "    except Exception as ex:\n",
    "        print(\"No es un archivo.\")\n",
    "        print(ex)\n",
    "\n",
    "df_store.head()"
   ]
  },
  {
   "cell_type": "code",
   "execution_count": 65,
   "metadata": {},
   "outputs": [
    {
     "name": "stdout",
     "output_type": "stream",
     "text": [
      "Se han insertado 8 nuevos registros.\n"
     ]
    }
   ],
   "source": [
    "insertDataToSQL(df_store, 'store')"
   ]
  },
  {
   "cell_type": "code",
   "execution_count": 73,
   "metadata": {},
   "outputs": [
    {
     "data": {
      "text/html": [
       "<div>\n",
       "<style scoped>\n",
       "    .dataframe tbody tr th:only-of-type {\n",
       "        vertical-align: middle;\n",
       "    }\n",
       "\n",
       "    .dataframe tbody tr th {\n",
       "        vertical-align: top;\n",
       "    }\n",
       "\n",
       "    .dataframe thead th {\n",
       "        text-align: right;\n",
       "    }\n",
       "</style>\n",
       "<table border=\"1\" class=\"dataframe\">\n",
       "  <thead>\n",
       "    <tr style=\"text-align: right;\">\n",
       "      <th></th>\n",
       "      <th>envio_id</th>\n",
       "      <th>forma_de_envio</th>\n",
       "    </tr>\n",
       "  </thead>\n",
       "  <tbody>\n",
       "    <tr>\n",
       "      <th>0</th>\n",
       "      <td>1001</td>\n",
       "      <td>Estándar</td>\n",
       "    </tr>\n",
       "    <tr>\n",
       "      <th>1</th>\n",
       "      <td>1002</td>\n",
       "      <td>Rápido</td>\n",
       "    </tr>\n",
       "    <tr>\n",
       "      <th>2</th>\n",
       "      <td>1003</td>\n",
       "      <td>Urgente</td>\n",
       "    </tr>\n",
       "    <tr>\n",
       "      <th>3</th>\n",
       "      <td>1004</td>\n",
       "      <td>Mismo día</td>\n",
       "    </tr>\n",
       "  </tbody>\n",
       "</table>\n",
       "</div>"
      ],
      "text/plain": [
       "   envio_id forma_de_envio\n",
       "0      1001       Estándar\n",
       "1      1002         Rápido\n",
       "2      1003        Urgente\n",
       "3      1004      Mismo día"
      ]
     },
     "execution_count": 73,
     "metadata": {},
     "output_type": "execute_result"
    }
   ],
   "source": [
    "import io\n",
    "\n",
    "for remoteFile in remoteFileList:\n",
    "    try:\n",
    "        file = s3.Bucket(S3_BUCKET_NAME).Object(remoteFile).get()\n",
    "        data = file['Body'].read()\n",
    "        df_envio = pd.read_csv('ENVIO.csv')\n",
    "    except Exception as ex:\n",
    "        print(\"No es un archivo.\")\n",
    "        print(ex)\n",
    "\n",
    "df_envio.head()"
   ]
  },
  {
   "cell_type": "code",
   "execution_count": 74,
   "metadata": {},
   "outputs": [
    {
     "name": "stdout",
     "output_type": "stream",
     "text": [
      "Se han insertado 4 nuevos registros.\n"
     ]
    }
   ],
   "source": [
    "insertDataToSQL(df_envio, 'envio')"
   ]
  },
  {
   "cell_type": "code",
   "execution_count": 71,
   "metadata": {},
   "outputs": [
    {
     "data": {
      "text/html": [
       "<div>\n",
       "<style scoped>\n",
       "    .dataframe tbody tr th:only-of-type {\n",
       "        vertical-align: middle;\n",
       "    }\n",
       "\n",
       "    .dataframe tbody tr th {\n",
       "        vertical-align: top;\n",
       "    }\n",
       "\n",
       "    .dataframe thead th {\n",
       "        text-align: right;\n",
       "    }\n",
       "</style>\n",
       "<table border=\"1\" class=\"dataframe\">\n",
       "  <thead>\n",
       "    <tr style=\"text-align: right;\">\n",
       "      <th></th>\n",
       "      <th>pedido_id</th>\n",
       "      <th>fecha_pedido</th>\n",
       "      <th>fecha_de_envio</th>\n",
       "      <th>envio_id</th>\n",
       "      <th>cliente_id</th>\n",
       "      <th>store_id</th>\n",
       "      <th>producto_id</th>\n",
       "      <th>total</th>\n",
       "      <th>cantidad</th>\n",
       "      <th>descuento</th>\n",
       "      <th>ganancia</th>\n",
       "    </tr>\n",
       "  </thead>\n",
       "  <tbody>\n",
       "    <tr>\n",
       "      <th>0</th>\n",
       "      <td>GT-2014-1436581</td>\n",
       "      <td>10/2/2014</td>\n",
       "      <td>10/6/2014</td>\n",
       "      <td>1001</td>\n",
       "      <td>RC-20575</td>\n",
       "      <td>G10</td>\n",
       "      <td>MAT-ET-10000866</td>\n",
       "      <td>130.8</td>\n",
       "      <td>3</td>\n",
       "      <td>0.0</td>\n",
       "      <td>45.6</td>\n",
       "    </tr>\n",
       "    <tr>\n",
       "      <th>1</th>\n",
       "      <td>GT-2014-1436582</td>\n",
       "      <td>10/15/2012</td>\n",
       "      <td>10/20/2012</td>\n",
       "      <td>1001</td>\n",
       "      <td>IG-16570</td>\n",
       "      <td>G10</td>\n",
       "      <td>MOB-MO-10000543</td>\n",
       "      <td>2521.6</td>\n",
       "      <td>8</td>\n",
       "      <td>0.0</td>\n",
       "      <td>907.2</td>\n",
       "    </tr>\n",
       "    <tr>\n",
       "      <th>2</th>\n",
       "      <td>GT-2014-1436583</td>\n",
       "      <td>10/15/2012</td>\n",
       "      <td>10/20/2012</td>\n",
       "      <td>1001</td>\n",
       "      <td>IG-16570</td>\n",
       "      <td>G10</td>\n",
       "      <td>MOB-LI-10000111</td>\n",
       "      <td>1932.8</td>\n",
       "      <td>2</td>\n",
       "      <td>0.0</td>\n",
       "      <td>540.8</td>\n",
       "    </tr>\n",
       "    <tr>\n",
       "      <th>3</th>\n",
       "      <td>GT-2014-1436584</td>\n",
       "      <td>10/15/2012</td>\n",
       "      <td>10/20/2012</td>\n",
       "      <td>1001</td>\n",
       "      <td>IG-16570</td>\n",
       "      <td>G10</td>\n",
       "      <td>MAT-CA-10004211</td>\n",
       "      <td>354.4</td>\n",
       "      <td>4</td>\n",
       "      <td>0.0</td>\n",
       "      <td>49.6</td>\n",
       "    </tr>\n",
       "    <tr>\n",
       "      <th>4</th>\n",
       "      <td>GT-2014-1436585</td>\n",
       "      <td>10/15/2012</td>\n",
       "      <td>10/20/2012</td>\n",
       "      <td>1001</td>\n",
       "      <td>IG-16570</td>\n",
       "      <td>G10</td>\n",
       "      <td>MAT-AR-10001135</td>\n",
       "      <td>716.0</td>\n",
       "      <td>2</td>\n",
       "      <td>0.0</td>\n",
       "      <td>114.4</td>\n",
       "    </tr>\n",
       "  </tbody>\n",
       "</table>\n",
       "</div>"
      ],
      "text/plain": [
       "         pedido_id fecha_pedido fecha_de_envio  envio_id cliente_id store_id  \\\n",
       "0  GT-2014-1436581    10/2/2014      10/6/2014      1001   RC-20575      G10   \n",
       "1  GT-2014-1436582   10/15/2012     10/20/2012      1001   IG-16570      G10   \n",
       "2  GT-2014-1436583   10/15/2012     10/20/2012      1001   IG-16570      G10   \n",
       "3  GT-2014-1436584   10/15/2012     10/20/2012      1001   IG-16570      G10   \n",
       "4  GT-2014-1436585   10/15/2012     10/20/2012      1001   IG-16570      G10   \n",
       "\n",
       "       producto_id   total  cantidad  descuento  ganancia  \n",
       "0  MAT-ET-10000866   130.8         3        0.0      45.6  \n",
       "1  MOB-MO-10000543  2521.6         8        0.0     907.2  \n",
       "2  MOB-LI-10000111  1932.8         2        0.0     540.8  \n",
       "3  MAT-CA-10004211   354.4         4        0.0      49.6  \n",
       "4  MAT-AR-10001135   716.0         2        0.0     114.4  "
      ]
     },
     "execution_count": 71,
     "metadata": {},
     "output_type": "execute_result"
    }
   ],
   "source": [
    "import io\n",
    "\n",
    "for remoteFile in remoteFileList:\n",
    "    try:\n",
    "        file = s3.Bucket(S3_BUCKET_NAME).Object(remoteFile).get()\n",
    "        data = file['Body'].read()\n",
    "        df_ventas = pd.read_csv('VENTAS.csv')\n",
    "    except Exception as ex:\n",
    "        print(\"No es un archivo.\")\n",
    "        print(ex)\n",
    "\n",
    "df_ventas.head()"
   ]
  },
  {
   "cell_type": "code",
   "execution_count": 82,
   "metadata": {},
   "outputs": [
    {
     "name": "stdout",
     "output_type": "stream",
     "text": [
      "Se han insertado 288 nuevos registros.\n"
     ]
    }
   ],
   "source": [
    "insertDataToSQL(df_ventas, 'ventas')"
   ]
  },
  {
   "cell_type": "code",
   "execution_count": 83,
   "metadata": {},
   "outputs": [
    {
     "data": {
      "text/html": [
       "<div>\n",
       "<style scoped>\n",
       "    .dataframe tbody tr th:only-of-type {\n",
       "        vertical-align: middle;\n",
       "    }\n",
       "\n",
       "    .dataframe tbody tr th {\n",
       "        vertical-align: top;\n",
       "    }\n",
       "\n",
       "    .dataframe thead th {\n",
       "        text-align: right;\n",
       "    }\n",
       "</style>\n",
       "<table border=\"1\" class=\"dataframe\">\n",
       "  <thead>\n",
       "    <tr style=\"text-align: right;\">\n",
       "      <th></th>\n",
       "      <th>pedido_id</th>\n",
       "      <th>devuelto</th>\n",
       "    </tr>\n",
       "  </thead>\n",
       "  <tbody>\n",
       "    <tr>\n",
       "      <th>0</th>\n",
       "      <td>GT-2014-1436581</td>\n",
       "      <td>Sí</td>\n",
       "    </tr>\n",
       "    <tr>\n",
       "      <th>1</th>\n",
       "      <td>GT-2014-14365810</td>\n",
       "      <td>Sí</td>\n",
       "    </tr>\n",
       "    <tr>\n",
       "      <th>2</th>\n",
       "      <td>GT-2014-143658100</td>\n",
       "      <td>Sí</td>\n",
       "    </tr>\n",
       "    <tr>\n",
       "      <th>3</th>\n",
       "      <td>GT-2014-1436581000</td>\n",
       "      <td>Sí</td>\n",
       "    </tr>\n",
       "    <tr>\n",
       "      <th>4</th>\n",
       "      <td>GT-2014-14365810000</td>\n",
       "      <td>Sí</td>\n",
       "    </tr>\n",
       "  </tbody>\n",
       "</table>\n",
       "</div>"
      ],
      "text/plain": [
       "             pedido_id devuelto\n",
       "0      GT-2014-1436581       Sí\n",
       "1     GT-2014-14365810       Sí\n",
       "2    GT-2014-143658100       Sí\n",
       "3   GT-2014-1436581000       Sí\n",
       "4  GT-2014-14365810000       Sí"
      ]
     },
     "execution_count": 83,
     "metadata": {},
     "output_type": "execute_result"
    }
   ],
   "source": [
    "import io\n",
    "\n",
    "for remoteFile in remoteFileList:\n",
    "    try:\n",
    "        file = s3.Bucket(S3_BUCKET_NAME).Object(remoteFile).get()\n",
    "        data = file['Body'].read()\n",
    "        df_devolucion = pd.read_csv('DEVOLUCIONES.csv')\n",
    "    except Exception as ex:\n",
    "        print(\"No es un archivo.\")\n",
    "        print(ex)\n",
    "\n",
    "df_devolucion.head()"
   ]
  },
  {
   "cell_type": "code",
   "execution_count": 84,
   "metadata": {},
   "outputs": [
    {
     "name": "stdout",
     "output_type": "stream",
     "text": [
      "Se han insertado 297 nuevos registros.\n"
     ]
    }
   ],
   "source": [
    "insertDataToSQL(df_devolucion, 'devolucion')"
   ]
  },
  {
   "attachments": {},
   "cell_type": "markdown",
   "metadata": {},
   "source": [
    "### CREACION DE LOS RECURSOS EN RDS PARA DATA WAREHOUSE"
   ]
  },
  {
   "cell_type": "code",
   "execution_count": 85,
   "metadata": {},
   "outputs": [],
   "source": [
    "rds2Identifier = 'DWH'"
   ]
  },
  {
   "cell_type": "code",
   "execution_count": 86,
   "metadata": {},
   "outputs": [
    {
     "name": "stdout",
     "output_type": "stream",
     "text": [
      "{'DBInstance': {'DBInstanceIdentifier': 'dwh', 'DBInstanceClass': 'db.t3.micro', 'Engine': 'postgres', 'DBInstanceStatus': 'creating', 'MasterUsername': 'postgres', 'DBName': 'DWH', 'AllocatedStorage': 10, 'PreferredBackupWindow': '03:52-04:22', 'BackupRetentionPeriod': 1, 'DBSecurityGroups': [], 'VpcSecurityGroups': [{'VpcSecurityGroupId': 'sg-008e1623a182fda6c', 'Status': 'active'}], 'DBParameterGroups': [{'DBParameterGroupName': 'default.postgres14', 'ParameterApplyStatus': 'in-sync'}], 'DBSubnetGroup': {'DBSubnetGroupName': 'default', 'DBSubnetGroupDescription': 'default', 'VpcId': 'vpc-0e9ad43e5e102799b', 'SubnetGroupStatus': 'Complete', 'Subnets': [{'SubnetIdentifier': 'subnet-05fa9ae41a65d125b', 'SubnetAvailabilityZone': {'Name': 'us-east-1f'}, 'SubnetOutpost': {}, 'SubnetStatus': 'Active'}, {'SubnetIdentifier': 'subnet-05e41800505383ed7', 'SubnetAvailabilityZone': {'Name': 'us-east-1a'}, 'SubnetOutpost': {}, 'SubnetStatus': 'Active'}, {'SubnetIdentifier': 'subnet-093017ed8fc6e4a22', 'SubnetAvailabilityZone': {'Name': 'us-east-1d'}, 'SubnetOutpost': {}, 'SubnetStatus': 'Active'}, {'SubnetIdentifier': 'subnet-0f32e91db935621f4', 'SubnetAvailabilityZone': {'Name': 'us-east-1e'}, 'SubnetOutpost': {}, 'SubnetStatus': 'Active'}, {'SubnetIdentifier': 'subnet-082c87108caa3c9f5', 'SubnetAvailabilityZone': {'Name': 'us-east-1c'}, 'SubnetOutpost': {}, 'SubnetStatus': 'Active'}, {'SubnetIdentifier': 'subnet-0672a9aedecbfc54c', 'SubnetAvailabilityZone': {'Name': 'us-east-1b'}, 'SubnetOutpost': {}, 'SubnetStatus': 'Active'}]}, 'PreferredMaintenanceWindow': 'wed:07:23-wed:07:53', 'PendingModifiedValues': {'MasterUserPassword': '****'}, 'MultiAZ': False, 'EngineVersion': '14.6', 'AutoMinorVersionUpgrade': True, 'ReadReplicaDBInstanceIdentifiers': [], 'LicenseModel': 'postgresql-license', 'OptionGroupMemberships': [{'OptionGroupName': 'default:postgres-14', 'Status': 'in-sync'}], 'PubliclyAccessible': True, 'StorageType': 'gp2', 'DbInstancePort': 0, 'StorageEncrypted': False, 'DbiResourceId': 'db-SZ7IXDUII7G57OLXQO2HISFDDQ', 'CACertificateIdentifier': 'rds-ca-2019', 'DomainMemberships': [], 'CopyTagsToSnapshot': False, 'MonitoringInterval': 0, 'DBInstanceArn': 'arn:aws:rds:us-east-1:819466016857:db:dwh', 'IAMDatabaseAuthenticationEnabled': False, 'PerformanceInsightsEnabled': False, 'DeletionProtection': False, 'AssociatedRoles': [], 'TagList': [], 'CustomerOwnedIpEnabled': False, 'BackupTarget': 'region', 'NetworkType': 'IPV4'}, 'ResponseMetadata': {'RequestId': '71ddc7c7-f523-483f-b1c2-70e79d24efc9', 'HTTPStatusCode': 200, 'HTTPHeaders': {'x-amzn-requestid': '71ddc7c7-f523-483f-b1c2-70e79d24efc9', 'strict-transport-security': 'max-age=31536000', 'content-type': 'text/xml', 'content-length': '5189', 'date': 'Sat, 08 Apr 2023 23:28:51 GMT'}, 'RetryAttempts': 0}}\n"
     ]
    }
   ],
   "source": [
    "try:\n",
    "    response = aws_conn.create_db_instance(\n",
    "            AllocatedStorage=10,\n",
    "            DBName=config.get('DWH', 'DB_NAME'),\n",
    "            DBInstanceIdentifier=rds2Identifier,\n",
    "            DBInstanceClass=\"db.t3.micro\",\n",
    "            Engine=\"postgres\",\n",
    "            MasterUsername=config.get('DWH', 'DB_USER'),\n",
    "            MasterUserPassword=config.get('DWH', 'DB_PASSWORD'),\n",
    "            Port=int(config.get('DWH', 'DB_PORT')),\n",
    "            VpcSecurityGroupIds=[config.get('VPC', 'SECURITY_GROUP')],\n",
    "            PubliclyAccessible=True\n",
    "        )\n",
    "    print(response)\n",
    "except aws_conn.exceptions.DBInstanceAlreadyExistsFault as ex:\n",
    "    print(\"La Instancia de Base de Datos ya Existe.\")"
   ]
  },
  {
   "cell_type": "code",
   "execution_count": 171,
   "metadata": {},
   "outputs": [
    {
     "name": "stdout",
     "output_type": "stream",
     "text": [
      "dwh.cpvsavu5bx5f.us-east-1.rds.amazonaws.com\n"
     ]
    }
   ],
   "source": [
    "try:\n",
    "     instances = aws_conn.describe_db_instances(DBInstanceIdentifier=rds2Identifier)\n",
    "     DWH_HOST = instances.get('DBInstances')[0].get('Endpoint').get('Address')\n",
    "     print(DWH_HOST)\n",
    "except Exception as ex:\n",
    "     print(\"La instancia de base de datos no existe o aun no se ha terminado de crear.\")\n",
    "     print(ex)"
   ]
  },
  {
   "cell_type": "code",
   "execution_count": 260,
   "metadata": {},
   "outputs": [
    {
     "name": "stdout",
     "output_type": "stream",
     "text": [
      "Base de Datos Creada Exitosamente\n"
     ]
    }
   ],
   "source": [
    "import SQL_DWH\n",
    "\n",
    "try:\n",
    "    db_conn = psycopg2.connect(\n",
    "        database=config.get('DWH', 'DB_NAME'), \n",
    "        user=config.get('DWH', 'DB_USER'),\n",
    "        password=config.get('DWH', 'DB_PASSWORD'), \n",
    "        host=DWH_HOST,\n",
    "        port=config.get('DWH', 'DB_PORT')\n",
    "    )\n",
    "\n",
    "    cursor = db_conn.cursor()\n",
    "    cursor.execute(SQL_DWH.DDL_QUERY)\n",
    "    db_conn.commit()\n",
    "    print(\"Base de Datos Creada Exitosamente\")\n",
    "except Exception as ex:\n",
    "    print(\"ERROR: Error al crear la base de datos.\")\n",
    "    print(ex)"
   ]
  },
  {
   "attachments": {},
   "cell_type": "markdown",
   "metadata": {},
   "source": [
    "### CREACION DE LAS DIMENSIONES"
   ]
  },
  {
   "cell_type": "code",
   "execution_count": 98,
   "metadata": {},
   "outputs": [
    {
     "name": "stdout",
     "output_type": "stream",
     "text": [
      "oltp.cpvsavu5bx5f.us-east-1.rds.amazonaws.com\n"
     ]
    }
   ],
   "source": [
    "RDS_HOST = 'oltp.cpvsavu5bx5f.us-east-1.rds.amazonaws.com'\n",
    "#RDS_HOST=config.get('OLTP', 'RDS_HOST')\n",
    "#RDS_HOST\n",
    "print(RDS_HOST)"
   ]
  },
  {
   "cell_type": "code",
   "execution_count": 99,
   "metadata": {},
   "outputs": [],
   "source": [
    "postgres_driver = f\"\"\"postgresql://{config.get('OLTP', 'DB_USER')}:{config.get('OLTP', 'DB_PASSWORD')}@{RDS_HOST}:{config.get('OLTP', 'DB_PORT')}/{config.get('OLTP', 'DB_NAME')}\"\"\"  "
   ]
  },
  {
   "attachments": {},
   "cell_type": "markdown",
   "metadata": {},
   "source": [
    "#### DIMENSION CLIENTES"
   ]
  },
  {
   "cell_type": "code",
   "execution_count": 101,
   "metadata": {},
   "outputs": [
    {
     "data": {
      "text/html": [
       "<div>\n",
       "<style scoped>\n",
       "    .dataframe tbody tr th:only-of-type {\n",
       "        vertical-align: middle;\n",
       "    }\n",
       "\n",
       "    .dataframe tbody tr th {\n",
       "        vertical-align: top;\n",
       "    }\n",
       "\n",
       "    .dataframe thead th {\n",
       "        text-align: right;\n",
       "    }\n",
       "</style>\n",
       "<table border=\"1\" class=\"dataframe\">\n",
       "  <thead>\n",
       "    <tr style=\"text-align: right;\">\n",
       "      <th></th>\n",
       "      <th>cliente_id</th>\n",
       "      <th>nombre_del_cliente</th>\n",
       "      <th>segmento_id</th>\n",
       "      <th>region_id</th>\n",
       "      <th>departamento_id</th>\n",
       "      <th>municipio_id</th>\n",
       "    </tr>\n",
       "  </thead>\n",
       "  <tbody>\n",
       "    <tr>\n",
       "      <th>0</th>\n",
       "      <td>RC-20575</td>\n",
       "      <td>Reyes Coto</td>\n",
       "      <td>CL</td>\n",
       "      <td>MET</td>\n",
       "      <td>GT-01</td>\n",
       "      <td>GT-0101</td>\n",
       "    </tr>\n",
       "    <tr>\n",
       "      <th>1</th>\n",
       "      <td>IG-16570</td>\n",
       "      <td>Iván Girón</td>\n",
       "      <td>CL</td>\n",
       "      <td>MET</td>\n",
       "      <td>GT-01</td>\n",
       "      <td>GT-0102</td>\n",
       "    </tr>\n",
       "    <tr>\n",
       "      <th>2</th>\n",
       "      <td>CV-13000</td>\n",
       "      <td>Cristina Vázquez</td>\n",
       "      <td>CL</td>\n",
       "      <td>MET</td>\n",
       "      <td>GT-01</td>\n",
       "      <td>GT-0107</td>\n",
       "    </tr>\n",
       "    <tr>\n",
       "      <th>3</th>\n",
       "      <td>TR-21250</td>\n",
       "      <td>Trinidad Rubio</td>\n",
       "      <td>CL</td>\n",
       "      <td>MET</td>\n",
       "      <td>GT-01</td>\n",
       "      <td>GT-0112</td>\n",
       "    </tr>\n",
       "    <tr>\n",
       "      <th>4</th>\n",
       "      <td>MG-18910</td>\n",
       "      <td>Mireia Garay</td>\n",
       "      <td>PE</td>\n",
       "      <td>MET</td>\n",
       "      <td>GT-01</td>\n",
       "      <td>GT-0114</td>\n",
       "    </tr>\n",
       "  </tbody>\n",
       "</table>\n",
       "</div>"
      ],
      "text/plain": [
       "  cliente_id nombre_del_cliente segmento_id region_id departamento_id  \\\n",
       "0   RC-20575         Reyes Coto          CL       MET           GT-01   \n",
       "1   IG-16570         Iván Girón          CL       MET           GT-01   \n",
       "2   CV-13000   Cristina Vázquez          CL       MET           GT-01   \n",
       "3   TR-21250     Trinidad Rubio          CL       MET           GT-01   \n",
       "4   MG-18910       Mireia Garay          PE       MET           GT-01   \n",
       "\n",
       "  municipio_id  \n",
       "0      GT-0101  \n",
       "1      GT-0102  \n",
       "2      GT-0107  \n",
       "3      GT-0112  \n",
       "4      GT-0114  "
      ]
     },
     "execution_count": 101,
     "metadata": {},
     "output_type": "execute_result"
    }
   ],
   "source": [
    "sql_query = 'SELECT * FROM cliente;'\n",
    "dw_cliente = pd.read_sql(sql_query, postgres_driver)\n",
    "dw_cliente.head()"
   ]
  },
  {
   "cell_type": "code",
   "execution_count": 102,
   "metadata": {},
   "outputs": [
    {
     "data": {
      "text/html": [
       "<div>\n",
       "<style scoped>\n",
       "    .dataframe tbody tr th:only-of-type {\n",
       "        vertical-align: middle;\n",
       "    }\n",
       "\n",
       "    .dataframe tbody tr th {\n",
       "        vertical-align: top;\n",
       "    }\n",
       "\n",
       "    .dataframe thead th {\n",
       "        text-align: right;\n",
       "    }\n",
       "</style>\n",
       "<table border=\"1\" class=\"dataframe\">\n",
       "  <thead>\n",
       "    <tr style=\"text-align: right;\">\n",
       "      <th></th>\n",
       "      <th>municipio_id</th>\n",
       "      <th>departamento_id</th>\n",
       "      <th>municipio</th>\n",
       "    </tr>\n",
       "  </thead>\n",
       "  <tbody>\n",
       "    <tr>\n",
       "      <th>0</th>\n",
       "      <td>GT-0101</td>\n",
       "      <td>GT-01</td>\n",
       "      <td>Guatemala</td>\n",
       "    </tr>\n",
       "    <tr>\n",
       "      <th>1</th>\n",
       "      <td>GT-0102</td>\n",
       "      <td>GT-01</td>\n",
       "      <td>Santa Catarina Pinula</td>\n",
       "    </tr>\n",
       "    <tr>\n",
       "      <th>2</th>\n",
       "      <td>GT-0103</td>\n",
       "      <td>GT-01</td>\n",
       "      <td>San José Pinula</td>\n",
       "    </tr>\n",
       "    <tr>\n",
       "      <th>3</th>\n",
       "      <td>GT-0104</td>\n",
       "      <td>GT-01</td>\n",
       "      <td>San José del Golfo</td>\n",
       "    </tr>\n",
       "    <tr>\n",
       "      <th>4</th>\n",
       "      <td>GT-0105</td>\n",
       "      <td>GT-01</td>\n",
       "      <td>Palencia</td>\n",
       "    </tr>\n",
       "  </tbody>\n",
       "</table>\n",
       "</div>"
      ],
      "text/plain": [
       "  municipio_id departamento_id              municipio\n",
       "0      GT-0101           GT-01              Guatemala\n",
       "1      GT-0102           GT-01  Santa Catarina Pinula\n",
       "2      GT-0103           GT-01        San José Pinula\n",
       "3      GT-0104           GT-01     San José del Golfo\n",
       "4      GT-0105           GT-01               Palencia"
      ]
     },
     "execution_count": 102,
     "metadata": {},
     "output_type": "execute_result"
    }
   ],
   "source": [
    "sql_query = 'SELECT * FROM municipio;'\n",
    "dw_municipio = pd.read_sql(sql_query, postgres_driver)\n",
    "dw_municipio.head()"
   ]
  },
  {
   "cell_type": "code",
   "execution_count": 103,
   "metadata": {},
   "outputs": [
    {
     "data": {
      "text/html": [
       "<div>\n",
       "<style scoped>\n",
       "    .dataframe tbody tr th:only-of-type {\n",
       "        vertical-align: middle;\n",
       "    }\n",
       "\n",
       "    .dataframe tbody tr th {\n",
       "        vertical-align: top;\n",
       "    }\n",
       "\n",
       "    .dataframe thead th {\n",
       "        text-align: right;\n",
       "    }\n",
       "</style>\n",
       "<table border=\"1\" class=\"dataframe\">\n",
       "  <thead>\n",
       "    <tr style=\"text-align: right;\">\n",
       "      <th></th>\n",
       "      <th>cliente_id</th>\n",
       "      <th>nombre_del_cliente</th>\n",
       "      <th>segmento_id</th>\n",
       "      <th>region_id</th>\n",
       "      <th>departamento_id_x</th>\n",
       "      <th>municipio_id</th>\n",
       "      <th>departamento_id_y</th>\n",
       "      <th>municipio</th>\n",
       "    </tr>\n",
       "  </thead>\n",
       "  <tbody>\n",
       "    <tr>\n",
       "      <th>0</th>\n",
       "      <td>RC-20575</td>\n",
       "      <td>Reyes Coto</td>\n",
       "      <td>CL</td>\n",
       "      <td>MET</td>\n",
       "      <td>GT-01</td>\n",
       "      <td>GT-0101</td>\n",
       "      <td>GT-01</td>\n",
       "      <td>Guatemala</td>\n",
       "    </tr>\n",
       "    <tr>\n",
       "      <th>1</th>\n",
       "      <td>SB-20830</td>\n",
       "      <td>Sarai Barrientos</td>\n",
       "      <td>CL</td>\n",
       "      <td>MET</td>\n",
       "      <td>GT-01</td>\n",
       "      <td>GT-0101</td>\n",
       "      <td>GT-01</td>\n",
       "      <td>Guatemala</td>\n",
       "    </tr>\n",
       "    <tr>\n",
       "      <th>2</th>\n",
       "      <td>AQ-11020</td>\n",
       "      <td>Andrés Quintero</td>\n",
       "      <td>ME</td>\n",
       "      <td>MET</td>\n",
       "      <td>GT-01</td>\n",
       "      <td>GT-0101</td>\n",
       "      <td>GT-01</td>\n",
       "      <td>Guatemala</td>\n",
       "    </tr>\n",
       "    <tr>\n",
       "      <th>3</th>\n",
       "      <td>IG-16570</td>\n",
       "      <td>Iván Girón</td>\n",
       "      <td>CL</td>\n",
       "      <td>MET</td>\n",
       "      <td>GT-01</td>\n",
       "      <td>GT-0102</td>\n",
       "      <td>GT-01</td>\n",
       "      <td>Santa Catarina Pinula</td>\n",
       "    </tr>\n",
       "    <tr>\n",
       "      <th>4</th>\n",
       "      <td>CM-12460</td>\n",
       "      <td>Casandra Mateo</td>\n",
       "      <td>CL</td>\n",
       "      <td>MET</td>\n",
       "      <td>GT-01</td>\n",
       "      <td>GT-0102</td>\n",
       "      <td>GT-01</td>\n",
       "      <td>Santa Catarina Pinula</td>\n",
       "    </tr>\n",
       "  </tbody>\n",
       "</table>\n",
       "</div>"
      ],
      "text/plain": [
       "  cliente_id nombre_del_cliente segmento_id region_id departamento_id_x  \\\n",
       "0   RC-20575         Reyes Coto          CL       MET             GT-01   \n",
       "1   SB-20830   Sarai Barrientos          CL       MET             GT-01   \n",
       "2   AQ-11020    Andrés Quintero          ME       MET             GT-01   \n",
       "3   IG-16570         Iván Girón          CL       MET             GT-01   \n",
       "4   CM-12460     Casandra Mateo          CL       MET             GT-01   \n",
       "\n",
       "  municipio_id departamento_id_y              municipio  \n",
       "0      GT-0101             GT-01              Guatemala  \n",
       "1      GT-0101             GT-01              Guatemala  \n",
       "2      GT-0101             GT-01              Guatemala  \n",
       "3      GT-0102             GT-01  Santa Catarina Pinula  \n",
       "4      GT-0102             GT-01  Santa Catarina Pinula  "
      ]
     },
     "execution_count": 103,
     "metadata": {},
     "output_type": "execute_result"
    }
   ],
   "source": [
    "dw_cliente_municipio = dw_cliente.merge(dw_municipio, on='municipio_id', how='inner')\n",
    "dw_cliente_municipio.head()"
   ]
  },
  {
   "cell_type": "code",
   "execution_count": 104,
   "metadata": {},
   "outputs": [
    {
     "data": {
      "text/html": [
       "<div>\n",
       "<style scoped>\n",
       "    .dataframe tbody tr th:only-of-type {\n",
       "        vertical-align: middle;\n",
       "    }\n",
       "\n",
       "    .dataframe tbody tr th {\n",
       "        vertical-align: top;\n",
       "    }\n",
       "\n",
       "    .dataframe thead th {\n",
       "        text-align: right;\n",
       "    }\n",
       "</style>\n",
       "<table border=\"1\" class=\"dataframe\">\n",
       "  <thead>\n",
       "    <tr style=\"text-align: right;\">\n",
       "      <th></th>\n",
       "      <th>departamento_id</th>\n",
       "      <th>region_id</th>\n",
       "      <th>departamento</th>\n",
       "    </tr>\n",
       "  </thead>\n",
       "  <tbody>\n",
       "    <tr>\n",
       "      <th>0</th>\n",
       "      <td>GT-01</td>\n",
       "      <td>MET</td>\n",
       "      <td>Guatemala</td>\n",
       "    </tr>\n",
       "    <tr>\n",
       "      <th>1</th>\n",
       "      <td>GT-02</td>\n",
       "      <td>NOR</td>\n",
       "      <td>Alta Verapaz</td>\n",
       "    </tr>\n",
       "    <tr>\n",
       "      <th>2</th>\n",
       "      <td>GT-03</td>\n",
       "      <td>NOR</td>\n",
       "      <td>Baja Verapaz</td>\n",
       "    </tr>\n",
       "    <tr>\n",
       "      <th>3</th>\n",
       "      <td>GT-04</td>\n",
       "      <td>NRT</td>\n",
       "      <td>Chiquimula</td>\n",
       "    </tr>\n",
       "    <tr>\n",
       "      <th>4</th>\n",
       "      <td>GT-05</td>\n",
       "      <td>NRT</td>\n",
       "      <td>El Progreso</td>\n",
       "    </tr>\n",
       "  </tbody>\n",
       "</table>\n",
       "</div>"
      ],
      "text/plain": [
       "  departamento_id region_id  departamento\n",
       "0           GT-01       MET     Guatemala\n",
       "1           GT-02       NOR  Alta Verapaz\n",
       "2           GT-03       NOR  Baja Verapaz\n",
       "3           GT-04       NRT    Chiquimula\n",
       "4           GT-05       NRT   El Progreso"
      ]
     },
     "execution_count": 104,
     "metadata": {},
     "output_type": "execute_result"
    }
   ],
   "source": [
    "sql_query = 'SELECT * FROM departamento;'\n",
    "dw_departamento = pd.read_sql(sql_query, postgres_driver)\n",
    "dw_departamento.head()"
   ]
  },
  {
   "cell_type": "code",
   "execution_count": 110,
   "metadata": {},
   "outputs": [
    {
     "data": {
      "text/html": [
       "<div>\n",
       "<style scoped>\n",
       "    .dataframe tbody tr th:only-of-type {\n",
       "        vertical-align: middle;\n",
       "    }\n",
       "\n",
       "    .dataframe tbody tr th {\n",
       "        vertical-align: top;\n",
       "    }\n",
       "\n",
       "    .dataframe thead th {\n",
       "        text-align: right;\n",
       "    }\n",
       "</style>\n",
       "<table border=\"1\" class=\"dataframe\">\n",
       "  <thead>\n",
       "    <tr style=\"text-align: right;\">\n",
       "      <th></th>\n",
       "      <th>cliente_id</th>\n",
       "      <th>nombre_del_cliente</th>\n",
       "      <th>segmento_id</th>\n",
       "      <th>region_id_x</th>\n",
       "      <th>departamento_id_x</th>\n",
       "      <th>municipio_id</th>\n",
       "      <th>departamento_id_y</th>\n",
       "      <th>municipio</th>\n",
       "      <th>departamento_id</th>\n",
       "      <th>region_id_y</th>\n",
       "      <th>departamento</th>\n",
       "    </tr>\n",
       "  </thead>\n",
       "  <tbody>\n",
       "    <tr>\n",
       "      <th>0</th>\n",
       "      <td>RC-20575</td>\n",
       "      <td>Reyes Coto</td>\n",
       "      <td>CL</td>\n",
       "      <td>MET</td>\n",
       "      <td>GT-01</td>\n",
       "      <td>GT-0101</td>\n",
       "      <td>GT-01</td>\n",
       "      <td>Guatemala</td>\n",
       "      <td>GT-01</td>\n",
       "      <td>MET</td>\n",
       "      <td>Guatemala</td>\n",
       "    </tr>\n",
       "    <tr>\n",
       "      <th>1</th>\n",
       "      <td>SB-20830</td>\n",
       "      <td>Sarai Barrientos</td>\n",
       "      <td>CL</td>\n",
       "      <td>MET</td>\n",
       "      <td>GT-01</td>\n",
       "      <td>GT-0101</td>\n",
       "      <td>GT-01</td>\n",
       "      <td>Guatemala</td>\n",
       "      <td>GT-01</td>\n",
       "      <td>MET</td>\n",
       "      <td>Guatemala</td>\n",
       "    </tr>\n",
       "    <tr>\n",
       "      <th>2</th>\n",
       "      <td>AQ-11020</td>\n",
       "      <td>Andrés Quintero</td>\n",
       "      <td>ME</td>\n",
       "      <td>MET</td>\n",
       "      <td>GT-01</td>\n",
       "      <td>GT-0101</td>\n",
       "      <td>GT-01</td>\n",
       "      <td>Guatemala</td>\n",
       "      <td>GT-01</td>\n",
       "      <td>MET</td>\n",
       "      <td>Guatemala</td>\n",
       "    </tr>\n",
       "    <tr>\n",
       "      <th>3</th>\n",
       "      <td>IG-16570</td>\n",
       "      <td>Iván Girón</td>\n",
       "      <td>CL</td>\n",
       "      <td>MET</td>\n",
       "      <td>GT-01</td>\n",
       "      <td>GT-0102</td>\n",
       "      <td>GT-01</td>\n",
       "      <td>Santa Catarina Pinula</td>\n",
       "      <td>GT-01</td>\n",
       "      <td>MET</td>\n",
       "      <td>Guatemala</td>\n",
       "    </tr>\n",
       "    <tr>\n",
       "      <th>4</th>\n",
       "      <td>CM-12460</td>\n",
       "      <td>Casandra Mateo</td>\n",
       "      <td>CL</td>\n",
       "      <td>MET</td>\n",
       "      <td>GT-01</td>\n",
       "      <td>GT-0102</td>\n",
       "      <td>GT-01</td>\n",
       "      <td>Santa Catarina Pinula</td>\n",
       "      <td>GT-01</td>\n",
       "      <td>MET</td>\n",
       "      <td>Guatemala</td>\n",
       "    </tr>\n",
       "  </tbody>\n",
       "</table>\n",
       "</div>"
      ],
      "text/plain": [
       "  cliente_id nombre_del_cliente segmento_id region_id_x departamento_id_x  \\\n",
       "0   RC-20575         Reyes Coto          CL         MET             GT-01   \n",
       "1   SB-20830   Sarai Barrientos          CL         MET             GT-01   \n",
       "2   AQ-11020    Andrés Quintero          ME         MET             GT-01   \n",
       "3   IG-16570         Iván Girón          CL         MET             GT-01   \n",
       "4   CM-12460     Casandra Mateo          CL         MET             GT-01   \n",
       "\n",
       "  municipio_id departamento_id_y              municipio departamento_id  \\\n",
       "0      GT-0101             GT-01              Guatemala           GT-01   \n",
       "1      GT-0101             GT-01              Guatemala           GT-01   \n",
       "2      GT-0101             GT-01              Guatemala           GT-01   \n",
       "3      GT-0102             GT-01  Santa Catarina Pinula           GT-01   \n",
       "4      GT-0102             GT-01  Santa Catarina Pinula           GT-01   \n",
       "\n",
       "  region_id_y departamento  \n",
       "0         MET    Guatemala  \n",
       "1         MET    Guatemala  \n",
       "2         MET    Guatemala  \n",
       "3         MET    Guatemala  \n",
       "4         MET    Guatemala  "
      ]
     },
     "execution_count": 110,
     "metadata": {},
     "output_type": "execute_result"
    }
   ],
   "source": [
    "dw_cliente_mun_dep = dw_cliente_municipio.merge(dw_departamento, left_on='departamento_id_x', \n",
    "                                                                    right_on='departamento_id',  \n",
    "                                                                    how='inner')\n",
    "dw_cliente_mun_dep.head()"
   ]
  },
  {
   "cell_type": "code",
   "execution_count": 111,
   "metadata": {},
   "outputs": [
    {
     "data": {
      "text/html": [
       "<div>\n",
       "<style scoped>\n",
       "    .dataframe tbody tr th:only-of-type {\n",
       "        vertical-align: middle;\n",
       "    }\n",
       "\n",
       "    .dataframe tbody tr th {\n",
       "        vertical-align: top;\n",
       "    }\n",
       "\n",
       "    .dataframe thead th {\n",
       "        text-align: right;\n",
       "    }\n",
       "</style>\n",
       "<table border=\"1\" class=\"dataframe\">\n",
       "  <thead>\n",
       "    <tr style=\"text-align: right;\">\n",
       "      <th></th>\n",
       "      <th>region_id</th>\n",
       "      <th>region</th>\n",
       "    </tr>\n",
       "  </thead>\n",
       "  <tbody>\n",
       "    <tr>\n",
       "      <th>0</th>\n",
       "      <td>MET</td>\n",
       "      <td>Metropolitana</td>\n",
       "    </tr>\n",
       "    <tr>\n",
       "      <th>1</th>\n",
       "      <td>NOR</td>\n",
       "      <td>Norte</td>\n",
       "    </tr>\n",
       "    <tr>\n",
       "      <th>2</th>\n",
       "      <td>NRT</td>\n",
       "      <td>Nororiental</td>\n",
       "    </tr>\n",
       "    <tr>\n",
       "      <th>3</th>\n",
       "      <td>SUR</td>\n",
       "      <td>Suroriental</td>\n",
       "    </tr>\n",
       "    <tr>\n",
       "      <th>4</th>\n",
       "      <td>CNT</td>\n",
       "      <td>Central</td>\n",
       "    </tr>\n",
       "  </tbody>\n",
       "</table>\n",
       "</div>"
      ],
      "text/plain": [
       "  region_id         region\n",
       "0       MET  Metropolitana\n",
       "1       NOR          Norte\n",
       "2       NRT    Nororiental\n",
       "3       SUR    Suroriental\n",
       "4       CNT        Central"
      ]
     },
     "execution_count": 111,
     "metadata": {},
     "output_type": "execute_result"
    }
   ],
   "source": [
    "sql_query = 'SELECT * FROM region;'\n",
    "dw_region = pd.read_sql(sql_query, postgres_driver)\n",
    "dw_region.head()"
   ]
  },
  {
   "cell_type": "code",
   "execution_count": 112,
   "metadata": {},
   "outputs": [
    {
     "data": {
      "text/html": [
       "<div>\n",
       "<style scoped>\n",
       "    .dataframe tbody tr th:only-of-type {\n",
       "        vertical-align: middle;\n",
       "    }\n",
       "\n",
       "    .dataframe tbody tr th {\n",
       "        vertical-align: top;\n",
       "    }\n",
       "\n",
       "    .dataframe thead th {\n",
       "        text-align: right;\n",
       "    }\n",
       "</style>\n",
       "<table border=\"1\" class=\"dataframe\">\n",
       "  <thead>\n",
       "    <tr style=\"text-align: right;\">\n",
       "      <th></th>\n",
       "      <th>cliente_id</th>\n",
       "      <th>nombre_del_cliente</th>\n",
       "      <th>segmento_id</th>\n",
       "      <th>region_id_x</th>\n",
       "      <th>departamento_id_x</th>\n",
       "      <th>municipio_id</th>\n",
       "      <th>departamento_id_y</th>\n",
       "      <th>municipio</th>\n",
       "      <th>departamento_id</th>\n",
       "      <th>region_id_y</th>\n",
       "      <th>departamento</th>\n",
       "      <th>region_id</th>\n",
       "      <th>region</th>\n",
       "    </tr>\n",
       "  </thead>\n",
       "  <tbody>\n",
       "    <tr>\n",
       "      <th>0</th>\n",
       "      <td>RC-20575</td>\n",
       "      <td>Reyes Coto</td>\n",
       "      <td>CL</td>\n",
       "      <td>MET</td>\n",
       "      <td>GT-01</td>\n",
       "      <td>GT-0101</td>\n",
       "      <td>GT-01</td>\n",
       "      <td>Guatemala</td>\n",
       "      <td>GT-01</td>\n",
       "      <td>MET</td>\n",
       "      <td>Guatemala</td>\n",
       "      <td>MET</td>\n",
       "      <td>Metropolitana</td>\n",
       "    </tr>\n",
       "    <tr>\n",
       "      <th>1</th>\n",
       "      <td>SB-20830</td>\n",
       "      <td>Sarai Barrientos</td>\n",
       "      <td>CL</td>\n",
       "      <td>MET</td>\n",
       "      <td>GT-01</td>\n",
       "      <td>GT-0101</td>\n",
       "      <td>GT-01</td>\n",
       "      <td>Guatemala</td>\n",
       "      <td>GT-01</td>\n",
       "      <td>MET</td>\n",
       "      <td>Guatemala</td>\n",
       "      <td>MET</td>\n",
       "      <td>Metropolitana</td>\n",
       "    </tr>\n",
       "    <tr>\n",
       "      <th>2</th>\n",
       "      <td>AQ-11020</td>\n",
       "      <td>Andrés Quintero</td>\n",
       "      <td>ME</td>\n",
       "      <td>MET</td>\n",
       "      <td>GT-01</td>\n",
       "      <td>GT-0101</td>\n",
       "      <td>GT-01</td>\n",
       "      <td>Guatemala</td>\n",
       "      <td>GT-01</td>\n",
       "      <td>MET</td>\n",
       "      <td>Guatemala</td>\n",
       "      <td>MET</td>\n",
       "      <td>Metropolitana</td>\n",
       "    </tr>\n",
       "    <tr>\n",
       "      <th>3</th>\n",
       "      <td>IG-16570</td>\n",
       "      <td>Iván Girón</td>\n",
       "      <td>CL</td>\n",
       "      <td>MET</td>\n",
       "      <td>GT-01</td>\n",
       "      <td>GT-0102</td>\n",
       "      <td>GT-01</td>\n",
       "      <td>Santa Catarina Pinula</td>\n",
       "      <td>GT-01</td>\n",
       "      <td>MET</td>\n",
       "      <td>Guatemala</td>\n",
       "      <td>MET</td>\n",
       "      <td>Metropolitana</td>\n",
       "    </tr>\n",
       "    <tr>\n",
       "      <th>4</th>\n",
       "      <td>CM-12460</td>\n",
       "      <td>Casandra Mateo</td>\n",
       "      <td>CL</td>\n",
       "      <td>MET</td>\n",
       "      <td>GT-01</td>\n",
       "      <td>GT-0102</td>\n",
       "      <td>GT-01</td>\n",
       "      <td>Santa Catarina Pinula</td>\n",
       "      <td>GT-01</td>\n",
       "      <td>MET</td>\n",
       "      <td>Guatemala</td>\n",
       "      <td>MET</td>\n",
       "      <td>Metropolitana</td>\n",
       "    </tr>\n",
       "  </tbody>\n",
       "</table>\n",
       "</div>"
      ],
      "text/plain": [
       "  cliente_id nombre_del_cliente segmento_id region_id_x departamento_id_x  \\\n",
       "0   RC-20575         Reyes Coto          CL         MET             GT-01   \n",
       "1   SB-20830   Sarai Barrientos          CL         MET             GT-01   \n",
       "2   AQ-11020    Andrés Quintero          ME         MET             GT-01   \n",
       "3   IG-16570         Iván Girón          CL         MET             GT-01   \n",
       "4   CM-12460     Casandra Mateo          CL         MET             GT-01   \n",
       "\n",
       "  municipio_id departamento_id_y              municipio departamento_id  \\\n",
       "0      GT-0101             GT-01              Guatemala           GT-01   \n",
       "1      GT-0101             GT-01              Guatemala           GT-01   \n",
       "2      GT-0101             GT-01              Guatemala           GT-01   \n",
       "3      GT-0102             GT-01  Santa Catarina Pinula           GT-01   \n",
       "4      GT-0102             GT-01  Santa Catarina Pinula           GT-01   \n",
       "\n",
       "  region_id_y departamento region_id         region  \n",
       "0         MET    Guatemala       MET  Metropolitana  \n",
       "1         MET    Guatemala       MET  Metropolitana  \n",
       "2         MET    Guatemala       MET  Metropolitana  \n",
       "3         MET    Guatemala       MET  Metropolitana  \n",
       "4         MET    Guatemala       MET  Metropolitana  "
      ]
     },
     "execution_count": 112,
     "metadata": {},
     "output_type": "execute_result"
    }
   ],
   "source": [
    "dw_cliente_region = dw_cliente_mun_dep.merge(dw_region, left_on='region_id_x', \n",
    "                                                                    right_on='region_id',  \n",
    "                                                                    how='inner')\n",
    "dw_cliente_region.head()"
   ]
  },
  {
   "cell_type": "code",
   "execution_count": 113,
   "metadata": {},
   "outputs": [
    {
     "data": {
      "text/html": [
       "<div>\n",
       "<style scoped>\n",
       "    .dataframe tbody tr th:only-of-type {\n",
       "        vertical-align: middle;\n",
       "    }\n",
       "\n",
       "    .dataframe tbody tr th {\n",
       "        vertical-align: top;\n",
       "    }\n",
       "\n",
       "    .dataframe thead th {\n",
       "        text-align: right;\n",
       "    }\n",
       "</style>\n",
       "<table border=\"1\" class=\"dataframe\">\n",
       "  <thead>\n",
       "    <tr style=\"text-align: right;\">\n",
       "      <th></th>\n",
       "      <th>segmento_id</th>\n",
       "      <th>segmento</th>\n",
       "    </tr>\n",
       "  </thead>\n",
       "  <tbody>\n",
       "    <tr>\n",
       "      <th>0</th>\n",
       "      <td>CL</td>\n",
       "      <td>Cliente</td>\n",
       "    </tr>\n",
       "    <tr>\n",
       "      <th>1</th>\n",
       "      <td>PE</td>\n",
       "      <td>Pequeña empresa</td>\n",
       "    </tr>\n",
       "    <tr>\n",
       "      <th>2</th>\n",
       "      <td>ME</td>\n",
       "      <td>Empresa</td>\n",
       "    </tr>\n",
       "  </tbody>\n",
       "</table>\n",
       "</div>"
      ],
      "text/plain": [
       "  segmento_id         segmento\n",
       "0          CL          Cliente\n",
       "1          PE  Pequeña empresa\n",
       "2          ME          Empresa"
      ]
     },
     "execution_count": 113,
     "metadata": {},
     "output_type": "execute_result"
    }
   ],
   "source": [
    "sql_query = 'SELECT * FROM segmento;'\n",
    "dw_segmento = pd.read_sql(sql_query, postgres_driver)\n",
    "dw_segmento.head()"
   ]
  },
  {
   "cell_type": "code",
   "execution_count": 175,
   "metadata": {},
   "outputs": [
    {
     "data": {
      "text/html": [
       "<div>\n",
       "<style scoped>\n",
       "    .dataframe tbody tr th:only-of-type {\n",
       "        vertical-align: middle;\n",
       "    }\n",
       "\n",
       "    .dataframe tbody tr th {\n",
       "        vertical-align: top;\n",
       "    }\n",
       "\n",
       "    .dataframe thead th {\n",
       "        text-align: right;\n",
       "    }\n",
       "</style>\n",
       "<table border=\"1\" class=\"dataframe\">\n",
       "  <thead>\n",
       "    <tr style=\"text-align: right;\">\n",
       "      <th></th>\n",
       "      <th>cliente_id</th>\n",
       "      <th>nombre_del_cliente</th>\n",
       "      <th>municipio</th>\n",
       "      <th>departamento</th>\n",
       "      <th>region</th>\n",
       "      <th>segmento</th>\n",
       "    </tr>\n",
       "  </thead>\n",
       "  <tbody>\n",
       "    <tr>\n",
       "      <th>0</th>\n",
       "      <td>RC-20575</td>\n",
       "      <td>Reyes Coto</td>\n",
       "      <td>Guatemala</td>\n",
       "      <td>Guatemala</td>\n",
       "      <td>Metropolitana</td>\n",
       "      <td>Cliente</td>\n",
       "    </tr>\n",
       "    <tr>\n",
       "      <th>1</th>\n",
       "      <td>SB-20830</td>\n",
       "      <td>Sarai Barrientos</td>\n",
       "      <td>Guatemala</td>\n",
       "      <td>Guatemala</td>\n",
       "      <td>Metropolitana</td>\n",
       "      <td>Cliente</td>\n",
       "    </tr>\n",
       "    <tr>\n",
       "      <th>2</th>\n",
       "      <td>IG-16570</td>\n",
       "      <td>Iván Girón</td>\n",
       "      <td>Santa Catarina Pinula</td>\n",
       "      <td>Guatemala</td>\n",
       "      <td>Metropolitana</td>\n",
       "      <td>Cliente</td>\n",
       "    </tr>\n",
       "    <tr>\n",
       "      <th>3</th>\n",
       "      <td>CM-12460</td>\n",
       "      <td>Casandra Mateo</td>\n",
       "      <td>Santa Catarina Pinula</td>\n",
       "      <td>Guatemala</td>\n",
       "      <td>Metropolitana</td>\n",
       "      <td>Cliente</td>\n",
       "    </tr>\n",
       "    <tr>\n",
       "      <th>4</th>\n",
       "      <td>ÓA-19735</td>\n",
       "      <td>Óscar Alba</td>\n",
       "      <td>Santa Catarina Pinula</td>\n",
       "      <td>Guatemala</td>\n",
       "      <td>Metropolitana</td>\n",
       "      <td>Cliente</td>\n",
       "    </tr>\n",
       "  </tbody>\n",
       "</table>\n",
       "</div>"
      ],
      "text/plain": [
       "  cliente_id nombre_del_cliente              municipio departamento  \\\n",
       "0   RC-20575         Reyes Coto              Guatemala    Guatemala   \n",
       "1   SB-20830   Sarai Barrientos              Guatemala    Guatemala   \n",
       "2   IG-16570         Iván Girón  Santa Catarina Pinula    Guatemala   \n",
       "3   CM-12460     Casandra Mateo  Santa Catarina Pinula    Guatemala   \n",
       "4   ÓA-19735         Óscar Alba  Santa Catarina Pinula    Guatemala   \n",
       "\n",
       "          region segmento  \n",
       "0  Metropolitana  Cliente  \n",
       "1  Metropolitana  Cliente  \n",
       "2  Metropolitana  Cliente  \n",
       "3  Metropolitana  Cliente  \n",
       "4  Metropolitana  Cliente  "
      ]
     },
     "execution_count": 175,
     "metadata": {},
     "output_type": "execute_result"
    }
   ],
   "source": [
    "dim_cliente = dw_cliente_region.merge(dw_segmento, on='segmento_id', how='inner')\n",
    "dim_cliente.drop(['segmento_id', 'region_id_x', 'departamento_id_x', 'municipio_id', 'departamento_id_y', 'departamento_id', 'region_id_y', 'region_id'], axis=1,  inplace=True)\n",
    "dim_cliente.head()"
   ]
  },
  {
   "attachments": {},
   "cell_type": "markdown",
   "metadata": {},
   "source": [
    "#### DIMENSION PRODUCTO"
   ]
  },
  {
   "cell_type": "code",
   "execution_count": 127,
   "metadata": {},
   "outputs": [
    {
     "data": {
      "text/html": [
       "<div>\n",
       "<style scoped>\n",
       "    .dataframe tbody tr th:only-of-type {\n",
       "        vertical-align: middle;\n",
       "    }\n",
       "\n",
       "    .dataframe tbody tr th {\n",
       "        vertical-align: top;\n",
       "    }\n",
       "\n",
       "    .dataframe thead th {\n",
       "        text-align: right;\n",
       "    }\n",
       "</style>\n",
       "<table border=\"1\" class=\"dataframe\">\n",
       "  <thead>\n",
       "    <tr style=\"text-align: right;\">\n",
       "      <th></th>\n",
       "      <th>producto_id</th>\n",
       "      <th>categoria_id</th>\n",
       "      <th>subcategoria_id</th>\n",
       "      <th>nombre_del_producto</th>\n",
       "    </tr>\n",
       "  </thead>\n",
       "  <tbody>\n",
       "    <tr>\n",
       "      <th>0</th>\n",
       "      <td>MAT-ET-10000866</td>\n",
       "      <td>MAT</td>\n",
       "      <td>ET</td>\n",
       "      <td>Hon Etiquetas para carpetas de archivos, Ajust...</td>\n",
       "    </tr>\n",
       "    <tr>\n",
       "      <th>1</th>\n",
       "      <td>MOB-MO-10000543</td>\n",
       "      <td>MOB</td>\n",
       "      <td>MO</td>\n",
       "      <td>Tenex Reloj, Duradero</td>\n",
       "    </tr>\n",
       "    <tr>\n",
       "      <th>2</th>\n",
       "      <td>MOB-LI-10000111</td>\n",
       "      <td>MOB</td>\n",
       "      <td>LI</td>\n",
       "      <td>Ikea Vitrina, Blanco</td>\n",
       "    </tr>\n",
       "    <tr>\n",
       "      <th>3</th>\n",
       "      <td>MAT-CA-10004211</td>\n",
       "      <td>MAT</td>\n",
       "      <td>CA</td>\n",
       "      <td>Cardinal Carpeta, Transparente</td>\n",
       "    </tr>\n",
       "    <tr>\n",
       "      <th>4</th>\n",
       "      <td>MAT-AR-10001135</td>\n",
       "      <td>MAT</td>\n",
       "      <td>AR</td>\n",
       "      <td>Sanford Lienzos, Tamaños variados</td>\n",
       "    </tr>\n",
       "  </tbody>\n",
       "</table>\n",
       "</div>"
      ],
      "text/plain": [
       "       producto_id categoria_id subcategoria_id  \\\n",
       "0  MAT-ET-10000866          MAT              ET   \n",
       "1  MOB-MO-10000543          MOB              MO   \n",
       "2  MOB-LI-10000111          MOB              LI   \n",
       "3  MAT-CA-10004211          MAT              CA   \n",
       "4  MAT-AR-10001135          MAT              AR   \n",
       "\n",
       "                                 nombre_del_producto  \n",
       "0  Hon Etiquetas para carpetas de archivos, Ajust...  \n",
       "1                              Tenex Reloj, Duradero  \n",
       "2                               Ikea Vitrina, Blanco  \n",
       "3                     Cardinal Carpeta, Transparente  \n",
       "4                  Sanford Lienzos, Tamaños variados  "
      ]
     },
     "execution_count": 127,
     "metadata": {},
     "output_type": "execute_result"
    }
   ],
   "source": [
    "sql_query = 'SELECT * FROM producto;'\n",
    "dw_producto = pd.read_sql(sql_query, postgres_driver)\n",
    "dw_producto.head()"
   ]
  },
  {
   "cell_type": "code",
   "execution_count": 131,
   "metadata": {},
   "outputs": [
    {
     "data": {
      "text/html": [
       "<div>\n",
       "<style scoped>\n",
       "    .dataframe tbody tr th:only-of-type {\n",
       "        vertical-align: middle;\n",
       "    }\n",
       "\n",
       "    .dataframe tbody tr th {\n",
       "        vertical-align: top;\n",
       "    }\n",
       "\n",
       "    .dataframe thead th {\n",
       "        text-align: right;\n",
       "    }\n",
       "</style>\n",
       "<table border=\"1\" class=\"dataframe\">\n",
       "  <thead>\n",
       "    <tr style=\"text-align: right;\">\n",
       "      <th></th>\n",
       "      <th>subcategoria_id</th>\n",
       "      <th>categoria_id</th>\n",
       "      <th>categoria</th>\n",
       "      <th>subcategoria</th>\n",
       "    </tr>\n",
       "  </thead>\n",
       "  <tbody>\n",
       "    <tr>\n",
       "      <th>0</th>\n",
       "      <td>ET</td>\n",
       "      <td>MAT</td>\n",
       "      <td>Material de oficina</td>\n",
       "      <td>Etiquetas</td>\n",
       "    </tr>\n",
       "    <tr>\n",
       "      <th>1</th>\n",
       "      <td>MO</td>\n",
       "      <td>MOB</td>\n",
       "      <td>Mobiliario</td>\n",
       "      <td>Mobiliario</td>\n",
       "    </tr>\n",
       "    <tr>\n",
       "      <th>2</th>\n",
       "      <td>LI</td>\n",
       "      <td>MOB</td>\n",
       "      <td>Mobiliario</td>\n",
       "      <td>Librerías</td>\n",
       "    </tr>\n",
       "    <tr>\n",
       "      <th>3</th>\n",
       "      <td>CA</td>\n",
       "      <td>MAT</td>\n",
       "      <td>Material de oficina</td>\n",
       "      <td>Carpetas</td>\n",
       "    </tr>\n",
       "    <tr>\n",
       "      <th>4</th>\n",
       "      <td>AR</td>\n",
       "      <td>MAT</td>\n",
       "      <td>Material de oficina</td>\n",
       "      <td>Arte</td>\n",
       "    </tr>\n",
       "  </tbody>\n",
       "</table>\n",
       "</div>"
      ],
      "text/plain": [
       "  subcategoria_id categoria_id            categoria subcategoria\n",
       "0              ET          MAT  Material de oficina    Etiquetas\n",
       "1              MO          MOB           Mobiliario   Mobiliario\n",
       "2              LI          MOB           Mobiliario    Librerías\n",
       "3              CA          MAT  Material de oficina     Carpetas\n",
       "4              AR          MAT  Material de oficina         Arte"
      ]
     },
     "execution_count": 131,
     "metadata": {},
     "output_type": "execute_result"
    }
   ],
   "source": [
    "sql_query = 'SELECT * FROM subcategoria;'\n",
    "dw_subcategoria = pd.read_sql(sql_query, postgres_driver)\n",
    "dw_subcategoria.head()"
   ]
  },
  {
   "cell_type": "code",
   "execution_count": 134,
   "metadata": {},
   "outputs": [
    {
     "data": {
      "text/html": [
       "<div>\n",
       "<style scoped>\n",
       "    .dataframe tbody tr th:only-of-type {\n",
       "        vertical-align: middle;\n",
       "    }\n",
       "\n",
       "    .dataframe tbody tr th {\n",
       "        vertical-align: top;\n",
       "    }\n",
       "\n",
       "    .dataframe thead th {\n",
       "        text-align: right;\n",
       "    }\n",
       "</style>\n",
       "<table border=\"1\" class=\"dataframe\">\n",
       "  <thead>\n",
       "    <tr style=\"text-align: right;\">\n",
       "      <th></th>\n",
       "      <th>producto_id</th>\n",
       "      <th>nombre_del_producto</th>\n",
       "      <th>categoria</th>\n",
       "      <th>subcategoria</th>\n",
       "    </tr>\n",
       "  </thead>\n",
       "  <tbody>\n",
       "    <tr>\n",
       "      <th>0</th>\n",
       "      <td>MAT-ET-10000866</td>\n",
       "      <td>Hon Etiquetas para carpetas de archivos, Ajust...</td>\n",
       "      <td>Material de oficina</td>\n",
       "      <td>Etiquetas</td>\n",
       "    </tr>\n",
       "    <tr>\n",
       "      <th>1</th>\n",
       "      <td>MAT-ET-10004182</td>\n",
       "      <td>Hon Etiquetas redondas, Blanco</td>\n",
       "      <td>Material de oficina</td>\n",
       "      <td>Etiquetas</td>\n",
       "    </tr>\n",
       "    <tr>\n",
       "      <th>2</th>\n",
       "      <td>MAT-ET-10001984</td>\n",
       "      <td>Avery Etiquetas para documentos legales, Duradero</td>\n",
       "      <td>Material de oficina</td>\n",
       "      <td>Etiquetas</td>\n",
       "    </tr>\n",
       "    <tr>\n",
       "      <th>3</th>\n",
       "      <td>MAT-ET-10002124</td>\n",
       "      <td>Hon Etiquetas para carpetas de archivos, Rojo</td>\n",
       "      <td>Material de oficina</td>\n",
       "      <td>Etiquetas</td>\n",
       "    </tr>\n",
       "    <tr>\n",
       "      <th>4</th>\n",
       "      <td>MAT-ET-10001459</td>\n",
       "      <td>Avery Etiquetas con códigos de color, Rojo</td>\n",
       "      <td>Material de oficina</td>\n",
       "      <td>Etiquetas</td>\n",
       "    </tr>\n",
       "  </tbody>\n",
       "</table>\n",
       "</div>"
      ],
      "text/plain": [
       "       producto_id                                nombre_del_producto  \\\n",
       "0  MAT-ET-10000866  Hon Etiquetas para carpetas de archivos, Ajust...   \n",
       "1  MAT-ET-10004182                     Hon Etiquetas redondas, Blanco   \n",
       "2  MAT-ET-10001984  Avery Etiquetas para documentos legales, Duradero   \n",
       "3  MAT-ET-10002124      Hon Etiquetas para carpetas de archivos, Rojo   \n",
       "4  MAT-ET-10001459         Avery Etiquetas con códigos de color, Rojo   \n",
       "\n",
       "             categoria subcategoria  \n",
       "0  Material de oficina    Etiquetas  \n",
       "1  Material de oficina    Etiquetas  \n",
       "2  Material de oficina    Etiquetas  \n",
       "3  Material de oficina    Etiquetas  \n",
       "4  Material de oficina    Etiquetas  "
      ]
     },
     "execution_count": 134,
     "metadata": {},
     "output_type": "execute_result"
    }
   ],
   "source": [
    "dim_producto = dw_producto.merge(dw_subcategoria, on='subcategoria_id', how='inner')\n",
    "dim_producto.drop(['categoria_id_x', 'subcategoria_id', 'categoria_id_y'], axis=1,  inplace=True)\n",
    "dim_producto.head()"
   ]
  },
  {
   "attachments": {},
   "cell_type": "markdown",
   "metadata": {},
   "source": [
    "#### DIMENSION STORE"
   ]
  },
  {
   "cell_type": "code",
   "execution_count": 135,
   "metadata": {},
   "outputs": [
    {
     "data": {
      "text/html": [
       "<div>\n",
       "<style scoped>\n",
       "    .dataframe tbody tr th:only-of-type {\n",
       "        vertical-align: middle;\n",
       "    }\n",
       "\n",
       "    .dataframe tbody tr th {\n",
       "        vertical-align: top;\n",
       "    }\n",
       "\n",
       "    .dataframe thead th {\n",
       "        text-align: right;\n",
       "    }\n",
       "</style>\n",
       "<table border=\"1\" class=\"dataframe\">\n",
       "  <thead>\n",
       "    <tr style=\"text-align: right;\">\n",
       "      <th></th>\n",
       "      <th>store_id</th>\n",
       "      <th>region_id</th>\n",
       "      <th>gerente_id</th>\n",
       "      <th>store</th>\n",
       "    </tr>\n",
       "  </thead>\n",
       "  <tbody>\n",
       "    <tr>\n",
       "      <th>0</th>\n",
       "      <td>G10</td>\n",
       "      <td>MET</td>\n",
       "      <td>1001</td>\n",
       "      <td>CENTRAL 2</td>\n",
       "    </tr>\n",
       "    <tr>\n",
       "      <th>1</th>\n",
       "      <td>G20</td>\n",
       "      <td>NOR</td>\n",
       "      <td>1010</td>\n",
       "      <td>PETEN</td>\n",
       "    </tr>\n",
       "    <tr>\n",
       "      <th>2</th>\n",
       "      <td>G30</td>\n",
       "      <td>NRT</td>\n",
       "      <td>1020</td>\n",
       "      <td>IZABAL</td>\n",
       "    </tr>\n",
       "    <tr>\n",
       "      <th>3</th>\n",
       "      <td>G40</td>\n",
       "      <td>SUR</td>\n",
       "      <td>1023</td>\n",
       "      <td>ESCUINTLA</td>\n",
       "    </tr>\n",
       "    <tr>\n",
       "      <th>4</th>\n",
       "      <td>G50</td>\n",
       "      <td>CNT</td>\n",
       "      <td>1551</td>\n",
       "      <td>CENTRAL 1</td>\n",
       "    </tr>\n",
       "  </tbody>\n",
       "</table>\n",
       "</div>"
      ],
      "text/plain": [
       "  store_id region_id  gerente_id      store\n",
       "0      G10       MET        1001  CENTRAL 2\n",
       "1      G20       NOR        1010      PETEN\n",
       "2      G30       NRT        1020     IZABAL\n",
       "3      G40       SUR        1023  ESCUINTLA\n",
       "4      G50       CNT        1551  CENTRAL 1"
      ]
     },
     "execution_count": 135,
     "metadata": {},
     "output_type": "execute_result"
    }
   ],
   "source": [
    "sql_query = 'SELECT * FROM store;'\n",
    "dw_store = pd.read_sql(sql_query, postgres_driver)\n",
    "dw_store.head()"
   ]
  },
  {
   "cell_type": "code",
   "execution_count": 137,
   "metadata": {},
   "outputs": [
    {
     "data": {
      "text/html": [
       "<div>\n",
       "<style scoped>\n",
       "    .dataframe tbody tr th:only-of-type {\n",
       "        vertical-align: middle;\n",
       "    }\n",
       "\n",
       "    .dataframe tbody tr th {\n",
       "        vertical-align: top;\n",
       "    }\n",
       "\n",
       "    .dataframe thead th {\n",
       "        text-align: right;\n",
       "    }\n",
       "</style>\n",
       "<table border=\"1\" class=\"dataframe\">\n",
       "  <thead>\n",
       "    <tr style=\"text-align: right;\">\n",
       "      <th></th>\n",
       "      <th>region_id</th>\n",
       "      <th>region</th>\n",
       "    </tr>\n",
       "  </thead>\n",
       "  <tbody>\n",
       "    <tr>\n",
       "      <th>0</th>\n",
       "      <td>MET</td>\n",
       "      <td>Metropolitana</td>\n",
       "    </tr>\n",
       "    <tr>\n",
       "      <th>1</th>\n",
       "      <td>NOR</td>\n",
       "      <td>Norte</td>\n",
       "    </tr>\n",
       "    <tr>\n",
       "      <th>2</th>\n",
       "      <td>NRT</td>\n",
       "      <td>Nororiental</td>\n",
       "    </tr>\n",
       "    <tr>\n",
       "      <th>3</th>\n",
       "      <td>SUR</td>\n",
       "      <td>Suroriental</td>\n",
       "    </tr>\n",
       "    <tr>\n",
       "      <th>4</th>\n",
       "      <td>CNT</td>\n",
       "      <td>Central</td>\n",
       "    </tr>\n",
       "  </tbody>\n",
       "</table>\n",
       "</div>"
      ],
      "text/plain": [
       "  region_id         region\n",
       "0       MET  Metropolitana\n",
       "1       NOR          Norte\n",
       "2       NRT    Nororiental\n",
       "3       SUR    Suroriental\n",
       "4       CNT        Central"
      ]
     },
     "execution_count": 137,
     "metadata": {},
     "output_type": "execute_result"
    }
   ],
   "source": [
    "sql_query = 'SELECT * FROM region;'\n",
    "dw_region = pd.read_sql(sql_query, postgres_driver)\n",
    "dw_region.head()"
   ]
  },
  {
   "cell_type": "code",
   "execution_count": 138,
   "metadata": {},
   "outputs": [
    {
     "data": {
      "text/html": [
       "<div>\n",
       "<style scoped>\n",
       "    .dataframe tbody tr th:only-of-type {\n",
       "        vertical-align: middle;\n",
       "    }\n",
       "\n",
       "    .dataframe tbody tr th {\n",
       "        vertical-align: top;\n",
       "    }\n",
       "\n",
       "    .dataframe thead th {\n",
       "        text-align: right;\n",
       "    }\n",
       "</style>\n",
       "<table border=\"1\" class=\"dataframe\">\n",
       "  <thead>\n",
       "    <tr style=\"text-align: right;\">\n",
       "      <th></th>\n",
       "      <th>store_id</th>\n",
       "      <th>region_id</th>\n",
       "      <th>gerente_id</th>\n",
       "      <th>store</th>\n",
       "      <th>region</th>\n",
       "    </tr>\n",
       "  </thead>\n",
       "  <tbody>\n",
       "    <tr>\n",
       "      <th>0</th>\n",
       "      <td>G10</td>\n",
       "      <td>MET</td>\n",
       "      <td>1001</td>\n",
       "      <td>CENTRAL 2</td>\n",
       "      <td>Metropolitana</td>\n",
       "    </tr>\n",
       "    <tr>\n",
       "      <th>1</th>\n",
       "      <td>G20</td>\n",
       "      <td>NOR</td>\n",
       "      <td>1010</td>\n",
       "      <td>PETEN</td>\n",
       "      <td>Norte</td>\n",
       "    </tr>\n",
       "    <tr>\n",
       "      <th>2</th>\n",
       "      <td>G30</td>\n",
       "      <td>NRT</td>\n",
       "      <td>1020</td>\n",
       "      <td>IZABAL</td>\n",
       "      <td>Nororiental</td>\n",
       "    </tr>\n",
       "    <tr>\n",
       "      <th>3</th>\n",
       "      <td>G40</td>\n",
       "      <td>SUR</td>\n",
       "      <td>1023</td>\n",
       "      <td>ESCUINTLA</td>\n",
       "      <td>Suroriental</td>\n",
       "    </tr>\n",
       "    <tr>\n",
       "      <th>4</th>\n",
       "      <td>G60</td>\n",
       "      <td>SUR</td>\n",
       "      <td>2323</td>\n",
       "      <td>XELA</td>\n",
       "      <td>Suroriental</td>\n",
       "    </tr>\n",
       "  </tbody>\n",
       "</table>\n",
       "</div>"
      ],
      "text/plain": [
       "  store_id region_id  gerente_id      store         region\n",
       "0      G10       MET        1001  CENTRAL 2  Metropolitana\n",
       "1      G20       NOR        1010      PETEN          Norte\n",
       "2      G30       NRT        1020     IZABAL    Nororiental\n",
       "3      G40       SUR        1023  ESCUINTLA    Suroriental\n",
       "4      G60       SUR        2323       XELA    Suroriental"
      ]
     },
     "execution_count": 138,
     "metadata": {},
     "output_type": "execute_result"
    }
   ],
   "source": [
    "dw_store_region = dw_store.merge(dw_region, on='region_id', how='inner')\n",
    "dw_store_region.head()"
   ]
  },
  {
   "cell_type": "code",
   "execution_count": 139,
   "metadata": {},
   "outputs": [
    {
     "data": {
      "text/html": [
       "<div>\n",
       "<style scoped>\n",
       "    .dataframe tbody tr th:only-of-type {\n",
       "        vertical-align: middle;\n",
       "    }\n",
       "\n",
       "    .dataframe tbody tr th {\n",
       "        vertical-align: top;\n",
       "    }\n",
       "\n",
       "    .dataframe thead th {\n",
       "        text-align: right;\n",
       "    }\n",
       "</style>\n",
       "<table border=\"1\" class=\"dataframe\">\n",
       "  <thead>\n",
       "    <tr style=\"text-align: right;\">\n",
       "      <th></th>\n",
       "      <th>gerente_id</th>\n",
       "      <th>gerente_regional</th>\n",
       "    </tr>\n",
       "  </thead>\n",
       "  <tbody>\n",
       "    <tr>\n",
       "      <th>0</th>\n",
       "      <td>1001</td>\n",
       "      <td>Eva Lara</td>\n",
       "    </tr>\n",
       "    <tr>\n",
       "      <th>1</th>\n",
       "      <td>1010</td>\n",
       "      <td>Silvia Pérez</td>\n",
       "    </tr>\n",
       "    <tr>\n",
       "      <th>2</th>\n",
       "      <td>1020</td>\n",
       "      <td>Augusto Olivares</td>\n",
       "    </tr>\n",
       "    <tr>\n",
       "      <th>3</th>\n",
       "      <td>1023</td>\n",
       "      <td>Gabriela Bustamante</td>\n",
       "    </tr>\n",
       "    <tr>\n",
       "      <th>4</th>\n",
       "      <td>1551</td>\n",
       "      <td>Alejandro Villatoro</td>\n",
       "    </tr>\n",
       "  </tbody>\n",
       "</table>\n",
       "</div>"
      ],
      "text/plain": [
       "   gerente_id     gerente_regional\n",
       "0        1001             Eva Lara\n",
       "1        1010         Silvia Pérez\n",
       "2        1020     Augusto Olivares\n",
       "3        1023  Gabriela Bustamante\n",
       "4        1551  Alejandro Villatoro"
      ]
     },
     "execution_count": 139,
     "metadata": {},
     "output_type": "execute_result"
    }
   ],
   "source": [
    "sql_query = 'SELECT * FROM gerente;'\n",
    "dw_gerente = pd.read_sql(sql_query, postgres_driver)\n",
    "dw_gerente.head()"
   ]
  },
  {
   "cell_type": "code",
   "execution_count": 141,
   "metadata": {},
   "outputs": [
    {
     "data": {
      "text/html": [
       "<div>\n",
       "<style scoped>\n",
       "    .dataframe tbody tr th:only-of-type {\n",
       "        vertical-align: middle;\n",
       "    }\n",
       "\n",
       "    .dataframe tbody tr th {\n",
       "        vertical-align: top;\n",
       "    }\n",
       "\n",
       "    .dataframe thead th {\n",
       "        text-align: right;\n",
       "    }\n",
       "</style>\n",
       "<table border=\"1\" class=\"dataframe\">\n",
       "  <thead>\n",
       "    <tr style=\"text-align: right;\">\n",
       "      <th></th>\n",
       "      <th>store_id</th>\n",
       "      <th>store</th>\n",
       "      <th>region</th>\n",
       "      <th>gerente_regional</th>\n",
       "    </tr>\n",
       "  </thead>\n",
       "  <tbody>\n",
       "    <tr>\n",
       "      <th>0</th>\n",
       "      <td>G10</td>\n",
       "      <td>CENTRAL 2</td>\n",
       "      <td>Metropolitana</td>\n",
       "      <td>Eva Lara</td>\n",
       "    </tr>\n",
       "    <tr>\n",
       "      <th>1</th>\n",
       "      <td>G20</td>\n",
       "      <td>PETEN</td>\n",
       "      <td>Norte</td>\n",
       "      <td>Silvia Pérez</td>\n",
       "    </tr>\n",
       "    <tr>\n",
       "      <th>2</th>\n",
       "      <td>G30</td>\n",
       "      <td>IZABAL</td>\n",
       "      <td>Nororiental</td>\n",
       "      <td>Augusto Olivares</td>\n",
       "    </tr>\n",
       "    <tr>\n",
       "      <th>3</th>\n",
       "      <td>G40</td>\n",
       "      <td>ESCUINTLA</td>\n",
       "      <td>Suroriental</td>\n",
       "      <td>Gabriela Bustamante</td>\n",
       "    </tr>\n",
       "    <tr>\n",
       "      <th>4</th>\n",
       "      <td>G60</td>\n",
       "      <td>XELA</td>\n",
       "      <td>Suroriental</td>\n",
       "      <td>Pablo Torres</td>\n",
       "    </tr>\n",
       "  </tbody>\n",
       "</table>\n",
       "</div>"
      ],
      "text/plain": [
       "  store_id      store         region     gerente_regional\n",
       "0      G10  CENTRAL 2  Metropolitana             Eva Lara\n",
       "1      G20      PETEN          Norte         Silvia Pérez\n",
       "2      G30     IZABAL    Nororiental     Augusto Olivares\n",
       "3      G40  ESCUINTLA    Suroriental  Gabriela Bustamante\n",
       "4      G60       XELA    Suroriental         Pablo Torres"
      ]
     },
     "execution_count": 141,
     "metadata": {},
     "output_type": "execute_result"
    }
   ],
   "source": [
    "dim_store = dw_store_region.merge(dw_gerente, on='gerente_id', how='inner')\n",
    "dim_store.drop(['region_id', 'gerente_id'], axis=1,  inplace=True)\n",
    "dim_store.head()"
   ]
  },
  {
   "attachments": {},
   "cell_type": "markdown",
   "metadata": {},
   "source": [
    "### DIMENSION CIUDAD"
   ]
  },
  {
   "cell_type": "code",
   "execution_count": 142,
   "metadata": {},
   "outputs": [
    {
     "data": {
      "text/html": [
       "<div>\n",
       "<style scoped>\n",
       "    .dataframe tbody tr th:only-of-type {\n",
       "        vertical-align: middle;\n",
       "    }\n",
       "\n",
       "    .dataframe tbody tr th {\n",
       "        vertical-align: top;\n",
       "    }\n",
       "\n",
       "    .dataframe thead th {\n",
       "        text-align: right;\n",
       "    }\n",
       "</style>\n",
       "<table border=\"1\" class=\"dataframe\">\n",
       "  <thead>\n",
       "    <tr style=\"text-align: right;\">\n",
       "      <th></th>\n",
       "      <th>municipio_id</th>\n",
       "      <th>departamento_id</th>\n",
       "      <th>municipio</th>\n",
       "    </tr>\n",
       "  </thead>\n",
       "  <tbody>\n",
       "    <tr>\n",
       "      <th>0</th>\n",
       "      <td>GT-0101</td>\n",
       "      <td>GT-01</td>\n",
       "      <td>Guatemala</td>\n",
       "    </tr>\n",
       "    <tr>\n",
       "      <th>1</th>\n",
       "      <td>GT-0102</td>\n",
       "      <td>GT-01</td>\n",
       "      <td>Santa Catarina Pinula</td>\n",
       "    </tr>\n",
       "    <tr>\n",
       "      <th>2</th>\n",
       "      <td>GT-0103</td>\n",
       "      <td>GT-01</td>\n",
       "      <td>San José Pinula</td>\n",
       "    </tr>\n",
       "    <tr>\n",
       "      <th>3</th>\n",
       "      <td>GT-0104</td>\n",
       "      <td>GT-01</td>\n",
       "      <td>San José del Golfo</td>\n",
       "    </tr>\n",
       "    <tr>\n",
       "      <th>4</th>\n",
       "      <td>GT-0105</td>\n",
       "      <td>GT-01</td>\n",
       "      <td>Palencia</td>\n",
       "    </tr>\n",
       "  </tbody>\n",
       "</table>\n",
       "</div>"
      ],
      "text/plain": [
       "  municipio_id departamento_id              municipio\n",
       "0      GT-0101           GT-01              Guatemala\n",
       "1      GT-0102           GT-01  Santa Catarina Pinula\n",
       "2      GT-0103           GT-01        San José Pinula\n",
       "3      GT-0104           GT-01     San José del Golfo\n",
       "4      GT-0105           GT-01               Palencia"
      ]
     },
     "execution_count": 142,
     "metadata": {},
     "output_type": "execute_result"
    }
   ],
   "source": [
    "sql_query = 'SELECT * FROM municipio;'\n",
    "dw_municipio = pd.read_sql(sql_query, postgres_driver)\n",
    "dw_municipio.head()"
   ]
  },
  {
   "cell_type": "code",
   "execution_count": 143,
   "metadata": {},
   "outputs": [
    {
     "data": {
      "text/html": [
       "<div>\n",
       "<style scoped>\n",
       "    .dataframe tbody tr th:only-of-type {\n",
       "        vertical-align: middle;\n",
       "    }\n",
       "\n",
       "    .dataframe tbody tr th {\n",
       "        vertical-align: top;\n",
       "    }\n",
       "\n",
       "    .dataframe thead th {\n",
       "        text-align: right;\n",
       "    }\n",
       "</style>\n",
       "<table border=\"1\" class=\"dataframe\">\n",
       "  <thead>\n",
       "    <tr style=\"text-align: right;\">\n",
       "      <th></th>\n",
       "      <th>departamento_id</th>\n",
       "      <th>region_id</th>\n",
       "      <th>departamento</th>\n",
       "    </tr>\n",
       "  </thead>\n",
       "  <tbody>\n",
       "    <tr>\n",
       "      <th>0</th>\n",
       "      <td>GT-01</td>\n",
       "      <td>MET</td>\n",
       "      <td>Guatemala</td>\n",
       "    </tr>\n",
       "    <tr>\n",
       "      <th>1</th>\n",
       "      <td>GT-02</td>\n",
       "      <td>NOR</td>\n",
       "      <td>Alta Verapaz</td>\n",
       "    </tr>\n",
       "    <tr>\n",
       "      <th>2</th>\n",
       "      <td>GT-03</td>\n",
       "      <td>NOR</td>\n",
       "      <td>Baja Verapaz</td>\n",
       "    </tr>\n",
       "    <tr>\n",
       "      <th>3</th>\n",
       "      <td>GT-04</td>\n",
       "      <td>NRT</td>\n",
       "      <td>Chiquimula</td>\n",
       "    </tr>\n",
       "    <tr>\n",
       "      <th>4</th>\n",
       "      <td>GT-05</td>\n",
       "      <td>NRT</td>\n",
       "      <td>El Progreso</td>\n",
       "    </tr>\n",
       "  </tbody>\n",
       "</table>\n",
       "</div>"
      ],
      "text/plain": [
       "  departamento_id region_id  departamento\n",
       "0           GT-01       MET     Guatemala\n",
       "1           GT-02       NOR  Alta Verapaz\n",
       "2           GT-03       NOR  Baja Verapaz\n",
       "3           GT-04       NRT    Chiquimula\n",
       "4           GT-05       NRT   El Progreso"
      ]
     },
     "execution_count": 143,
     "metadata": {},
     "output_type": "execute_result"
    }
   ],
   "source": [
    "sql_query = 'SELECT * FROM departamento;'\n",
    "dw_departamento = pd.read_sql(sql_query, postgres_driver)\n",
    "dw_departamento.head()"
   ]
  },
  {
   "cell_type": "code",
   "execution_count": 144,
   "metadata": {},
   "outputs": [
    {
     "data": {
      "text/html": [
       "<div>\n",
       "<style scoped>\n",
       "    .dataframe tbody tr th:only-of-type {\n",
       "        vertical-align: middle;\n",
       "    }\n",
       "\n",
       "    .dataframe tbody tr th {\n",
       "        vertical-align: top;\n",
       "    }\n",
       "\n",
       "    .dataframe thead th {\n",
       "        text-align: right;\n",
       "    }\n",
       "</style>\n",
       "<table border=\"1\" class=\"dataframe\">\n",
       "  <thead>\n",
       "    <tr style=\"text-align: right;\">\n",
       "      <th></th>\n",
       "      <th>municipio_id</th>\n",
       "      <th>departamento_id</th>\n",
       "      <th>municipio</th>\n",
       "      <th>region_id</th>\n",
       "      <th>departamento</th>\n",
       "    </tr>\n",
       "  </thead>\n",
       "  <tbody>\n",
       "    <tr>\n",
       "      <th>0</th>\n",
       "      <td>GT-0101</td>\n",
       "      <td>GT-01</td>\n",
       "      <td>Guatemala</td>\n",
       "      <td>MET</td>\n",
       "      <td>Guatemala</td>\n",
       "    </tr>\n",
       "    <tr>\n",
       "      <th>1</th>\n",
       "      <td>GT-0102</td>\n",
       "      <td>GT-01</td>\n",
       "      <td>Santa Catarina Pinula</td>\n",
       "      <td>MET</td>\n",
       "      <td>Guatemala</td>\n",
       "    </tr>\n",
       "    <tr>\n",
       "      <th>2</th>\n",
       "      <td>GT-0103</td>\n",
       "      <td>GT-01</td>\n",
       "      <td>San José Pinula</td>\n",
       "      <td>MET</td>\n",
       "      <td>Guatemala</td>\n",
       "    </tr>\n",
       "    <tr>\n",
       "      <th>3</th>\n",
       "      <td>GT-0104</td>\n",
       "      <td>GT-01</td>\n",
       "      <td>San José del Golfo</td>\n",
       "      <td>MET</td>\n",
       "      <td>Guatemala</td>\n",
       "    </tr>\n",
       "    <tr>\n",
       "      <th>4</th>\n",
       "      <td>GT-0105</td>\n",
       "      <td>GT-01</td>\n",
       "      <td>Palencia</td>\n",
       "      <td>MET</td>\n",
       "      <td>Guatemala</td>\n",
       "    </tr>\n",
       "  </tbody>\n",
       "</table>\n",
       "</div>"
      ],
      "text/plain": [
       "  municipio_id departamento_id              municipio region_id departamento\n",
       "0      GT-0101           GT-01              Guatemala       MET    Guatemala\n",
       "1      GT-0102           GT-01  Santa Catarina Pinula       MET    Guatemala\n",
       "2      GT-0103           GT-01        San José Pinula       MET    Guatemala\n",
       "3      GT-0104           GT-01     San José del Golfo       MET    Guatemala\n",
       "4      GT-0105           GT-01               Palencia       MET    Guatemala"
      ]
     },
     "execution_count": 144,
     "metadata": {},
     "output_type": "execute_result"
    }
   ],
   "source": [
    "dw_municipio_dep = dw_municipio.merge(dw_departamento, on='departamento_id', how='inner')\n",
    "dw_municipio_dep.head()"
   ]
  },
  {
   "cell_type": "code",
   "execution_count": 145,
   "metadata": {},
   "outputs": [
    {
     "data": {
      "text/html": [
       "<div>\n",
       "<style scoped>\n",
       "    .dataframe tbody tr th:only-of-type {\n",
       "        vertical-align: middle;\n",
       "    }\n",
       "\n",
       "    .dataframe tbody tr th {\n",
       "        vertical-align: top;\n",
       "    }\n",
       "\n",
       "    .dataframe thead th {\n",
       "        text-align: right;\n",
       "    }\n",
       "</style>\n",
       "<table border=\"1\" class=\"dataframe\">\n",
       "  <thead>\n",
       "    <tr style=\"text-align: right;\">\n",
       "      <th></th>\n",
       "      <th>region_id</th>\n",
       "      <th>region</th>\n",
       "    </tr>\n",
       "  </thead>\n",
       "  <tbody>\n",
       "    <tr>\n",
       "      <th>0</th>\n",
       "      <td>MET</td>\n",
       "      <td>Metropolitana</td>\n",
       "    </tr>\n",
       "    <tr>\n",
       "      <th>1</th>\n",
       "      <td>NOR</td>\n",
       "      <td>Norte</td>\n",
       "    </tr>\n",
       "    <tr>\n",
       "      <th>2</th>\n",
       "      <td>NRT</td>\n",
       "      <td>Nororiental</td>\n",
       "    </tr>\n",
       "    <tr>\n",
       "      <th>3</th>\n",
       "      <td>SUR</td>\n",
       "      <td>Suroriental</td>\n",
       "    </tr>\n",
       "    <tr>\n",
       "      <th>4</th>\n",
       "      <td>CNT</td>\n",
       "      <td>Central</td>\n",
       "    </tr>\n",
       "  </tbody>\n",
       "</table>\n",
       "</div>"
      ],
      "text/plain": [
       "  region_id         region\n",
       "0       MET  Metropolitana\n",
       "1       NOR          Norte\n",
       "2       NRT    Nororiental\n",
       "3       SUR    Suroriental\n",
       "4       CNT        Central"
      ]
     },
     "execution_count": 145,
     "metadata": {},
     "output_type": "execute_result"
    }
   ],
   "source": [
    "sql_query = 'SELECT * FROM region;'\n",
    "dw_region = pd.read_sql(sql_query, postgres_driver)\n",
    "dw_region.head()"
   ]
  },
  {
   "cell_type": "code",
   "execution_count": 148,
   "metadata": {},
   "outputs": [
    {
     "data": {
      "text/html": [
       "<div>\n",
       "<style scoped>\n",
       "    .dataframe tbody tr th:only-of-type {\n",
       "        vertical-align: middle;\n",
       "    }\n",
       "\n",
       "    .dataframe tbody tr th {\n",
       "        vertical-align: top;\n",
       "    }\n",
       "\n",
       "    .dataframe thead th {\n",
       "        text-align: right;\n",
       "    }\n",
       "</style>\n",
       "<table border=\"1\" class=\"dataframe\">\n",
       "  <thead>\n",
       "    <tr style=\"text-align: right;\">\n",
       "      <th></th>\n",
       "      <th>municipio_id</th>\n",
       "      <th>municipio</th>\n",
       "      <th>departamento</th>\n",
       "      <th>region</th>\n",
       "    </tr>\n",
       "  </thead>\n",
       "  <tbody>\n",
       "    <tr>\n",
       "      <th>0</th>\n",
       "      <td>GT-0101</td>\n",
       "      <td>Guatemala</td>\n",
       "      <td>Guatemala</td>\n",
       "      <td>Metropolitana</td>\n",
       "    </tr>\n",
       "    <tr>\n",
       "      <th>1</th>\n",
       "      <td>GT-0102</td>\n",
       "      <td>Santa Catarina Pinula</td>\n",
       "      <td>Guatemala</td>\n",
       "      <td>Metropolitana</td>\n",
       "    </tr>\n",
       "    <tr>\n",
       "      <th>2</th>\n",
       "      <td>GT-0103</td>\n",
       "      <td>San José Pinula</td>\n",
       "      <td>Guatemala</td>\n",
       "      <td>Metropolitana</td>\n",
       "    </tr>\n",
       "    <tr>\n",
       "      <th>3</th>\n",
       "      <td>GT-0104</td>\n",
       "      <td>San José del Golfo</td>\n",
       "      <td>Guatemala</td>\n",
       "      <td>Metropolitana</td>\n",
       "    </tr>\n",
       "    <tr>\n",
       "      <th>4</th>\n",
       "      <td>GT-0105</td>\n",
       "      <td>Palencia</td>\n",
       "      <td>Guatemala</td>\n",
       "      <td>Metropolitana</td>\n",
       "    </tr>\n",
       "  </tbody>\n",
       "</table>\n",
       "</div>"
      ],
      "text/plain": [
       "  municipio_id              municipio departamento         region\n",
       "0      GT-0101              Guatemala    Guatemala  Metropolitana\n",
       "1      GT-0102  Santa Catarina Pinula    Guatemala  Metropolitana\n",
       "2      GT-0103        San José Pinula    Guatemala  Metropolitana\n",
       "3      GT-0104     San José del Golfo    Guatemala  Metropolitana\n",
       "4      GT-0105               Palencia    Guatemala  Metropolitana"
      ]
     },
     "execution_count": 148,
     "metadata": {},
     "output_type": "execute_result"
    }
   ],
   "source": [
    "dim_municipio = dw_municipio_dep.merge(dw_region, on='region_id', how='inner')\n",
    "dim_municipio.drop(['region_id', 'departamento_id'], axis=1,  inplace=True)\n",
    "dim_municipio.head()"
   ]
  },
  {
   "attachments": {},
   "cell_type": "markdown",
   "metadata": {},
   "source": [
    "#### DIMENSION FECHA"
   ]
  },
  {
   "cell_type": "code",
   "execution_count": 225,
   "metadata": {},
   "outputs": [
    {
     "data": {
      "text/html": [
       "<div>\n",
       "<style scoped>\n",
       "    .dataframe tbody tr th:only-of-type {\n",
       "        vertical-align: middle;\n",
       "    }\n",
       "\n",
       "    .dataframe tbody tr th {\n",
       "        vertical-align: top;\n",
       "    }\n",
       "\n",
       "    .dataframe thead th {\n",
       "        text-align: right;\n",
       "    }\n",
       "</style>\n",
       "<table border=\"1\" class=\"dataframe\">\n",
       "  <thead>\n",
       "    <tr style=\"text-align: right;\">\n",
       "      <th></th>\n",
       "      <th>fecha_pedido</th>\n",
       "    </tr>\n",
       "  </thead>\n",
       "  <tbody>\n",
       "    <tr>\n",
       "      <th>0</th>\n",
       "      <td>2014-10-02</td>\n",
       "    </tr>\n",
       "    <tr>\n",
       "      <th>1</th>\n",
       "      <td>2012-10-15</td>\n",
       "    </tr>\n",
       "    <tr>\n",
       "      <th>2</th>\n",
       "      <td>2012-10-15</td>\n",
       "    </tr>\n",
       "    <tr>\n",
       "      <th>3</th>\n",
       "      <td>2012-10-15</td>\n",
       "    </tr>\n",
       "    <tr>\n",
       "      <th>4</th>\n",
       "      <td>2012-10-15</td>\n",
       "    </tr>\n",
       "  </tbody>\n",
       "</table>\n",
       "</div>"
      ],
      "text/plain": [
       "  fecha_pedido\n",
       "0   2014-10-02\n",
       "1   2012-10-15\n",
       "2   2012-10-15\n",
       "3   2012-10-15\n",
       "4   2012-10-15"
      ]
     },
     "execution_count": 225,
     "metadata": {},
     "output_type": "execute_result"
    }
   ],
   "source": [
    "sql_query = 'SELECT fecha_pedido FROM ventas;'\n",
    "dimFecha = pd.read_sql(sql_query, postgres_driver)\n",
    "dimFecha.head()"
   ]
  },
  {
   "cell_type": "code",
   "execution_count": 231,
   "metadata": {},
   "outputs": [
    {
     "name": "stderr",
     "output_type": "stream",
     "text": [
      "/var/folders/4j/dcxs948x2_z98dj_6scrl76m0000gn/T/ipykernel_2919/1465301199.py:5: FutureWarning: weekofyear and week have been deprecated, please use DatetimeIndex.isocalendar().week instead, which returns a Series. To exactly reproduce the behavior of week and weekofyear and return an Index, you may call pd.Int64Index(idx.isocalendar().week)\n",
      "  dimFecha['week'] = pd.DatetimeIndex(dimFecha['fecha_pedido']).week\n"
     ]
    },
    {
     "data": {
      "text/html": [
       "<div>\n",
       "<style scoped>\n",
       "    .dataframe tbody tr th:only-of-type {\n",
       "        vertical-align: middle;\n",
       "    }\n",
       "\n",
       "    .dataframe tbody tr th {\n",
       "        vertical-align: top;\n",
       "    }\n",
       "\n",
       "    .dataframe thead th {\n",
       "        text-align: right;\n",
       "    }\n",
       "</style>\n",
       "<table border=\"1\" class=\"dataframe\">\n",
       "  <thead>\n",
       "    <tr style=\"text-align: right;\">\n",
       "      <th></th>\n",
       "      <th>fecha_pedido</th>\n",
       "      <th>year</th>\n",
       "      <th>month</th>\n",
       "      <th>quarter</th>\n",
       "      <th>day</th>\n",
       "      <th>week</th>\n",
       "      <th>dayofweek</th>\n",
       "      <th>is_weekend</th>\n",
       "      <th>id_fecha</th>\n",
       "    </tr>\n",
       "  </thead>\n",
       "  <tbody>\n",
       "    <tr>\n",
       "      <th>0</th>\n",
       "      <td>2014-10-02</td>\n",
       "      <td>2014</td>\n",
       "      <td>10</td>\n",
       "      <td>4</td>\n",
       "      <td>2</td>\n",
       "      <td>40</td>\n",
       "      <td>3</td>\n",
       "      <td>0</td>\n",
       "      <td>2014102</td>\n",
       "    </tr>\n",
       "    <tr>\n",
       "      <th>1</th>\n",
       "      <td>2012-10-15</td>\n",
       "      <td>2012</td>\n",
       "      <td>10</td>\n",
       "      <td>4</td>\n",
       "      <td>15</td>\n",
       "      <td>42</td>\n",
       "      <td>0</td>\n",
       "      <td>0</td>\n",
       "      <td>20121015</td>\n",
       "    </tr>\n",
       "    <tr>\n",
       "      <th>6</th>\n",
       "      <td>2013-09-27</td>\n",
       "      <td>2013</td>\n",
       "      <td>9</td>\n",
       "      <td>3</td>\n",
       "      <td>27</td>\n",
       "      <td>39</td>\n",
       "      <td>4</td>\n",
       "      <td>0</td>\n",
       "      <td>2013927</td>\n",
       "    </tr>\n",
       "    <tr>\n",
       "      <th>11</th>\n",
       "      <td>2013-03-05</td>\n",
       "      <td>2013</td>\n",
       "      <td>3</td>\n",
       "      <td>1</td>\n",
       "      <td>5</td>\n",
       "      <td>10</td>\n",
       "      <td>1</td>\n",
       "      <td>0</td>\n",
       "      <td>201335</td>\n",
       "    </tr>\n",
       "    <tr>\n",
       "      <th>13</th>\n",
       "      <td>2014-09-24</td>\n",
       "      <td>2014</td>\n",
       "      <td>9</td>\n",
       "      <td>3</td>\n",
       "      <td>24</td>\n",
       "      <td>39</td>\n",
       "      <td>2</td>\n",
       "      <td>0</td>\n",
       "      <td>2014924</td>\n",
       "    </tr>\n",
       "  </tbody>\n",
       "</table>\n",
       "</div>"
      ],
      "text/plain": [
       "   fecha_pedido  year  month  quarter  day  week  dayofweek  is_weekend  \\\n",
       "0    2014-10-02  2014     10        4    2    40          3           0   \n",
       "1    2012-10-15  2012     10        4   15    42          0           0   \n",
       "6    2013-09-27  2013      9        3   27    39          4           0   \n",
       "11   2013-03-05  2013      3        1    5    10          1           0   \n",
       "13   2014-09-24  2014      9        3   24    39          2           0   \n",
       "\n",
       "    id_fecha  \n",
       "0    2014102  \n",
       "1   20121015  \n",
       "6    2013927  \n",
       "11    201335  \n",
       "13   2014924  "
      ]
     },
     "execution_count": 231,
     "metadata": {},
     "output_type": "execute_result"
    }
   ],
   "source": [
    "dimFecha['year'] = pd.DatetimeIndex(dimFecha['fecha_pedido']).year\n",
    "dimFecha['month'] = pd.DatetimeIndex(dimFecha['fecha_pedido']).month\n",
    "dimFecha['quarter'] = pd.DatetimeIndex(dimFecha['fecha_pedido']).quarter\n",
    "dimFecha['day'] = pd.DatetimeIndex(dimFecha['fecha_pedido']).day\n",
    "dimFecha['week'] = pd.DatetimeIndex(dimFecha['fecha_pedido']).week\n",
    "dimFecha['dayofweek'] = pd.DatetimeIndex(dimFecha['fecha_pedido']).dayofweek\n",
    "dimFecha['is_weekend'] = dimFecha['dayofweek'].apply(lambda x: 1 if x > 5 else 0)\n",
    "dimFecha.head()"
   ]
  },
  {
   "cell_type": "code",
   "execution_count": 227,
   "metadata": {},
   "outputs": [
    {
     "data": {
      "text/html": [
       "<div>\n",
       "<style scoped>\n",
       "    .dataframe tbody tr th:only-of-type {\n",
       "        vertical-align: middle;\n",
       "    }\n",
       "\n",
       "    .dataframe tbody tr th {\n",
       "        vertical-align: top;\n",
       "    }\n",
       "\n",
       "    .dataframe thead th {\n",
       "        text-align: right;\n",
       "    }\n",
       "</style>\n",
       "<table border=\"1\" class=\"dataframe\">\n",
       "  <thead>\n",
       "    <tr style=\"text-align: right;\">\n",
       "      <th></th>\n",
       "      <th>fecha_pedido</th>\n",
       "      <th>year</th>\n",
       "      <th>month</th>\n",
       "      <th>quarter</th>\n",
       "      <th>day</th>\n",
       "      <th>week</th>\n",
       "      <th>dayofweek</th>\n",
       "      <th>is_weekend</th>\n",
       "      <th>id_fecha</th>\n",
       "    </tr>\n",
       "  </thead>\n",
       "  <tbody>\n",
       "    <tr>\n",
       "      <th>0</th>\n",
       "      <td>2014-10-02</td>\n",
       "      <td>2014</td>\n",
       "      <td>10</td>\n",
       "      <td>4</td>\n",
       "      <td>2</td>\n",
       "      <td>40</td>\n",
       "      <td>3</td>\n",
       "      <td>0</td>\n",
       "      <td>2014102</td>\n",
       "    </tr>\n",
       "    <tr>\n",
       "      <th>1</th>\n",
       "      <td>2012-10-15</td>\n",
       "      <td>2012</td>\n",
       "      <td>10</td>\n",
       "      <td>4</td>\n",
       "      <td>15</td>\n",
       "      <td>42</td>\n",
       "      <td>0</td>\n",
       "      <td>0</td>\n",
       "      <td>20121015</td>\n",
       "    </tr>\n",
       "    <tr>\n",
       "      <th>6</th>\n",
       "      <td>2013-09-27</td>\n",
       "      <td>2013</td>\n",
       "      <td>9</td>\n",
       "      <td>3</td>\n",
       "      <td>27</td>\n",
       "      <td>39</td>\n",
       "      <td>4</td>\n",
       "      <td>0</td>\n",
       "      <td>2013927</td>\n",
       "    </tr>\n",
       "    <tr>\n",
       "      <th>11</th>\n",
       "      <td>2013-03-05</td>\n",
       "      <td>2013</td>\n",
       "      <td>3</td>\n",
       "      <td>1</td>\n",
       "      <td>5</td>\n",
       "      <td>10</td>\n",
       "      <td>1</td>\n",
       "      <td>0</td>\n",
       "      <td>201335</td>\n",
       "    </tr>\n",
       "    <tr>\n",
       "      <th>13</th>\n",
       "      <td>2014-09-24</td>\n",
       "      <td>2014</td>\n",
       "      <td>9</td>\n",
       "      <td>3</td>\n",
       "      <td>24</td>\n",
       "      <td>39</td>\n",
       "      <td>2</td>\n",
       "      <td>0</td>\n",
       "      <td>2014924</td>\n",
       "    </tr>\n",
       "  </tbody>\n",
       "</table>\n",
       "</div>"
      ],
      "text/plain": [
       "   fecha_pedido  year  month  quarter  day  week  dayofweek  is_weekend  \\\n",
       "0    2014-10-02  2014     10        4    2    40          3           0   \n",
       "1    2012-10-15  2012     10        4   15    42          0           0   \n",
       "6    2013-09-27  2013      9        3   27    39          4           0   \n",
       "11   2013-03-05  2013      3        1    5    10          1           0   \n",
       "13   2014-09-24  2014      9        3   24    39          2           0   \n",
       "\n",
       "    id_fecha  \n",
       "0    2014102  \n",
       "1   20121015  \n",
       "6    2013927  \n",
       "11    201335  \n",
       "13   2014924  "
      ]
     },
     "execution_count": 227,
     "metadata": {},
     "output_type": "execute_result"
    }
   ],
   "source": [
    "dimFecha['id_fecha'] = dimFecha['year'].astype(str) + dimFecha['month'].astype(str)\n",
    "dimFecha['id_fecha'] = dimFecha['id_fecha'].astype(str) + dimFecha['day'].astype(str)\n",
    "dimFecha.drop_duplicates(dimFecha.columns[~dimFecha.columns.isin(['id_fecha'])], \n",
    "                         keep='first', inplace=True)\n",
    "dimFecha.head()"
   ]
  },
  {
   "cell_type": "code",
   "execution_count": 233,
   "metadata": {},
   "outputs": [
    {
     "data": {
      "text/html": [
       "<div>\n",
       "<style scoped>\n",
       "    .dataframe tbody tr th:only-of-type {\n",
       "        vertical-align: middle;\n",
       "    }\n",
       "\n",
       "    .dataframe tbody tr th {\n",
       "        vertical-align: top;\n",
       "    }\n",
       "\n",
       "    .dataframe thead th {\n",
       "        text-align: right;\n",
       "    }\n",
       "</style>\n",
       "<table border=\"1\" class=\"dataframe\">\n",
       "  <thead>\n",
       "    <tr style=\"text-align: right;\">\n",
       "      <th></th>\n",
       "      <th>fecha_pedido</th>\n",
       "      <th>year</th>\n",
       "      <th>month</th>\n",
       "      <th>quarter</th>\n",
       "      <th>day</th>\n",
       "      <th>week</th>\n",
       "      <th>dayofweek</th>\n",
       "      <th>is_weekend</th>\n",
       "      <th>id_fecha</th>\n",
       "    </tr>\n",
       "  </thead>\n",
       "  <tbody>\n",
       "    <tr>\n",
       "      <th>0</th>\n",
       "      <td>2014-10-02</td>\n",
       "      <td>2014</td>\n",
       "      <td>10</td>\n",
       "      <td>4</td>\n",
       "      <td>2</td>\n",
       "      <td>40</td>\n",
       "      <td>3</td>\n",
       "      <td>0</td>\n",
       "      <td>2014102</td>\n",
       "    </tr>\n",
       "    <tr>\n",
       "      <th>1</th>\n",
       "      <td>2012-10-15</td>\n",
       "      <td>2012</td>\n",
       "      <td>10</td>\n",
       "      <td>4</td>\n",
       "      <td>15</td>\n",
       "      <td>42</td>\n",
       "      <td>0</td>\n",
       "      <td>0</td>\n",
       "      <td>20121015</td>\n",
       "    </tr>\n",
       "    <tr>\n",
       "      <th>6</th>\n",
       "      <td>2013-09-27</td>\n",
       "      <td>2013</td>\n",
       "      <td>9</td>\n",
       "      <td>3</td>\n",
       "      <td>27</td>\n",
       "      <td>39</td>\n",
       "      <td>4</td>\n",
       "      <td>0</td>\n",
       "      <td>2013927</td>\n",
       "    </tr>\n",
       "    <tr>\n",
       "      <th>11</th>\n",
       "      <td>2013-03-05</td>\n",
       "      <td>2013</td>\n",
       "      <td>3</td>\n",
       "      <td>1</td>\n",
       "      <td>5</td>\n",
       "      <td>10</td>\n",
       "      <td>1</td>\n",
       "      <td>0</td>\n",
       "      <td>201335</td>\n",
       "    </tr>\n",
       "    <tr>\n",
       "      <th>13</th>\n",
       "      <td>2014-09-24</td>\n",
       "      <td>2014</td>\n",
       "      <td>9</td>\n",
       "      <td>3</td>\n",
       "      <td>24</td>\n",
       "      <td>39</td>\n",
       "      <td>2</td>\n",
       "      <td>0</td>\n",
       "      <td>2014924</td>\n",
       "    </tr>\n",
       "  </tbody>\n",
       "</table>\n",
       "</div>"
      ],
      "text/plain": [
       "   fecha_pedido  year  month  quarter  day  week  dayofweek  is_weekend  \\\n",
       "0    2014-10-02  2014     10        4    2    40          3           0   \n",
       "1    2012-10-15  2012     10        4   15    42          0           0   \n",
       "6    2013-09-27  2013      9        3   27    39          4           0   \n",
       "11   2013-03-05  2013      3        1    5    10          1           0   \n",
       "13   2014-09-24  2014      9        3   24    39          2           0   \n",
       "\n",
       "    id_fecha  \n",
       "0    2014102  \n",
       "1   20121015  \n",
       "6    2013927  \n",
       "11    201335  \n",
       "13   2014924  "
      ]
     },
     "execution_count": 233,
     "metadata": {},
     "output_type": "execute_result"
    }
   ],
   "source": [
    "dim_fecha = dimFecha.drop_duplicates(subset=['id_fecha'])\n",
    "dim_fecha.head()\n"
   ]
  },
  {
   "attachments": {},
   "cell_type": "markdown",
   "metadata": {},
   "source": [
    "#### TABLA DE HECHOS"
   ]
  },
  {
   "cell_type": "code",
   "execution_count": 252,
   "metadata": {},
   "outputs": [
    {
     "data": {
      "text/html": [
       "<div>\n",
       "<style scoped>\n",
       "    .dataframe tbody tr th:only-of-type {\n",
       "        vertical-align: middle;\n",
       "    }\n",
       "\n",
       "    .dataframe tbody tr th {\n",
       "        vertical-align: top;\n",
       "    }\n",
       "\n",
       "    .dataframe thead th {\n",
       "        text-align: right;\n",
       "    }\n",
       "</style>\n",
       "<table border=\"1\" class=\"dataframe\">\n",
       "  <thead>\n",
       "    <tr style=\"text-align: right;\">\n",
       "      <th></th>\n",
       "      <th>pedido_id</th>\n",
       "      <th>fecha_pedido</th>\n",
       "      <th>envio_id</th>\n",
       "      <th>cliente_id</th>\n",
       "      <th>municipio_id</th>\n",
       "      <th>departamento_id</th>\n",
       "      <th>region_id</th>\n",
       "      <th>store_id</th>\n",
       "      <th>producto_id</th>\n",
       "      <th>total</th>\n",
       "      <th>cantidad</th>\n",
       "      <th>descuento</th>\n",
       "      <th>ganancia</th>\n",
       "    </tr>\n",
       "  </thead>\n",
       "  <tbody>\n",
       "    <tr>\n",
       "      <th>0</th>\n",
       "      <td>GT-2014-1436581</td>\n",
       "      <td>2014-10-02</td>\n",
       "      <td>1001</td>\n",
       "      <td>RC-20575</td>\n",
       "      <td>GT-0101</td>\n",
       "      <td>GT-01</td>\n",
       "      <td>MET</td>\n",
       "      <td>G10</td>\n",
       "      <td>MAT-ET-10000866</td>\n",
       "      <td>130.8</td>\n",
       "      <td>3</td>\n",
       "      <td>0.0</td>\n",
       "      <td>45.6</td>\n",
       "    </tr>\n",
       "    <tr>\n",
       "      <th>1</th>\n",
       "      <td>GT-2014-1436582</td>\n",
       "      <td>2012-10-15</td>\n",
       "      <td>1001</td>\n",
       "      <td>IG-16570</td>\n",
       "      <td>GT-0102</td>\n",
       "      <td>GT-01</td>\n",
       "      <td>MET</td>\n",
       "      <td>G10</td>\n",
       "      <td>MOB-MO-10000543</td>\n",
       "      <td>2521.6</td>\n",
       "      <td>8</td>\n",
       "      <td>0.0</td>\n",
       "      <td>907.2</td>\n",
       "    </tr>\n",
       "    <tr>\n",
       "      <th>2</th>\n",
       "      <td>GT-2014-1436583</td>\n",
       "      <td>2012-10-15</td>\n",
       "      <td>1001</td>\n",
       "      <td>IG-16570</td>\n",
       "      <td>GT-0102</td>\n",
       "      <td>GT-01</td>\n",
       "      <td>MET</td>\n",
       "      <td>G10</td>\n",
       "      <td>MOB-LI-10000111</td>\n",
       "      <td>1932.8</td>\n",
       "      <td>2</td>\n",
       "      <td>0.0</td>\n",
       "      <td>540.8</td>\n",
       "    </tr>\n",
       "    <tr>\n",
       "      <th>3</th>\n",
       "      <td>GT-2014-1436584</td>\n",
       "      <td>2012-10-15</td>\n",
       "      <td>1001</td>\n",
       "      <td>IG-16570</td>\n",
       "      <td>GT-0102</td>\n",
       "      <td>GT-01</td>\n",
       "      <td>MET</td>\n",
       "      <td>G10</td>\n",
       "      <td>MAT-CA-10004211</td>\n",
       "      <td>354.4</td>\n",
       "      <td>4</td>\n",
       "      <td>0.0</td>\n",
       "      <td>49.6</td>\n",
       "    </tr>\n",
       "    <tr>\n",
       "      <th>4</th>\n",
       "      <td>GT-2014-1436585</td>\n",
       "      <td>2012-10-15</td>\n",
       "      <td>1001</td>\n",
       "      <td>IG-16570</td>\n",
       "      <td>GT-0102</td>\n",
       "      <td>GT-01</td>\n",
       "      <td>MET</td>\n",
       "      <td>G10</td>\n",
       "      <td>MAT-AR-10001135</td>\n",
       "      <td>716.0</td>\n",
       "      <td>2</td>\n",
       "      <td>0.0</td>\n",
       "      <td>114.4</td>\n",
       "    </tr>\n",
       "  </tbody>\n",
       "</table>\n",
       "</div>"
      ],
      "text/plain": [
       "         pedido_id fecha_pedido  envio_id cliente_id municipio_id  \\\n",
       "0  GT-2014-1436581   2014-10-02      1001   RC-20575      GT-0101   \n",
       "1  GT-2014-1436582   2012-10-15      1001   IG-16570      GT-0102   \n",
       "2  GT-2014-1436583   2012-10-15      1001   IG-16570      GT-0102   \n",
       "3  GT-2014-1436584   2012-10-15      1001   IG-16570      GT-0102   \n",
       "4  GT-2014-1436585   2012-10-15      1001   IG-16570      GT-0102   \n",
       "\n",
       "  departamento_id region_id store_id      producto_id   total  cantidad  \\\n",
       "0           GT-01       MET      G10  MAT-ET-10000866   130.8         3   \n",
       "1           GT-01       MET      G10  MOB-MO-10000543  2521.6         8   \n",
       "2           GT-01       MET      G10  MOB-LI-10000111  1932.8         2   \n",
       "3           GT-01       MET      G10  MAT-CA-10004211   354.4         4   \n",
       "4           GT-01       MET      G10  MAT-AR-10001135   716.0         2   \n",
       "\n",
       "   descuento  ganancia  \n",
       "0        0.0      45.6  \n",
       "1        0.0     907.2  \n",
       "2        0.0     540.8  \n",
       "3        0.0      49.6  \n",
       "4        0.0     114.4  "
      ]
     },
     "execution_count": 252,
     "metadata": {},
     "output_type": "execute_result"
    }
   ],
   "source": [
    "sql_query = '''SELECT v.pedido_id, v.fecha_pedido, v.envio_id, v.cliente_id, c.municipio_id, c.departamento_id, c.region_id,  \n",
    "v.store_id, v.producto_id, v.total, v.cantidad, v.descuento, v.ganancia\n",
    "FROM ventas as v\n",
    "inner join cliente as c on v.cliente_id = c.cliente_id\n",
    "inner join store as s on v.store_id = s.store_id;'''\n",
    "df_factTable = pd.read_sql(sql_query, postgres_driver)\n",
    "df_factTable.head()"
   ]
  },
  {
   "cell_type": "code",
   "execution_count": 253,
   "metadata": {},
   "outputs": [
    {
     "data": {
      "text/html": [
       "<div>\n",
       "<style scoped>\n",
       "    .dataframe tbody tr th:only-of-type {\n",
       "        vertical-align: middle;\n",
       "    }\n",
       "\n",
       "    .dataframe tbody tr th {\n",
       "        vertical-align: top;\n",
       "    }\n",
       "\n",
       "    .dataframe thead th {\n",
       "        text-align: right;\n",
       "    }\n",
       "</style>\n",
       "<table border=\"1\" class=\"dataframe\">\n",
       "  <thead>\n",
       "    <tr style=\"text-align: right;\">\n",
       "      <th></th>\n",
       "      <th>pedido_id</th>\n",
       "      <th>fecha_pedido</th>\n",
       "      <th>envio_id</th>\n",
       "      <th>cliente_id</th>\n",
       "      <th>municipio_id</th>\n",
       "      <th>departamento_id</th>\n",
       "      <th>region_id</th>\n",
       "      <th>store_id</th>\n",
       "      <th>producto_id</th>\n",
       "      <th>total</th>\n",
       "      <th>cantidad</th>\n",
       "      <th>descuento</th>\n",
       "      <th>ganancia</th>\n",
       "      <th>year</th>\n",
       "      <th>month</th>\n",
       "      <th>quarter</th>\n",
       "      <th>day</th>\n",
       "      <th>id_fecha</th>\n",
       "    </tr>\n",
       "  </thead>\n",
       "  <tbody>\n",
       "    <tr>\n",
       "      <th>0</th>\n",
       "      <td>GT-2014-1436581</td>\n",
       "      <td>2014-10-02</td>\n",
       "      <td>1001</td>\n",
       "      <td>RC-20575</td>\n",
       "      <td>GT-0101</td>\n",
       "      <td>GT-01</td>\n",
       "      <td>MET</td>\n",
       "      <td>G10</td>\n",
       "      <td>MAT-ET-10000866</td>\n",
       "      <td>130.8</td>\n",
       "      <td>3</td>\n",
       "      <td>0.0</td>\n",
       "      <td>45.6</td>\n",
       "      <td>2014</td>\n",
       "      <td>10</td>\n",
       "      <td>4</td>\n",
       "      <td>2</td>\n",
       "      <td>2014102</td>\n",
       "    </tr>\n",
       "    <tr>\n",
       "      <th>1</th>\n",
       "      <td>GT-2014-1436582</td>\n",
       "      <td>2012-10-15</td>\n",
       "      <td>1001</td>\n",
       "      <td>IG-16570</td>\n",
       "      <td>GT-0102</td>\n",
       "      <td>GT-01</td>\n",
       "      <td>MET</td>\n",
       "      <td>G10</td>\n",
       "      <td>MOB-MO-10000543</td>\n",
       "      <td>2521.6</td>\n",
       "      <td>8</td>\n",
       "      <td>0.0</td>\n",
       "      <td>907.2</td>\n",
       "      <td>2012</td>\n",
       "      <td>10</td>\n",
       "      <td>4</td>\n",
       "      <td>15</td>\n",
       "      <td>20121015</td>\n",
       "    </tr>\n",
       "    <tr>\n",
       "      <th>2</th>\n",
       "      <td>GT-2014-1436583</td>\n",
       "      <td>2012-10-15</td>\n",
       "      <td>1001</td>\n",
       "      <td>IG-16570</td>\n",
       "      <td>GT-0102</td>\n",
       "      <td>GT-01</td>\n",
       "      <td>MET</td>\n",
       "      <td>G10</td>\n",
       "      <td>MOB-LI-10000111</td>\n",
       "      <td>1932.8</td>\n",
       "      <td>2</td>\n",
       "      <td>0.0</td>\n",
       "      <td>540.8</td>\n",
       "      <td>2012</td>\n",
       "      <td>10</td>\n",
       "      <td>4</td>\n",
       "      <td>15</td>\n",
       "      <td>20121015</td>\n",
       "    </tr>\n",
       "    <tr>\n",
       "      <th>3</th>\n",
       "      <td>GT-2014-1436584</td>\n",
       "      <td>2012-10-15</td>\n",
       "      <td>1001</td>\n",
       "      <td>IG-16570</td>\n",
       "      <td>GT-0102</td>\n",
       "      <td>GT-01</td>\n",
       "      <td>MET</td>\n",
       "      <td>G10</td>\n",
       "      <td>MAT-CA-10004211</td>\n",
       "      <td>354.4</td>\n",
       "      <td>4</td>\n",
       "      <td>0.0</td>\n",
       "      <td>49.6</td>\n",
       "      <td>2012</td>\n",
       "      <td>10</td>\n",
       "      <td>4</td>\n",
       "      <td>15</td>\n",
       "      <td>20121015</td>\n",
       "    </tr>\n",
       "    <tr>\n",
       "      <th>4</th>\n",
       "      <td>GT-2014-1436585</td>\n",
       "      <td>2012-10-15</td>\n",
       "      <td>1001</td>\n",
       "      <td>IG-16570</td>\n",
       "      <td>GT-0102</td>\n",
       "      <td>GT-01</td>\n",
       "      <td>MET</td>\n",
       "      <td>G10</td>\n",
       "      <td>MAT-AR-10001135</td>\n",
       "      <td>716.0</td>\n",
       "      <td>2</td>\n",
       "      <td>0.0</td>\n",
       "      <td>114.4</td>\n",
       "      <td>2012</td>\n",
       "      <td>10</td>\n",
       "      <td>4</td>\n",
       "      <td>15</td>\n",
       "      <td>20121015</td>\n",
       "    </tr>\n",
       "  </tbody>\n",
       "</table>\n",
       "</div>"
      ],
      "text/plain": [
       "         pedido_id fecha_pedido  envio_id cliente_id municipio_id  \\\n",
       "0  GT-2014-1436581   2014-10-02      1001   RC-20575      GT-0101   \n",
       "1  GT-2014-1436582   2012-10-15      1001   IG-16570      GT-0102   \n",
       "2  GT-2014-1436583   2012-10-15      1001   IG-16570      GT-0102   \n",
       "3  GT-2014-1436584   2012-10-15      1001   IG-16570      GT-0102   \n",
       "4  GT-2014-1436585   2012-10-15      1001   IG-16570      GT-0102   \n",
       "\n",
       "  departamento_id region_id store_id      producto_id   total  cantidad  \\\n",
       "0           GT-01       MET      G10  MAT-ET-10000866   130.8         3   \n",
       "1           GT-01       MET      G10  MOB-MO-10000543  2521.6         8   \n",
       "2           GT-01       MET      G10  MOB-LI-10000111  1932.8         2   \n",
       "3           GT-01       MET      G10  MAT-CA-10004211   354.4         4   \n",
       "4           GT-01       MET      G10  MAT-AR-10001135   716.0         2   \n",
       "\n",
       "   descuento  ganancia  year  month  quarter  day  id_fecha  \n",
       "0        0.0      45.6  2014     10        4    2   2014102  \n",
       "1        0.0     907.2  2012     10        4   15  20121015  \n",
       "2        0.0     540.8  2012     10        4   15  20121015  \n",
       "3        0.0      49.6  2012     10        4   15  20121015  \n",
       "4        0.0     114.4  2012     10        4   15  20121015  "
      ]
     },
     "execution_count": 253,
     "metadata": {},
     "output_type": "execute_result"
    }
   ],
   "source": [
    "df_factTable['year'] = pd.DatetimeIndex(df_factTable['fecha_pedido']).year\n",
    "df_factTable['month'] = pd.DatetimeIndex(df_factTable['fecha_pedido']).month\n",
    "df_factTable['quarter'] = pd.DatetimeIndex(df_factTable['fecha_pedido']).quarter\n",
    "df_factTable['day'] = pd.DatetimeIndex(df_factTable['fecha_pedido']).day\n",
    "df_factTable['id_fecha'] = df_factTable['year'].astype(str) + df_factTable['month'].astype(str)\n",
    "df_factTable['id_fecha'] = df_factTable['id_fecha'].astype(str) + df_factTable['day'].astype(str)\n",
    "df_factTable.head()"
   ]
  },
  {
   "cell_type": "code",
   "execution_count": 254,
   "metadata": {},
   "outputs": [
    {
     "data": {
      "text/html": [
       "<div>\n",
       "<style scoped>\n",
       "    .dataframe tbody tr th:only-of-type {\n",
       "        vertical-align: middle;\n",
       "    }\n",
       "\n",
       "    .dataframe tbody tr th {\n",
       "        vertical-align: top;\n",
       "    }\n",
       "\n",
       "    .dataframe thead th {\n",
       "        text-align: right;\n",
       "    }\n",
       "</style>\n",
       "<table border=\"1\" class=\"dataframe\">\n",
       "  <thead>\n",
       "    <tr style=\"text-align: right;\">\n",
       "      <th></th>\n",
       "      <th>pedido_id</th>\n",
       "      <th>fecha_pedido</th>\n",
       "      <th>envio_id</th>\n",
       "      <th>cliente_id</th>\n",
       "      <th>municipio_id</th>\n",
       "      <th>departamento_id</th>\n",
       "      <th>region_id</th>\n",
       "      <th>store_id</th>\n",
       "      <th>producto_id</th>\n",
       "      <th>total</th>\n",
       "      <th>cantidad</th>\n",
       "      <th>descuento</th>\n",
       "      <th>ganancia</th>\n",
       "      <th>id_fecha</th>\n",
       "    </tr>\n",
       "  </thead>\n",
       "  <tbody>\n",
       "    <tr>\n",
       "      <th>0</th>\n",
       "      <td>GT-2014-1436581</td>\n",
       "      <td>2014-10-02</td>\n",
       "      <td>1001</td>\n",
       "      <td>RC-20575</td>\n",
       "      <td>GT-0101</td>\n",
       "      <td>GT-01</td>\n",
       "      <td>MET</td>\n",
       "      <td>G10</td>\n",
       "      <td>MAT-ET-10000866</td>\n",
       "      <td>130.8</td>\n",
       "      <td>3</td>\n",
       "      <td>0.0</td>\n",
       "      <td>45.6</td>\n",
       "      <td>2014102</td>\n",
       "    </tr>\n",
       "    <tr>\n",
       "      <th>1</th>\n",
       "      <td>GT-2014-1436582</td>\n",
       "      <td>2012-10-15</td>\n",
       "      <td>1001</td>\n",
       "      <td>IG-16570</td>\n",
       "      <td>GT-0102</td>\n",
       "      <td>GT-01</td>\n",
       "      <td>MET</td>\n",
       "      <td>G10</td>\n",
       "      <td>MOB-MO-10000543</td>\n",
       "      <td>2521.6</td>\n",
       "      <td>8</td>\n",
       "      <td>0.0</td>\n",
       "      <td>907.2</td>\n",
       "      <td>20121015</td>\n",
       "    </tr>\n",
       "    <tr>\n",
       "      <th>2</th>\n",
       "      <td>GT-2014-1436583</td>\n",
       "      <td>2012-10-15</td>\n",
       "      <td>1001</td>\n",
       "      <td>IG-16570</td>\n",
       "      <td>GT-0102</td>\n",
       "      <td>GT-01</td>\n",
       "      <td>MET</td>\n",
       "      <td>G10</td>\n",
       "      <td>MOB-LI-10000111</td>\n",
       "      <td>1932.8</td>\n",
       "      <td>2</td>\n",
       "      <td>0.0</td>\n",
       "      <td>540.8</td>\n",
       "      <td>20121015</td>\n",
       "    </tr>\n",
       "    <tr>\n",
       "      <th>3</th>\n",
       "      <td>GT-2014-1436584</td>\n",
       "      <td>2012-10-15</td>\n",
       "      <td>1001</td>\n",
       "      <td>IG-16570</td>\n",
       "      <td>GT-0102</td>\n",
       "      <td>GT-01</td>\n",
       "      <td>MET</td>\n",
       "      <td>G10</td>\n",
       "      <td>MAT-CA-10004211</td>\n",
       "      <td>354.4</td>\n",
       "      <td>4</td>\n",
       "      <td>0.0</td>\n",
       "      <td>49.6</td>\n",
       "      <td>20121015</td>\n",
       "    </tr>\n",
       "    <tr>\n",
       "      <th>4</th>\n",
       "      <td>GT-2014-1436585</td>\n",
       "      <td>2012-10-15</td>\n",
       "      <td>1001</td>\n",
       "      <td>IG-16570</td>\n",
       "      <td>GT-0102</td>\n",
       "      <td>GT-01</td>\n",
       "      <td>MET</td>\n",
       "      <td>G10</td>\n",
       "      <td>MAT-AR-10001135</td>\n",
       "      <td>716.0</td>\n",
       "      <td>2</td>\n",
       "      <td>0.0</td>\n",
       "      <td>114.4</td>\n",
       "      <td>20121015</td>\n",
       "    </tr>\n",
       "  </tbody>\n",
       "</table>\n",
       "</div>"
      ],
      "text/plain": [
       "         pedido_id fecha_pedido  envio_id cliente_id municipio_id  \\\n",
       "0  GT-2014-1436581   2014-10-02      1001   RC-20575      GT-0101   \n",
       "1  GT-2014-1436582   2012-10-15      1001   IG-16570      GT-0102   \n",
       "2  GT-2014-1436583   2012-10-15      1001   IG-16570      GT-0102   \n",
       "3  GT-2014-1436584   2012-10-15      1001   IG-16570      GT-0102   \n",
       "4  GT-2014-1436585   2012-10-15      1001   IG-16570      GT-0102   \n",
       "\n",
       "  departamento_id region_id store_id      producto_id   total  cantidad  \\\n",
       "0           GT-01       MET      G10  MAT-ET-10000866   130.8         3   \n",
       "1           GT-01       MET      G10  MOB-MO-10000543  2521.6         8   \n",
       "2           GT-01       MET      G10  MOB-LI-10000111  1932.8         2   \n",
       "3           GT-01       MET      G10  MAT-CA-10004211   354.4         4   \n",
       "4           GT-01       MET      G10  MAT-AR-10001135   716.0         2   \n",
       "\n",
       "   descuento  ganancia  id_fecha  \n",
       "0        0.0      45.6   2014102  \n",
       "1        0.0     907.2  20121015  \n",
       "2        0.0     540.8  20121015  \n",
       "3        0.0      49.6  20121015  \n",
       "4        0.0     114.4  20121015  "
      ]
     },
     "execution_count": 254,
     "metadata": {},
     "output_type": "execute_result"
    }
   ],
   "source": [
    "df_factTable.drop(['year', 'month', 'quarter', 'day'], axis=1, inplace=True)\n",
    "df_factTable.head()"
   ]
  },
  {
   "attachments": {},
   "cell_type": "markdown",
   "metadata": {},
   "source": [
    "#### INSERCION DE DATOS HACIA LAS DIMENSIONES"
   ]
  },
  {
   "cell_type": "code",
   "execution_count": 249,
   "metadata": {},
   "outputs": [],
   "source": [
    "def DWHinsertDataToSQL(data_dict, table_name):\n",
    "     postgres_driver1 = f\"\"\"postgresql://{config.get('DWH', 'DB_USER')}:{config.get('DWH', 'DB_PASSWORD')}@{DWH_HOST}:{config.get('DWH', 'DB_PORT')}/{config.get('DWH', 'DB_NAME')}\"\"\"    \n",
    "     df_data = pd.DataFrame.from_records(data_dict)\n",
    "     try:\n",
    "          response = df_data.to_sql(table_name, postgres_driver1, index=False, if_exists='append')\n",
    "          print(f'Se han insertado {response} nuevos registros.' )\n",
    "     except Exception as ex:\n",
    "          print(ex)"
   ]
  },
  {
   "cell_type": "code",
   "execution_count": 261,
   "metadata": {},
   "outputs": [
    {
     "name": "stdout",
     "output_type": "stream",
     "text": [
      "Se han insertado 329 nuevos registros.\n"
     ]
    }
   ],
   "source": [
    "DWHinsertDataToSQL(dim_municipio, 'municipio')"
   ]
  },
  {
   "cell_type": "code",
   "execution_count": 262,
   "metadata": {},
   "outputs": [
    {
     "name": "stdout",
     "output_type": "stream",
     "text": [
      "Se han insertado 186 nuevos registros.\n"
     ]
    }
   ],
   "source": [
    "DWHinsertDataToSQL(dim_producto, 'producto')"
   ]
  },
  {
   "cell_type": "code",
   "execution_count": 263,
   "metadata": {},
   "outputs": [
    {
     "name": "stdout",
     "output_type": "stream",
     "text": [
      "Se han insertado 8 nuevos registros.\n"
     ]
    }
   ],
   "source": [
    "DWHinsertDataToSQL(dim_store, 'store')"
   ]
  },
  {
   "cell_type": "code",
   "execution_count": 264,
   "metadata": {},
   "outputs": [
    {
     "name": "stdout",
     "output_type": "stream",
     "text": [
      "Se han insertado 794 nuevos registros.\n"
     ]
    }
   ],
   "source": [
    "DWHinsertDataToSQL(dim_cliente, 'cliente')"
   ]
  },
  {
   "cell_type": "code",
   "execution_count": 265,
   "metadata": {},
   "outputs": [
    {
     "name": "stdout",
     "output_type": "stream",
     "text": [
      "Se han insertado 181 nuevos registros.\n"
     ]
    }
   ],
   "source": [
    "DWHinsertDataToSQL(dim_fecha, 'fecha')"
   ]
  },
  {
   "cell_type": "code",
   "execution_count": 266,
   "metadata": {},
   "outputs": [
    {
     "name": "stdout",
     "output_type": "stream",
     "text": [
      "Se han insertado 288 nuevos registros.\n"
     ]
    }
   ],
   "source": [
    "DWHinsertDataToSQL(df_factTable, 'fact_table')"
   ]
  },
  {
   "attachments": {},
   "cell_type": "markdown",
   "metadata": {},
   "source": [
    "## ANALITICA DEL PROYECTO"
   ]
  },
  {
   "cell_type": "code",
   "execution_count": 250,
   "metadata": {},
   "outputs": [],
   "source": [
    "postgres_driver1 = f\"\"\"postgresql://{config.get('DWH', 'DB_USER')}:{config.get('DWH', 'DB_PASSWORD')}@{DWH_HOST}:{config.get('DWH', 'DB_PORT')}/{config.get('DWH', 'DB_NAME')}\"\"\""
   ]
  },
  {
   "attachments": {},
   "cell_type": "markdown",
   "metadata": {},
   "source": [
    "#### GANANCIAS OBTENIDAS POR ANIO"
   ]
  },
  {
   "cell_type": "code",
   "execution_count": 281,
   "metadata": {},
   "outputs": [
    {
     "data": {
      "text/html": [
       "<div>\n",
       "<style scoped>\n",
       "    .dataframe tbody tr th:only-of-type {\n",
       "        vertical-align: middle;\n",
       "    }\n",
       "\n",
       "    .dataframe tbody tr th {\n",
       "        vertical-align: top;\n",
       "    }\n",
       "\n",
       "    .dataframe thead th {\n",
       "        text-align: right;\n",
       "    }\n",
       "</style>\n",
       "<table border=\"1\" class=\"dataframe\">\n",
       "  <thead>\n",
       "    <tr style=\"text-align: right;\">\n",
       "      <th></th>\n",
       "      <th>year</th>\n",
       "      <th>ganancias</th>\n",
       "      <th>ventas</th>\n",
       "    </tr>\n",
       "  </thead>\n",
       "  <tbody>\n",
       "    <tr>\n",
       "      <th>0</th>\n",
       "      <td>2011</td>\n",
       "      <td>367084.1604</td>\n",
       "      <td>6422</td>\n",
       "    </tr>\n",
       "    <tr>\n",
       "      <th>1</th>\n",
       "      <td>2012</td>\n",
       "      <td>503675.3800</td>\n",
       "      <td>8310</td>\n",
       "    </tr>\n",
       "    <tr>\n",
       "      <th>2</th>\n",
       "      <td>2014</td>\n",
       "      <td>733380.8756</td>\n",
       "      <td>12379</td>\n",
       "    </tr>\n",
       "    <tr>\n",
       "      <th>3</th>\n",
       "      <td>2013</td>\n",
       "      <td>614153.7348</td>\n",
       "      <td>11394</td>\n",
       "    </tr>\n",
       "  </tbody>\n",
       "</table>\n",
       "</div>"
      ],
      "text/plain": [
       "   year    ganancias  ventas\n",
       "0  2011  367084.1604    6422\n",
       "1  2012  503675.3800    8310\n",
       "2  2014  733380.8756   12379\n",
       "3  2013  614153.7348   11394"
      ]
     },
     "execution_count": 281,
     "metadata": {},
     "output_type": "execute_result"
    }
   ],
   "source": [
    "dwh_query = '''SELECT f.year, sum(v.ganancia) as ganancias, sum(v.cantidad) as ventas\n",
    "FROM fact_table as v\n",
    "inner join fecha as f on v.id_fecha = f.id_fecha\n",
    "group by f.year;'''\n",
    "analisis1 = pd.read_sql(dwh_query, postgres_driver1)\n",
    "analisis1.head()"
   ]
  },
  {
   "cell_type": "code",
   "execution_count": 282,
   "metadata": {},
   "outputs": [
    {
     "data": {
      "text/plain": [
       "<AxesSubplot:xlabel='year'>"
      ]
     },
     "execution_count": 282,
     "metadata": {},
     "output_type": "execute_result"
    },
    {
     "data": {
      "image/png": "[encoded data removed]",
      "text/plain": [
       "<Figure size 640x480 with 1 Axes>"
      ]
     },
     "metadata": {},
     "output_type": "display_data"
    }
   ],
   "source": [
    "analisis1.plot('year', 'ganancias')"
   ]
  },
  {
   "cell_type": "code",
   "execution_count": 322,
   "metadata": {},
   "outputs": [
    {
     "data": {
      "text/html": [
       "<div>\n",
       "<style scoped>\n",
       "    .dataframe tbody tr th:only-of-type {\n",
       "        vertical-align: middle;\n",
       "    }\n",
       "\n",
       "    .dataframe tbody tr th {\n",
       "        vertical-align: top;\n",
       "    }\n",
       "\n",
       "    .dataframe thead th {\n",
       "        text-align: right;\n",
       "    }\n",
       "</style>\n",
       "<table border=\"1\" class=\"dataframe\">\n",
       "  <thead>\n",
       "    <tr style=\"text-align: right;\">\n",
       "      <th></th>\n",
       "      <th>departamento</th>\n",
       "      <th>ganancia</th>\n",
       "      <th>cantidad</th>\n",
       "    </tr>\n",
       "    <tr>\n",
       "      <th>municipio</th>\n",
       "      <th></th>\n",
       "      <th></th>\n",
       "      <th></th>\n",
       "    </tr>\n",
       "  </thead>\n",
       "  <tbody>\n",
       "    <tr>\n",
       "      <th>Guatemala</th>\n",
       "      <td>Guatemala</td>\n",
       "      <td>45.6</td>\n",
       "      <td>3</td>\n",
       "    </tr>\n",
       "    <tr>\n",
       "      <th>Santa Catarina Pinula</th>\n",
       "      <td>Guatemala</td>\n",
       "      <td>907.2</td>\n",
       "      <td>8</td>\n",
       "    </tr>\n",
       "    <tr>\n",
       "      <th>Santa Catarina Pinula</th>\n",
       "      <td>Guatemala</td>\n",
       "      <td>540.8</td>\n",
       "      <td>2</td>\n",
       "    </tr>\n",
       "    <tr>\n",
       "      <th>Santa Catarina Pinula</th>\n",
       "      <td>Guatemala</td>\n",
       "      <td>49.6</td>\n",
       "      <td>4</td>\n",
       "    </tr>\n",
       "    <tr>\n",
       "      <th>Santa Catarina Pinula</th>\n",
       "      <td>Guatemala</td>\n",
       "      <td>114.4</td>\n",
       "      <td>2</td>\n",
       "    </tr>\n",
       "  </tbody>\n",
       "</table>\n",
       "</div>"
      ],
      "text/plain": [
       "                      departamento  ganancia  cantidad\n",
       "municipio                                             \n",
       "Guatemala                Guatemala      45.6         3\n",
       "Santa Catarina Pinula    Guatemala     907.2         8\n",
       "Santa Catarina Pinula    Guatemala     540.8         2\n",
       "Santa Catarina Pinula    Guatemala      49.6         4\n",
       "Santa Catarina Pinula    Guatemala     114.4         2"
      ]
     },
     "execution_count": 322,
     "metadata": {},
     "output_type": "execute_result"
    }
   ],
   "source": [
    "dwh_query = '''SELECT  m.municipio, m.departamento, v.ganancia, v.cantidad\n",
    "FROM fact_table as v\n",
    "inner join fecha as f on v.id_fecha = f.id_fecha\n",
    "inner join municipio as m on v.municipio_id = m.municipio_id;'''\n",
    "analisis2 = pd.read_sql(dwh_query, postgres_driver1, index_col='municipio')\n",
    "analisis2.head()"
   ]
  },
  {
   "cell_type": "code",
   "execution_count": 323,
   "metadata": {},
   "outputs": [],
   "source": [
    "import plotly.express as px"
   ]
  },
  {
   "cell_type": "code",
   "execution_count": 325,
   "metadata": {},
   "outputs": [
    {
     "data": {
      "application/vnd.plotly.v1+json": {
       "config": {
        "plotlyServerURL": "https://plot.ly"
       },
       "data": [
        {
         "branchvalues": "total",
         "domain": {
          "x": [
           0,
           1
          ],
          "y": [
           0,
           1
          ]
         },
         "hovertemplate": "labels=%{label}<br>count=%{value}<br>parent=%{parent}<br>id=%{id}<extra></extra>",
         "ids": [
          "VENTAS POR DEPARTAMENTO Y MUNICIPIO/Alta Verapaz/1",
          "VENTAS POR DEPARTAMENTO Y MUNICIPIO/Baja Verapaz/1",
          "VENTAS POR DEPARTAMENTO Y MUNICIPIO/Chimaltenango/1",
          "VENTAS POR DEPARTAMENTO Y MUNICIPIO/Chiquimula/1",
          "VENTAS POR DEPARTAMENTO Y MUNICIPIO/El Progreso/1",
          "VENTAS POR DEPARTAMENTO Y MUNICIPIO/Escuintla/1",
          "VENTAS POR DEPARTAMENTO Y MUNICIPIO/Guatemala/1",
          "VENTAS POR DEPARTAMENTO Y MUNICIPIO/Huehuetenango/1",
          "VENTAS POR DEPARTAMENTO Y MUNICIPIO/Izabal/1",
          "VENTAS POR DEPARTAMENTO Y MUNICIPIO/Jalapa/1",
          "VENTAS POR DEPARTAMENTO Y MUNICIPIO/Jutiapa/1",
          "VENTAS POR DEPARTAMENTO Y MUNICIPIO/Petén/1",
          "VENTAS POR DEPARTAMENTO Y MUNICIPIO/Quetzaltenango/1",
          "VENTAS POR DEPARTAMENTO Y MUNICIPIO/Quiché/1",
          "VENTAS POR DEPARTAMENTO Y MUNICIPIO/Retalhuleu/1",
          "VENTAS POR DEPARTAMENTO Y MUNICIPIO/Sacatepéquez/1",
          "VENTAS POR DEPARTAMENTO Y MUNICIPIO/San Marcos/1",
          "VENTAS POR DEPARTAMENTO Y MUNICIPIO/Santa Rosa/1",
          "VENTAS POR DEPARTAMENTO Y MUNICIPIO/Sololá/1",
          "VENTAS POR DEPARTAMENTO Y MUNICIPIO/Suchitepéquez/1",
          "VENTAS POR DEPARTAMENTO Y MUNICIPIO/Totonicapán/1",
          "VENTAS POR DEPARTAMENTO Y MUNICIPIO/Zacapa/1",
          "VENTAS POR DEPARTAMENTO Y MUNICIPIO/Alta Verapaz/2",
          "VENTAS POR DEPARTAMENTO Y MUNICIPIO/Baja Verapaz/2",
          "VENTAS POR DEPARTAMENTO Y MUNICIPIO/Chimaltenango/2",
          "VENTAS POR DEPARTAMENTO Y MUNICIPIO/Chiquimula/2",
          "VENTAS POR DEPARTAMENTO Y MUNICIPIO/El Progreso/2",
          "VENTAS POR DEPARTAMENTO Y MUNICIPIO/Escuintla/2",
          "VENTAS POR DEPARTAMENTO Y MUNICIPIO/Guatemala/2",
          "VENTAS POR DEPARTAMENTO Y MUNICIPIO/Huehuetenango/2",
          "VENTAS POR DEPARTAMENTO Y MUNICIPIO/Izabal/2",
          "VENTAS POR DEPARTAMENTO Y MUNICIPIO/Jalapa/2",
          "VENTAS POR DEPARTAMENTO Y MUNICIPIO/Jutiapa/2",
          "VENTAS POR DEPARTAMENTO Y MUNICIPIO/Petén/2",
          "VENTAS POR DEPARTAMENTO Y MUNICIPIO/Quetzaltenango/2",
          "VENTAS POR DEPARTAMENTO Y MUNICIPIO/Quiché/2",
          "VENTAS POR DEPARTAMENTO Y MUNICIPIO/Retalhuleu/2",
          "VENTAS POR DEPARTAMENTO Y MUNICIPIO/Sacatepéquez/2",
          "VENTAS POR DEPARTAMENTO Y MUNICIPIO/San Marcos/2",
          "VENTAS POR DEPARTAMENTO Y MUNICIPIO/Santa Rosa/2",
          "VENTAS POR DEPARTAMENTO Y MUNICIPIO/Sololá/2",
          "VENTAS POR DEPARTAMENTO Y MUNICIPIO/Suchitepéquez/2",
          "VENTAS POR DEPARTAMENTO Y MUNICIPIO/Totonicapán/2",
          "VENTAS POR DEPARTAMENTO Y MUNICIPIO/Zacapa/2",
          "VENTAS POR DEPARTAMENTO Y MUNICIPIO/Alta Verapaz/3",
          "VENTAS POR DEPARTAMENTO Y MUNICIPIO/Baja Verapaz/3",
          "VENTAS POR DEPARTAMENTO Y MUNICIPIO/Chimaltenango/3",
          "VENTAS POR DEPARTAMENTO Y MUNICIPIO/Chiquimula/3",
          "VENTAS POR DEPARTAMENTO Y MUNICIPIO/El Progreso/3",
          "VENTAS POR DEPARTAMENTO Y MUNICIPIO/Escuintla/3",
          "VENTAS POR DEPARTAMENTO Y MUNICIPIO/Guatemala/3",
          "VENTAS POR DEPARTAMENTO Y MUNICIPIO/Huehuetenango/3",
          "VENTAS POR DEPARTAMENTO Y MUNICIPIO/Izabal/3",
          "VENTAS POR DEPARTAMENTO Y MUNICIPIO/Jalapa/3",
          "VENTAS POR DEPARTAMENTO Y MUNICIPIO/Jutiapa/3",
          "VENTAS POR DEPARTAMENTO Y MUNICIPIO/Petén/3",
          "VENTAS POR DEPARTAMENTO Y MUNICIPIO/Quetzaltenango/3",
          "VENTAS POR DEPARTAMENTO Y MUNICIPIO/Quiché/3",
          "VENTAS POR DEPARTAMENTO Y MUNICIPIO/Retalhuleu/3",
          "VENTAS POR DEPARTAMENTO Y MUNICIPIO/Sacatepéquez/3",
          "VENTAS POR DEPARTAMENTO Y MUNICIPIO/San Marcos/3",
          "VENTAS POR DEPARTAMENTO Y MUNICIPIO/Santa Rosa/3",
          "VENTAS POR DEPARTAMENTO Y MUNICIPIO/Sololá/3",
          "VENTAS POR DEPARTAMENTO Y MUNICIPIO/Suchitepéquez/3",
          "VENTAS POR DEPARTAMENTO Y MUNICIPIO/Totonicapán/3",
          "VENTAS POR DEPARTAMENTO Y MUNICIPIO/Zacapa/3",
          "VENTAS POR DEPARTAMENTO Y MUNICIPIO/Alta Verapaz/4",
          "VENTAS POR DEPARTAMENTO Y MUNICIPIO/Baja Verapaz/4",
          "VENTAS POR DEPARTAMENTO Y MUNICIPIO/Chimaltenango/4",
          "VENTAS POR DEPARTAMENTO Y MUNICIPIO/Chiquimula/4",
          "VENTAS POR DEPARTAMENTO Y MUNICIPIO/El Progreso/4",
          "VENTAS POR DEPARTAMENTO Y MUNICIPIO/Escuintla/4",
          "VENTAS POR DEPARTAMENTO Y MUNICIPIO/Guatemala/4",
          "VENTAS POR DEPARTAMENTO Y MUNICIPIO/Huehuetenango/4",
          "VENTAS POR DEPARTAMENTO Y MUNICIPIO/Izabal/4",
          "VENTAS POR DEPARTAMENTO Y MUNICIPIO/Jalapa/4",
          "VENTAS POR DEPARTAMENTO Y MUNICIPIO/Jutiapa/4",
          "VENTAS POR DEPARTAMENTO Y MUNICIPIO/Petén/4",
          "VENTAS POR DEPARTAMENTO Y MUNICIPIO/Quetzaltenango/4",
          "VENTAS POR DEPARTAMENTO Y MUNICIPIO/Quiché/4",
          "VENTAS POR DEPARTAMENTO Y MUNICIPIO/Retalhuleu/4",
          "VENTAS POR DEPARTAMENTO Y MUNICIPIO/Sacatepéquez/4",
          "VENTAS POR DEPARTAMENTO Y MUNICIPIO/San Marcos/4",
          "VENTAS POR DEPARTAMENTO Y MUNICIPIO/Santa Rosa/4",
          "VENTAS POR DEPARTAMENTO Y MUNICIPIO/Sololá/4",
          "VENTAS POR DEPARTAMENTO Y MUNICIPIO/Suchitepéquez/4",
          "VENTAS POR DEPARTAMENTO Y MUNICIPIO/Totonicapán/4",
          "VENTAS POR DEPARTAMENTO Y MUNICIPIO/Zacapa/4",
          "VENTAS POR DEPARTAMENTO Y MUNICIPIO/Alta Verapaz/5",
          "VENTAS POR DEPARTAMENTO Y MUNICIPIO/Baja Verapaz/5",
          "VENTAS POR DEPARTAMENTO Y MUNICIPIO/Chimaltenango/5",
          "VENTAS POR DEPARTAMENTO Y MUNICIPIO/Chiquimula/5",
          "VENTAS POR DEPARTAMENTO Y MUNICIPIO/El Progreso/5",
          "VENTAS POR DEPARTAMENTO Y MUNICIPIO/Escuintla/5",
          "VENTAS POR DEPARTAMENTO Y MUNICIPIO/Guatemala/5",
          "VENTAS POR DEPARTAMENTO Y MUNICIPIO/Huehuetenango/5",
          "VENTAS POR DEPARTAMENTO Y MUNICIPIO/Izabal/5",
          "VENTAS POR DEPARTAMENTO Y MUNICIPIO/Jalapa/5",
          "VENTAS POR DEPARTAMENTO Y MUNICIPIO/Jutiapa/5",
          "VENTAS POR DEPARTAMENTO Y MUNICIPIO/Petén/5",
          "VENTAS POR DEPARTAMENTO Y MUNICIPIO/Quetzaltenango/5",
          "VENTAS POR DEPARTAMENTO Y MUNICIPIO/Quiché/5",
          "VENTAS POR DEPARTAMENTO Y MUNICIPIO/Retalhuleu/5",
          "VENTAS POR DEPARTAMENTO Y MUNICIPIO/Sacatepéquez/5",
          "VENTAS POR DEPARTAMENTO Y MUNICIPIO/San Marcos/5",
          "VENTAS POR DEPARTAMENTO Y MUNICIPIO/Santa Rosa/5",
          "VENTAS POR DEPARTAMENTO Y MUNICIPIO/Sololá/5",
          "VENTAS POR DEPARTAMENTO Y MUNICIPIO/Suchitepéquez/5",
          "VENTAS POR DEPARTAMENTO Y MUNICIPIO/Totonicapán/5",
          "VENTAS POR DEPARTAMENTO Y MUNICIPIO/Zacapa/5",
          "VENTAS POR DEPARTAMENTO Y MUNICIPIO/Alta Verapaz/6",
          "VENTAS POR DEPARTAMENTO Y MUNICIPIO/Baja Verapaz/6",
          "VENTAS POR DEPARTAMENTO Y MUNICIPIO/Chimaltenango/6",
          "VENTAS POR DEPARTAMENTO Y MUNICIPIO/Chiquimula/6",
          "VENTAS POR DEPARTAMENTO Y MUNICIPIO/El Progreso/6",
          "VENTAS POR DEPARTAMENTO Y MUNICIPIO/Escuintla/6",
          "VENTAS POR DEPARTAMENTO Y MUNICIPIO/Guatemala/6",
          "VENTAS POR DEPARTAMENTO Y MUNICIPIO/Huehuetenango/6",
          "VENTAS POR DEPARTAMENTO Y MUNICIPIO/Izabal/6",
          "VENTAS POR DEPARTAMENTO Y MUNICIPIO/Jalapa/6",
          "VENTAS POR DEPARTAMENTO Y MUNICIPIO/Jutiapa/6",
          "VENTAS POR DEPARTAMENTO Y MUNICIPIO/Petén/6",
          "VENTAS POR DEPARTAMENTO Y MUNICIPIO/Quetzaltenango/6",
          "VENTAS POR DEPARTAMENTO Y MUNICIPIO/Quiché/6",
          "VENTAS POR DEPARTAMENTO Y MUNICIPIO/Retalhuleu/6",
          "VENTAS POR DEPARTAMENTO Y MUNICIPIO/Sacatepéquez/6",
          "VENTAS POR DEPARTAMENTO Y MUNICIPIO/San Marcos/6",
          "VENTAS POR DEPARTAMENTO Y MUNICIPIO/Santa Rosa/6",
          "VENTAS POR DEPARTAMENTO Y MUNICIPIO/Sololá/6",
          "VENTAS POR DEPARTAMENTO Y MUNICIPIO/Suchitepéquez/6",
          "VENTAS POR DEPARTAMENTO Y MUNICIPIO/Totonicapán/6",
          "VENTAS POR DEPARTAMENTO Y MUNICIPIO/Zacapa/6",
          "VENTAS POR DEPARTAMENTO Y MUNICIPIO/Alta Verapaz/7",
          "VENTAS POR DEPARTAMENTO Y MUNICIPIO/Baja Verapaz/7",
          "VENTAS POR DEPARTAMENTO Y MUNICIPIO/Chimaltenango/7",
          "VENTAS POR DEPARTAMENTO Y MUNICIPIO/Chiquimula/7",
          "VENTAS POR DEPARTAMENTO Y MUNICIPIO/El Progreso/7",
          "VENTAS POR DEPARTAMENTO Y MUNICIPIO/Escuintla/7",
          "VENTAS POR DEPARTAMENTO Y MUNICIPIO/Guatemala/7",
          "VENTAS POR DEPARTAMENTO Y MUNICIPIO/Huehuetenango/7",
          "VENTAS POR DEPARTAMENTO Y MUNICIPIO/Izabal/7",
          "VENTAS POR DEPARTAMENTO Y MUNICIPIO/Jalapa/7",
          "VENTAS POR DEPARTAMENTO Y MUNICIPIO/Jutiapa/7",
          "VENTAS POR DEPARTAMENTO Y MUNICIPIO/Petén/7",
          "VENTAS POR DEPARTAMENTO Y MUNICIPIO/Quetzaltenango/7",
          "VENTAS POR DEPARTAMENTO Y MUNICIPIO/Quiché/7",
          "VENTAS POR DEPARTAMENTO Y MUNICIPIO/Retalhuleu/7",
          "VENTAS POR DEPARTAMENTO Y MUNICIPIO/Sacatepéquez/7",
          "VENTAS POR DEPARTAMENTO Y MUNICIPIO/San Marcos/7",
          "VENTAS POR DEPARTAMENTO Y MUNICIPIO/Santa Rosa/7",
          "VENTAS POR DEPARTAMENTO Y MUNICIPIO/Sololá/7",
          "VENTAS POR DEPARTAMENTO Y MUNICIPIO/Suchitepéquez/7",
          "VENTAS POR DEPARTAMENTO Y MUNICIPIO/Totonicapán/7",
          "VENTAS POR DEPARTAMENTO Y MUNICIPIO/Zacapa/7",
          "VENTAS POR DEPARTAMENTO Y MUNICIPIO/Alta Verapaz/8",
          "VENTAS POR DEPARTAMENTO Y MUNICIPIO/Baja Verapaz/8",
          "VENTAS POR DEPARTAMENTO Y MUNICIPIO/Chimaltenango/8",
          "VENTAS POR DEPARTAMENTO Y MUNICIPIO/Chiquimula/8",
          "VENTAS POR DEPARTAMENTO Y MUNICIPIO/El Progreso/8",
          "VENTAS POR DEPARTAMENTO Y MUNICIPIO/Escuintla/8",
          "VENTAS POR DEPARTAMENTO Y MUNICIPIO/Guatemala/8",
          "VENTAS POR DEPARTAMENTO Y MUNICIPIO/Huehuetenango/8",
          "VENTAS POR DEPARTAMENTO Y MUNICIPIO/Izabal/8",
          "VENTAS POR DEPARTAMENTO Y MUNICIPIO/Jalapa/8",
          "VENTAS POR DEPARTAMENTO Y MUNICIPIO/Jutiapa/8",
          "VENTAS POR DEPARTAMENTO Y MUNICIPIO/Petén/8",
          "VENTAS POR DEPARTAMENTO Y MUNICIPIO/Quetzaltenango/8",
          "VENTAS POR DEPARTAMENTO Y MUNICIPIO/Quiché/8",
          "VENTAS POR DEPARTAMENTO Y MUNICIPIO/Retalhuleu/8",
          "VENTAS POR DEPARTAMENTO Y MUNICIPIO/Sacatepéquez/8",
          "VENTAS POR DEPARTAMENTO Y MUNICIPIO/San Marcos/8",
          "VENTAS POR DEPARTAMENTO Y MUNICIPIO/Santa Rosa/8",
          "VENTAS POR DEPARTAMENTO Y MUNICIPIO/Sololá/8",
          "VENTAS POR DEPARTAMENTO Y MUNICIPIO/Suchitepéquez/8",
          "VENTAS POR DEPARTAMENTO Y MUNICIPIO/Totonicapán/8",
          "VENTAS POR DEPARTAMENTO Y MUNICIPIO/Zacapa/8",
          "VENTAS POR DEPARTAMENTO Y MUNICIPIO/Alta Verapaz/9",
          "VENTAS POR DEPARTAMENTO Y MUNICIPIO/Baja Verapaz/9",
          "VENTAS POR DEPARTAMENTO Y MUNICIPIO/Chimaltenango/9",
          "VENTAS POR DEPARTAMENTO Y MUNICIPIO/Chiquimula/9",
          "VENTAS POR DEPARTAMENTO Y MUNICIPIO/El Progreso/9",
          "VENTAS POR DEPARTAMENTO Y MUNICIPIO/Escuintla/9",
          "VENTAS POR DEPARTAMENTO Y MUNICIPIO/Guatemala/9",
          "VENTAS POR DEPARTAMENTO Y MUNICIPIO/Huehuetenango/9",
          "VENTAS POR DEPARTAMENTO Y MUNICIPIO/Izabal/9",
          "VENTAS POR DEPARTAMENTO Y MUNICIPIO/Jalapa/9",
          "VENTAS POR DEPARTAMENTO Y MUNICIPIO/Jutiapa/9",
          "VENTAS POR DEPARTAMENTO Y MUNICIPIO/Petén/9",
          "VENTAS POR DEPARTAMENTO Y MUNICIPIO/Quetzaltenango/9",
          "VENTAS POR DEPARTAMENTO Y MUNICIPIO/Quiché/9",
          "VENTAS POR DEPARTAMENTO Y MUNICIPIO/Retalhuleu/9",
          "VENTAS POR DEPARTAMENTO Y MUNICIPIO/Sacatepéquez/9",
          "VENTAS POR DEPARTAMENTO Y MUNICIPIO/San Marcos/9",
          "VENTAS POR DEPARTAMENTO Y MUNICIPIO/Santa Rosa/9",
          "VENTAS POR DEPARTAMENTO Y MUNICIPIO/Sololá/9",
          "VENTAS POR DEPARTAMENTO Y MUNICIPIO/Suchitepéquez/9",
          "VENTAS POR DEPARTAMENTO Y MUNICIPIO/Totonicapán/9",
          "VENTAS POR DEPARTAMENTO Y MUNICIPIO/Zacapa/9",
          "VENTAS POR DEPARTAMENTO Y MUNICIPIO/Alta Verapaz/10",
          "VENTAS POR DEPARTAMENTO Y MUNICIPIO/Baja Verapaz/10",
          "VENTAS POR DEPARTAMENTO Y MUNICIPIO/Chimaltenango/10",
          "VENTAS POR DEPARTAMENTO Y MUNICIPIO/Chiquimula/10",
          "VENTAS POR DEPARTAMENTO Y MUNICIPIO/El Progreso/10",
          "VENTAS POR DEPARTAMENTO Y MUNICIPIO/Escuintla/10",
          "VENTAS POR DEPARTAMENTO Y MUNICIPIO/Guatemala/10",
          "VENTAS POR DEPARTAMENTO Y MUNICIPIO/Huehuetenango/10",
          "VENTAS POR DEPARTAMENTO Y MUNICIPIO/Izabal/10",
          "VENTAS POR DEPARTAMENTO Y MUNICIPIO/Jalapa/10",
          "VENTAS POR DEPARTAMENTO Y MUNICIPIO/Jutiapa/10",
          "VENTAS POR DEPARTAMENTO Y MUNICIPIO/Petén/10",
          "VENTAS POR DEPARTAMENTO Y MUNICIPIO/Quetzaltenango/10",
          "VENTAS POR DEPARTAMENTO Y MUNICIPIO/Quiché/10",
          "VENTAS POR DEPARTAMENTO Y MUNICIPIO/Retalhuleu/10",
          "VENTAS POR DEPARTAMENTO Y MUNICIPIO/Sacatepéquez/10",
          "VENTAS POR DEPARTAMENTO Y MUNICIPIO/San Marcos/10",
          "VENTAS POR DEPARTAMENTO Y MUNICIPIO/Santa Rosa/10",
          "VENTAS POR DEPARTAMENTO Y MUNICIPIO/Sololá/10",
          "VENTAS POR DEPARTAMENTO Y MUNICIPIO/Suchitepéquez/10",
          "VENTAS POR DEPARTAMENTO Y MUNICIPIO/Totonicapán/10",
          "VENTAS POR DEPARTAMENTO Y MUNICIPIO/Alta Verapaz/11",
          "VENTAS POR DEPARTAMENTO Y MUNICIPIO/Baja Verapaz/11",
          "VENTAS POR DEPARTAMENTO Y MUNICIPIO/Chimaltenango/11",
          "VENTAS POR DEPARTAMENTO Y MUNICIPIO/Chiquimula/11",
          "VENTAS POR DEPARTAMENTO Y MUNICIPIO/El Progreso/11",
          "VENTAS POR DEPARTAMENTO Y MUNICIPIO/Escuintla/11",
          "VENTAS POR DEPARTAMENTO Y MUNICIPIO/Guatemala/11",
          "VENTAS POR DEPARTAMENTO Y MUNICIPIO/Huehuetenango/11",
          "VENTAS POR DEPARTAMENTO Y MUNICIPIO/Jalapa/11",
          "VENTAS POR DEPARTAMENTO Y MUNICIPIO/Jutiapa/11",
          "VENTAS POR DEPARTAMENTO Y MUNICIPIO/Petén/11",
          "VENTAS POR DEPARTAMENTO Y MUNICIPIO/Quetzaltenango/11",
          "VENTAS POR DEPARTAMENTO Y MUNICIPIO/Quiché/11",
          "VENTAS POR DEPARTAMENTO Y MUNICIPIO/Sacatepéquez/11",
          "VENTAS POR DEPARTAMENTO Y MUNICIPIO/San Marcos/11",
          "VENTAS POR DEPARTAMENTO Y MUNICIPIO/Suchitepéquez/11",
          "VENTAS POR DEPARTAMENTO Y MUNICIPIO/Totonicapán/11",
          "VENTAS POR DEPARTAMENTO Y MUNICIPIO/Zacapa/11",
          "VENTAS POR DEPARTAMENTO Y MUNICIPIO/Baja Verapaz/12",
          "VENTAS POR DEPARTAMENTO Y MUNICIPIO/Escuintla/12",
          "VENTAS POR DEPARTAMENTO Y MUNICIPIO/Guatemala/12",
          "VENTAS POR DEPARTAMENTO Y MUNICIPIO/Huehuetenango/12",
          "VENTAS POR DEPARTAMENTO Y MUNICIPIO/Jalapa/12",
          "VENTAS POR DEPARTAMENTO Y MUNICIPIO/Jutiapa/12",
          "VENTAS POR DEPARTAMENTO Y MUNICIPIO/Petén/12",
          "VENTAS POR DEPARTAMENTO Y MUNICIPIO/Quetzaltenango/12",
          "VENTAS POR DEPARTAMENTO Y MUNICIPIO/Quiché/12",
          "VENTAS POR DEPARTAMENTO Y MUNICIPIO/Sacatepéquez/12",
          "VENTAS POR DEPARTAMENTO Y MUNICIPIO/San Marcos/12",
          "VENTAS POR DEPARTAMENTO Y MUNICIPIO/Santa Rosa/12",
          "VENTAS POR DEPARTAMENTO Y MUNICIPIO/Suchitepéquez/12",
          "VENTAS POR DEPARTAMENTO Y MUNICIPIO/Totonicapán/12",
          "VENTAS POR DEPARTAMENTO Y MUNICIPIO/Zacapa/12",
          "VENTAS POR DEPARTAMENTO Y MUNICIPIO/Chimaltenango/13",
          "VENTAS POR DEPARTAMENTO Y MUNICIPIO/Huehuetenango/13",
          "VENTAS POR DEPARTAMENTO Y MUNICIPIO/Jutiapa/13",
          "VENTAS POR DEPARTAMENTO Y MUNICIPIO/Petén/13",
          "VENTAS POR DEPARTAMENTO Y MUNICIPIO/Quetzaltenango/13",
          "VENTAS POR DEPARTAMENTO Y MUNICIPIO/Sacatepéquez/13",
          "VENTAS POR DEPARTAMENTO Y MUNICIPIO/San Marcos/13",
          "VENTAS POR DEPARTAMENTO Y MUNICIPIO/Sololá/13",
          "VENTAS POR DEPARTAMENTO Y MUNICIPIO/Alta Verapaz/14",
          "VENTAS POR DEPARTAMENTO Y MUNICIPIO/Baja Verapaz/14",
          "VENTAS POR DEPARTAMENTO Y MUNICIPIO/Chimaltenango/14",
          "VENTAS POR DEPARTAMENTO Y MUNICIPIO/Chiquimula/14",
          "VENTAS POR DEPARTAMENTO Y MUNICIPIO/Escuintla/14",
          "VENTAS POR DEPARTAMENTO Y MUNICIPIO/Guatemala/14",
          "VENTAS POR DEPARTAMENTO Y MUNICIPIO/Huehuetenango/14",
          "VENTAS POR DEPARTAMENTO Y MUNICIPIO/Jalapa/14",
          "VENTAS POR DEPARTAMENTO Y MUNICIPIO/Jutiapa/14",
          "VENTAS POR DEPARTAMENTO Y MUNICIPIO/Petén/14",
          "VENTAS POR DEPARTAMENTO Y MUNICIPIO/Quetzaltenango/14",
          "VENTAS POR DEPARTAMENTO Y MUNICIPIO/Retalhuleu/14",
          "VENTAS POR DEPARTAMENTO Y MUNICIPIO/Sacatepéquez/14",
          "VENTAS POR DEPARTAMENTO Y MUNICIPIO/San Marcos/14",
          "VENTAS POR DEPARTAMENTO Y MUNICIPIO/Santa Rosa/14",
          "VENTAS POR DEPARTAMENTO Y MUNICIPIO/Zacapa/14",
          "VENTAS POR DEPARTAMENTO Y MUNICIPIO/Alta Verapaz",
          "VENTAS POR DEPARTAMENTO Y MUNICIPIO/Baja Verapaz",
          "VENTAS POR DEPARTAMENTO Y MUNICIPIO/Chimaltenango",
          "VENTAS POR DEPARTAMENTO Y MUNICIPIO/Chiquimula",
          "VENTAS POR DEPARTAMENTO Y MUNICIPIO/El Progreso",
          "VENTAS POR DEPARTAMENTO Y MUNICIPIO/Escuintla",
          "VENTAS POR DEPARTAMENTO Y MUNICIPIO/Guatemala",
          "VENTAS POR DEPARTAMENTO Y MUNICIPIO/Huehuetenango",
          "VENTAS POR DEPARTAMENTO Y MUNICIPIO/Izabal",
          "VENTAS POR DEPARTAMENTO Y MUNICIPIO/Jalapa",
          "VENTAS POR DEPARTAMENTO Y MUNICIPIO/Jutiapa",
          "VENTAS POR DEPARTAMENTO Y MUNICIPIO/Petén",
          "VENTAS POR DEPARTAMENTO Y MUNICIPIO/Quetzaltenango",
          "VENTAS POR DEPARTAMENTO Y MUNICIPIO/Quiché",
          "VENTAS POR DEPARTAMENTO Y MUNICIPIO/Retalhuleu",
          "VENTAS POR DEPARTAMENTO Y MUNICIPIO/Sacatepéquez",
          "VENTAS POR DEPARTAMENTO Y MUNICIPIO/San Marcos",
          "VENTAS POR DEPARTAMENTO Y MUNICIPIO/Santa Rosa",
          "VENTAS POR DEPARTAMENTO Y MUNICIPIO/Sololá",
          "VENTAS POR DEPARTAMENTO Y MUNICIPIO/Suchitepéquez",
          "VENTAS POR DEPARTAMENTO Y MUNICIPIO/Totonicapán",
          "VENTAS POR DEPARTAMENTO Y MUNICIPIO/Zacapa",
          "VENTAS POR DEPARTAMENTO Y MUNICIPIO"
         ],
         "labels": [
          "1",
          "1",
          "1",
          "1",
          "1",
          "1",
          "1",
          "1",
          "1",
          "1",
          "1",
          "1",
          "1",
          "1",
          "1",
          "1",
          "1",
          "1",
          "1",
          "1",
          "1",
          "1",
          "2",
          "2",
          "2",
          "2",
          "2",
          "2",
          "2",
          "2",
          "2",
          "2",
          "2",
          "2",
          "2",
          "2",
          "2",
          "2",
          "2",
          "2",
          "2",
          "2",
          "2",
          "2",
          "3",
          "3",
          "3",
          "3",
          "3",
          "3",
          "3",
          "3",
          "3",
          "3",
          "3",
          "3",
          "3",
          "3",
          "3",
          "3",
          "3",
          "3",
          "3",
          "3",
          "3",
          "3",
          "4",
          "4",
          "4",
          "4",
          "4",
          "4",
          "4",
          "4",
          "4",
          "4",
          "4",
          "4",
          "4",
          "4",
          "4",
          "4",
          "4",
          "4",
          "4",
          "4",
          "4",
          "4",
          "5",
          "5",
          "5",
          "5",
          "5",
          "5",
          "5",
          "5",
          "5",
          "5",
          "5",
          "5",
          "5",
          "5",
          "5",
          "5",
          "5",
          "5",
          "5",
          "5",
          "5",
          "5",
          "6",
          "6",
          "6",
          "6",
          "6",
          "6",
          "6",
          "6",
          "6",
          "6",
          "6",
          "6",
          "6",
          "6",
          "6",
          "6",
          "6",
          "6",
          "6",
          "6",
          "6",
          "6",
          "7",
          "7",
          "7",
          "7",
          "7",
          "7",
          "7",
          "7",
          "7",
          "7",
          "7",
          "7",
          "7",
          "7",
          "7",
          "7",
          "7",
          "7",
          "7",
          "7",
          "7",
          "7",
          "8",
          "8",
          "8",
          "8",
          "8",
          "8",
          "8",
          "8",
          "8",
          "8",
          "8",
          "8",
          "8",
          "8",
          "8",
          "8",
          "8",
          "8",
          "8",
          "8",
          "8",
          "8",
          "9",
          "9",
          "9",
          "9",
          "9",
          "9",
          "9",
          "9",
          "9",
          "9",
          "9",
          "9",
          "9",
          "9",
          "9",
          "9",
          "9",
          "9",
          "9",
          "9",
          "9",
          "9",
          "10",
          "10",
          "10",
          "10",
          "10",
          "10",
          "10",
          "10",
          "10",
          "10",
          "10",
          "10",
          "10",
          "10",
          "10",
          "10",
          "10",
          "10",
          "10",
          "10",
          "10",
          "11",
          "11",
          "11",
          "11",
          "11",
          "11",
          "11",
          "11",
          "11",
          "11",
          "11",
          "11",
          "11",
          "11",
          "11",
          "11",
          "11",
          "11",
          "12",
          "12",
          "12",
          "12",
          "12",
          "12",
          "12",
          "12",
          "12",
          "12",
          "12",
          "12",
          "12",
          "12",
          "12",
          "13",
          "13",
          "13",
          "13",
          "13",
          "13",
          "13",
          "13",
          "14",
          "14",
          "14",
          "14",
          "14",
          "14",
          "14",
          "14",
          "14",
          "14",
          "14",
          "14",
          "14",
          "14",
          "14",
          "14",
          "Alta Verapaz",
          "Baja Verapaz",
          "Chimaltenango",
          "Chiquimula",
          "El Progreso",
          "Escuintla",
          "Guatemala",
          "Huehuetenango",
          "Izabal",
          "Jalapa",
          "Jutiapa",
          "Petén",
          "Quetzaltenango",
          "Quiché",
          "Retalhuleu",
          "Sacatepéquez",
          "San Marcos",
          "Santa Rosa",
          "Sololá",
          "Suchitepéquez",
          "Totonicapán",
          "Zacapa",
          "VENTAS POR DEPARTAMENTO Y MUNICIPIO"
         ],
         "name": "",
         "parents": [
          "VENTAS POR DEPARTAMENTO Y MUNICIPIO/Alta Verapaz",
          "VENTAS POR DEPARTAMENTO Y MUNICIPIO/Baja Verapaz",
          "VENTAS POR DEPARTAMENTO Y MUNICIPIO/Chimaltenango",
          "VENTAS POR DEPARTAMENTO Y MUNICIPIO/Chiquimula",
          "VENTAS POR DEPARTAMENTO Y MUNICIPIO/El Progreso",
          "VENTAS POR DEPARTAMENTO Y MUNICIPIO/Escuintla",
          "VENTAS POR DEPARTAMENTO Y MUNICIPIO/Guatemala",
          "VENTAS POR DEPARTAMENTO Y MUNICIPIO/Huehuetenango",
          "VENTAS POR DEPARTAMENTO Y MUNICIPIO/Izabal",
          "VENTAS POR DEPARTAMENTO Y MUNICIPIO/Jalapa",
          "VENTAS POR DEPARTAMENTO Y MUNICIPIO/Jutiapa",
          "VENTAS POR DEPARTAMENTO Y MUNICIPIO/Petén",
          "VENTAS POR DEPARTAMENTO Y MUNICIPIO/Quetzaltenango",
          "VENTAS POR DEPARTAMENTO Y MUNICIPIO/Quiché",
          "VENTAS POR DEPARTAMENTO Y MUNICIPIO/Retalhuleu",
          "VENTAS POR DEPARTAMENTO Y MUNICIPIO/Sacatepéquez",
          "VENTAS POR DEPARTAMENTO Y MUNICIPIO/San Marcos",
          "VENTAS POR DEPARTAMENTO Y MUNICIPIO/Santa Rosa",
          "VENTAS POR DEPARTAMENTO Y MUNICIPIO/Sololá",
          "VENTAS POR DEPARTAMENTO Y MUNICIPIO/Suchitepéquez",
          "VENTAS POR DEPARTAMENTO Y MUNICIPIO/Totonicapán",
          "VENTAS POR DEPARTAMENTO Y MUNICIPIO/Zacapa",
          "VENTAS POR DEPARTAMENTO Y MUNICIPIO/Alta Verapaz",
          "VENTAS POR DEPARTAMENTO Y MUNICIPIO/Baja Verapaz",
          "VENTAS POR DEPARTAMENTO Y MUNICIPIO/Chimaltenango",
          "VENTAS POR DEPARTAMENTO Y MUNICIPIO/Chiquimula",
          "VENTAS POR DEPARTAMENTO Y MUNICIPIO/El Progreso",
          "VENTAS POR DEPARTAMENTO Y MUNICIPIO/Escuintla",
          "VENTAS POR DEPARTAMENTO Y MUNICIPIO/Guatemala",
          "VENTAS POR DEPARTAMENTO Y MUNICIPIO/Huehuetenango",
          "VENTAS POR DEPARTAMENTO Y MUNICIPIO/Izabal",
          "VENTAS POR DEPARTAMENTO Y MUNICIPIO/Jalapa",
          "VENTAS POR DEPARTAMENTO Y MUNICIPIO/Jutiapa",
          "VENTAS POR DEPARTAMENTO Y MUNICIPIO/Petén",
          "VENTAS POR DEPARTAMENTO Y MUNICIPIO/Quetzaltenango",
          "VENTAS POR DEPARTAMENTO Y MUNICIPIO/Quiché",
          "VENTAS POR DEPARTAMENTO Y MUNICIPIO/Retalhuleu",
          "VENTAS POR DEPARTAMENTO Y MUNICIPIO/Sacatepéquez",
          "VENTAS POR DEPARTAMENTO Y MUNICIPIO/San Marcos",
          "VENTAS POR DEPARTAMENTO Y MUNICIPIO/Santa Rosa",
          "VENTAS POR DEPARTAMENTO Y MUNICIPIO/Sololá",
          "VENTAS POR DEPARTAMENTO Y MUNICIPIO/Suchitepéquez",
          "VENTAS POR DEPARTAMENTO Y MUNICIPIO/Totonicapán",
          "VENTAS POR DEPARTAMENTO Y MUNICIPIO/Zacapa",
          "VENTAS POR DEPARTAMENTO Y MUNICIPIO/Alta Verapaz",
          "VENTAS POR DEPARTAMENTO Y MUNICIPIO/Baja Verapaz",
          "VENTAS POR DEPARTAMENTO Y MUNICIPIO/Chimaltenango",
          "VENTAS POR DEPARTAMENTO Y MUNICIPIO/Chiquimula",
          "VENTAS POR DEPARTAMENTO Y MUNICIPIO/El Progreso",
          "VENTAS POR DEPARTAMENTO Y MUNICIPIO/Escuintla",
          "VENTAS POR DEPARTAMENTO Y MUNICIPIO/Guatemala",
          "VENTAS POR DEPARTAMENTO Y MUNICIPIO/Huehuetenango",
          "VENTAS POR DEPARTAMENTO Y MUNICIPIO/Izabal",
          "VENTAS POR DEPARTAMENTO Y MUNICIPIO/Jalapa",
          "VENTAS POR DEPARTAMENTO Y MUNICIPIO/Jutiapa",
          "VENTAS POR DEPARTAMENTO Y MUNICIPIO/Petén",
          "VENTAS POR DEPARTAMENTO Y MUNICIPIO/Quetzaltenango",
          "VENTAS POR DEPARTAMENTO Y MUNICIPIO/Quiché",
          "VENTAS POR DEPARTAMENTO Y MUNICIPIO/Retalhuleu",
          "VENTAS POR DEPARTAMENTO Y MUNICIPIO/Sacatepéquez",
          "VENTAS POR DEPARTAMENTO Y MUNICIPIO/San Marcos",
          "VENTAS POR DEPARTAMENTO Y MUNICIPIO/Santa Rosa",
          "VENTAS POR DEPARTAMENTO Y MUNICIPIO/Sololá",
          "VENTAS POR DEPARTAMENTO Y MUNICIPIO/Suchitepéquez",
          "VENTAS POR DEPARTAMENTO Y MUNICIPIO/Totonicapán",
          "VENTAS POR DEPARTAMENTO Y MUNICIPIO/Zacapa",
          "VENTAS POR DEPARTAMENTO Y MUNICIPIO/Alta Verapaz",
          "VENTAS POR DEPARTAMENTO Y MUNICIPIO/Baja Verapaz",
          "VENTAS POR DEPARTAMENTO Y MUNICIPIO/Chimaltenango",
          "VENTAS POR DEPARTAMENTO Y MUNICIPIO/Chiquimula",
          "VENTAS POR DEPARTAMENTO Y MUNICIPIO/El Progreso",
          "VENTAS POR DEPARTAMENTO Y MUNICIPIO/Escuintla",
          "VENTAS POR DEPARTAMENTO Y MUNICIPIO/Guatemala",
          "VENTAS POR DEPARTAMENTO Y MUNICIPIO/Huehuetenango",
          "VENTAS POR DEPARTAMENTO Y MUNICIPIO/Izabal",
          "VENTAS POR DEPARTAMENTO Y MUNICIPIO/Jalapa",
          "VENTAS POR DEPARTAMENTO Y MUNICIPIO/Jutiapa",
          "VENTAS POR DEPARTAMENTO Y MUNICIPIO/Petén",
          "VENTAS POR DEPARTAMENTO Y MUNICIPIO/Quetzaltenango",
          "VENTAS POR DEPARTAMENTO Y MUNICIPIO/Quiché",
          "VENTAS POR DEPARTAMENTO Y MUNICIPIO/Retalhuleu",
          "VENTAS POR DEPARTAMENTO Y MUNICIPIO/Sacatepéquez",
          "VENTAS POR DEPARTAMENTO Y MUNICIPIO/San Marcos",
          "VENTAS POR DEPARTAMENTO Y MUNICIPIO/Santa Rosa",
          "VENTAS POR DEPARTAMENTO Y MUNICIPIO/Sololá",
          "VENTAS POR DEPARTAMENTO Y MUNICIPIO/Suchitepéquez",
          "VENTAS POR DEPARTAMENTO Y MUNICIPIO/Totonicapán",
          "VENTAS POR DEPARTAMENTO Y MUNICIPIO/Zacapa",
          "VENTAS POR DEPARTAMENTO Y MUNICIPIO/Alta Verapaz",
          "VENTAS POR DEPARTAMENTO Y MUNICIPIO/Baja Verapaz",
          "VENTAS POR DEPARTAMENTO Y MUNICIPIO/Chimaltenango",
          "VENTAS POR DEPARTAMENTO Y MUNICIPIO/Chiquimula",
          "VENTAS POR DEPARTAMENTO Y MUNICIPIO/El Progreso",
          "VENTAS POR DEPARTAMENTO Y MUNICIPIO/Escuintla",
          "VENTAS POR DEPARTAMENTO Y MUNICIPIO/Guatemala",
          "VENTAS POR DEPARTAMENTO Y MUNICIPIO/Huehuetenango",
          "VENTAS POR DEPARTAMENTO Y MUNICIPIO/Izabal",
          "VENTAS POR DEPARTAMENTO Y MUNICIPIO/Jalapa",
          "VENTAS POR DEPARTAMENTO Y MUNICIPIO/Jutiapa",
          "VENTAS POR DEPARTAMENTO Y MUNICIPIO/Petén",
          "VENTAS POR DEPARTAMENTO Y MUNICIPIO/Quetzaltenango",
          "VENTAS POR DEPARTAMENTO Y MUNICIPIO/Quiché",
          "VENTAS POR DEPARTAMENTO Y MUNICIPIO/Retalhuleu",
          "VENTAS POR DEPARTAMENTO Y MUNICIPIO/Sacatepéquez",
          "VENTAS POR DEPARTAMENTO Y MUNICIPIO/San Marcos",
          "VENTAS POR DEPARTAMENTO Y MUNICIPIO/Santa Rosa",
          "VENTAS POR DEPARTAMENTO Y MUNICIPIO/Sololá",
          "VENTAS POR DEPARTAMENTO Y MUNICIPIO/Suchitepéquez",
          "VENTAS POR DEPARTAMENTO Y MUNICIPIO/Totonicapán",
          "VENTAS POR DEPARTAMENTO Y MUNICIPIO/Zacapa",
          "VENTAS POR DEPARTAMENTO Y MUNICIPIO/Alta Verapaz",
          "VENTAS POR DEPARTAMENTO Y MUNICIPIO/Baja Verapaz",
          "VENTAS POR DEPARTAMENTO Y MUNICIPIO/Chimaltenango",
          "VENTAS POR DEPARTAMENTO Y MUNICIPIO/Chiquimula",
          "VENTAS POR DEPARTAMENTO Y MUNICIPIO/El Progreso",
          "VENTAS POR DEPARTAMENTO Y MUNICIPIO/Escuintla",
          "VENTAS POR DEPARTAMENTO Y MUNICIPIO/Guatemala",
          "VENTAS POR DEPARTAMENTO Y MUNICIPIO/Huehuetenango",
          "VENTAS POR DEPARTAMENTO Y MUNICIPIO/Izabal",
          "VENTAS POR DEPARTAMENTO Y MUNICIPIO/Jalapa",
          "VENTAS POR DEPARTAMENTO Y MUNICIPIO/Jutiapa",
          "VENTAS POR DEPARTAMENTO Y MUNICIPIO/Petén",
          "VENTAS POR DEPARTAMENTO Y MUNICIPIO/Quetzaltenango",
          "VENTAS POR DEPARTAMENTO Y MUNICIPIO/Quiché",
          "VENTAS POR DEPARTAMENTO Y MUNICIPIO/Retalhuleu",
          "VENTAS POR DEPARTAMENTO Y MUNICIPIO/Sacatepéquez",
          "VENTAS POR DEPARTAMENTO Y MUNICIPIO/San Marcos",
          "VENTAS POR DEPARTAMENTO Y MUNICIPIO/Santa Rosa",
          "VENTAS POR DEPARTAMENTO Y MUNICIPIO/Sololá",
          "VENTAS POR DEPARTAMENTO Y MUNICIPIO/Suchitepéquez",
          "VENTAS POR DEPARTAMENTO Y MUNICIPIO/Totonicapán",
          "VENTAS POR DEPARTAMENTO Y MUNICIPIO/Zacapa",
          "VENTAS POR DEPARTAMENTO Y MUNICIPIO/Alta Verapaz",
          "VENTAS POR DEPARTAMENTO Y MUNICIPIO/Baja Verapaz",
          "VENTAS POR DEPARTAMENTO Y MUNICIPIO/Chimaltenango",
          "VENTAS POR DEPARTAMENTO Y MUNICIPIO/Chiquimula",
          "VENTAS POR DEPARTAMENTO Y MUNICIPIO/El Progreso",
          "VENTAS POR DEPARTAMENTO Y MUNICIPIO/Escuintla",
          "VENTAS POR DEPARTAMENTO Y MUNICIPIO/Guatemala",
          "VENTAS POR DEPARTAMENTO Y MUNICIPIO/Huehuetenango",
          "VENTAS POR DEPARTAMENTO Y MUNICIPIO/Izabal",
          "VENTAS POR DEPARTAMENTO Y MUNICIPIO/Jalapa",
          "VENTAS POR DEPARTAMENTO Y MUNICIPIO/Jutiapa",
          "VENTAS POR DEPARTAMENTO Y MUNICIPIO/Petén",
          "VENTAS POR DEPARTAMENTO Y MUNICIPIO/Quetzaltenango",
          "VENTAS POR DEPARTAMENTO Y MUNICIPIO/Quiché",
          "VENTAS POR DEPARTAMENTO Y MUNICIPIO/Retalhuleu",
          "VENTAS POR DEPARTAMENTO Y MUNICIPIO/Sacatepéquez",
          "VENTAS POR DEPARTAMENTO Y MUNICIPIO/San Marcos",
          "VENTAS POR DEPARTAMENTO Y MUNICIPIO/Santa Rosa",
          "VENTAS POR DEPARTAMENTO Y MUNICIPIO/Sololá",
          "VENTAS POR DEPARTAMENTO Y MUNICIPIO/Suchitepéquez",
          "VENTAS POR DEPARTAMENTO Y MUNICIPIO/Totonicapán",
          "VENTAS POR DEPARTAMENTO Y MUNICIPIO/Zacapa",
          "VENTAS POR DEPARTAMENTO Y MUNICIPIO/Alta Verapaz",
          "VENTAS POR DEPARTAMENTO Y MUNICIPIO/Baja Verapaz",
          "VENTAS POR DEPARTAMENTO Y MUNICIPIO/Chimaltenango",
          "VENTAS POR DEPARTAMENTO Y MUNICIPIO/Chiquimula",
          "VENTAS POR DEPARTAMENTO Y MUNICIPIO/El Progreso",
          "VENTAS POR DEPARTAMENTO Y MUNICIPIO/Escuintla",
          "VENTAS POR DEPARTAMENTO Y MUNICIPIO/Guatemala",
          "VENTAS POR DEPARTAMENTO Y MUNICIPIO/Huehuetenango",
          "VENTAS POR DEPARTAMENTO Y MUNICIPIO/Izabal",
          "VENTAS POR DEPARTAMENTO Y MUNICIPIO/Jalapa",
          "VENTAS POR DEPARTAMENTO Y MUNICIPIO/Jutiapa",
          "VENTAS POR DEPARTAMENTO Y MUNICIPIO/Petén",
          "VENTAS POR DEPARTAMENTO Y MUNICIPIO/Quetzaltenango",
          "VENTAS POR DEPARTAMENTO Y MUNICIPIO/Quiché",
          "VENTAS POR DEPARTAMENTO Y MUNICIPIO/Retalhuleu",
          "VENTAS POR DEPARTAMENTO Y MUNICIPIO/Sacatepéquez",
          "VENTAS POR DEPARTAMENTO Y MUNICIPIO/San Marcos",
          "VENTAS POR DEPARTAMENTO Y MUNICIPIO/Santa Rosa",
          "VENTAS POR DEPARTAMENTO Y MUNICIPIO/Sololá",
          "VENTAS POR DEPARTAMENTO Y MUNICIPIO/Suchitepéquez",
          "VENTAS POR DEPARTAMENTO Y MUNICIPIO/Totonicapán",
          "VENTAS POR DEPARTAMENTO Y MUNICIPIO/Zacapa",
          "VENTAS POR DEPARTAMENTO Y MUNICIPIO/Alta Verapaz",
          "VENTAS POR DEPARTAMENTO Y MUNICIPIO/Baja Verapaz",
          "VENTAS POR DEPARTAMENTO Y MUNICIPIO/Chimaltenango",
          "VENTAS POR DEPARTAMENTO Y MUNICIPIO/Chiquimula",
          "VENTAS POR DEPARTAMENTO Y MUNICIPIO/El Progreso",
          "VENTAS POR DEPARTAMENTO Y MUNICIPIO/Escuintla",
          "VENTAS POR DEPARTAMENTO Y MUNICIPIO/Guatemala",
          "VENTAS POR DEPARTAMENTO Y MUNICIPIO/Huehuetenango",
          "VENTAS POR DEPARTAMENTO Y MUNICIPIO/Izabal",
          "VENTAS POR DEPARTAMENTO Y MUNICIPIO/Jalapa",
          "VENTAS POR DEPARTAMENTO Y MUNICIPIO/Jutiapa",
          "VENTAS POR DEPARTAMENTO Y MUNICIPIO/Petén",
          "VENTAS POR DEPARTAMENTO Y MUNICIPIO/Quetzaltenango",
          "VENTAS POR DEPARTAMENTO Y MUNICIPIO/Quiché",
          "VENTAS POR DEPARTAMENTO Y MUNICIPIO/Retalhuleu",
          "VENTAS POR DEPARTAMENTO Y MUNICIPIO/Sacatepéquez",
          "VENTAS POR DEPARTAMENTO Y MUNICIPIO/San Marcos",
          "VENTAS POR DEPARTAMENTO Y MUNICIPIO/Santa Rosa",
          "VENTAS POR DEPARTAMENTO Y MUNICIPIO/Sololá",
          "VENTAS POR DEPARTAMENTO Y MUNICIPIO/Suchitepéquez",
          "VENTAS POR DEPARTAMENTO Y MUNICIPIO/Totonicapán",
          "VENTAS POR DEPARTAMENTO Y MUNICIPIO/Zacapa",
          "VENTAS POR DEPARTAMENTO Y MUNICIPIO/Alta Verapaz",
          "VENTAS POR DEPARTAMENTO Y MUNICIPIO/Baja Verapaz",
          "VENTAS POR DEPARTAMENTO Y MUNICIPIO/Chimaltenango",
          "VENTAS POR DEPARTAMENTO Y MUNICIPIO/Chiquimula",
          "VENTAS POR DEPARTAMENTO Y MUNICIPIO/El Progreso",
          "VENTAS POR DEPARTAMENTO Y MUNICIPIO/Escuintla",
          "VENTAS POR DEPARTAMENTO Y MUNICIPIO/Guatemala",
          "VENTAS POR DEPARTAMENTO Y MUNICIPIO/Huehuetenango",
          "VENTAS POR DEPARTAMENTO Y MUNICIPIO/Izabal",
          "VENTAS POR DEPARTAMENTO Y MUNICIPIO/Jalapa",
          "VENTAS POR DEPARTAMENTO Y MUNICIPIO/Jutiapa",
          "VENTAS POR DEPARTAMENTO Y MUNICIPIO/Petén",
          "VENTAS POR DEPARTAMENTO Y MUNICIPIO/Quetzaltenango",
          "VENTAS POR DEPARTAMENTO Y MUNICIPIO/Quiché",
          "VENTAS POR DEPARTAMENTO Y MUNICIPIO/Retalhuleu",
          "VENTAS POR DEPARTAMENTO Y MUNICIPIO/Sacatepéquez",
          "VENTAS POR DEPARTAMENTO Y MUNICIPIO/San Marcos",
          "VENTAS POR DEPARTAMENTO Y MUNICIPIO/Santa Rosa",
          "VENTAS POR DEPARTAMENTO Y MUNICIPIO/Sololá",
          "VENTAS POR DEPARTAMENTO Y MUNICIPIO/Suchitepéquez",
          "VENTAS POR DEPARTAMENTO Y MUNICIPIO/Totonicapán",
          "VENTAS POR DEPARTAMENTO Y MUNICIPIO/Alta Verapaz",
          "VENTAS POR DEPARTAMENTO Y MUNICIPIO/Baja Verapaz",
          "VENTAS POR DEPARTAMENTO Y MUNICIPIO/Chimaltenango",
          "VENTAS POR DEPARTAMENTO Y MUNICIPIO/Chiquimula",
          "VENTAS POR DEPARTAMENTO Y MUNICIPIO/El Progreso",
          "VENTAS POR DEPARTAMENTO Y MUNICIPIO/Escuintla",
          "VENTAS POR DEPARTAMENTO Y MUNICIPIO/Guatemala",
          "VENTAS POR DEPARTAMENTO Y MUNICIPIO/Huehuetenango",
          "VENTAS POR DEPARTAMENTO Y MUNICIPIO/Jalapa",
          "VENTAS POR DEPARTAMENTO Y MUNICIPIO/Jutiapa",
          "VENTAS POR DEPARTAMENTO Y MUNICIPIO/Petén",
          "VENTAS POR DEPARTAMENTO Y MUNICIPIO/Quetzaltenango",
          "VENTAS POR DEPARTAMENTO Y MUNICIPIO/Quiché",
          "VENTAS POR DEPARTAMENTO Y MUNICIPIO/Sacatepéquez",
          "VENTAS POR DEPARTAMENTO Y MUNICIPIO/San Marcos",
          "VENTAS POR DEPARTAMENTO Y MUNICIPIO/Suchitepéquez",
          "VENTAS POR DEPARTAMENTO Y MUNICIPIO/Totonicapán",
          "VENTAS POR DEPARTAMENTO Y MUNICIPIO/Zacapa",
          "VENTAS POR DEPARTAMENTO Y MUNICIPIO/Baja Verapaz",
          "VENTAS POR DEPARTAMENTO Y MUNICIPIO/Escuintla",
          "VENTAS POR DEPARTAMENTO Y MUNICIPIO/Guatemala",
          "VENTAS POR DEPARTAMENTO Y MUNICIPIO/Huehuetenango",
          "VENTAS POR DEPARTAMENTO Y MUNICIPIO/Jalapa",
          "VENTAS POR DEPARTAMENTO Y MUNICIPIO/Jutiapa",
          "VENTAS POR DEPARTAMENTO Y MUNICIPIO/Petén",
          "VENTAS POR DEPARTAMENTO Y MUNICIPIO/Quetzaltenango",
          "VENTAS POR DEPARTAMENTO Y MUNICIPIO/Quiché",
          "VENTAS POR DEPARTAMENTO Y MUNICIPIO/Sacatepéquez",
          "VENTAS POR DEPARTAMENTO Y MUNICIPIO/San Marcos",
          "VENTAS POR DEPARTAMENTO Y MUNICIPIO/Santa Rosa",
          "VENTAS POR DEPARTAMENTO Y MUNICIPIO/Suchitepéquez",
          "VENTAS POR DEPARTAMENTO Y MUNICIPIO/Totonicapán",
          "VENTAS POR DEPARTAMENTO Y MUNICIPIO/Zacapa",
          "VENTAS POR DEPARTAMENTO Y MUNICIPIO/Chimaltenango",
          "VENTAS POR DEPARTAMENTO Y MUNICIPIO/Huehuetenango",
          "VENTAS POR DEPARTAMENTO Y MUNICIPIO/Jutiapa",
          "VENTAS POR DEPARTAMENTO Y MUNICIPIO/Petén",
          "VENTAS POR DEPARTAMENTO Y MUNICIPIO/Quetzaltenango",
          "VENTAS POR DEPARTAMENTO Y MUNICIPIO/Sacatepéquez",
          "VENTAS POR DEPARTAMENTO Y MUNICIPIO/San Marcos",
          "VENTAS POR DEPARTAMENTO Y MUNICIPIO/Sololá",
          "VENTAS POR DEPARTAMENTO Y MUNICIPIO/Alta Verapaz",
          "VENTAS POR DEPARTAMENTO Y MUNICIPIO/Baja Verapaz",
          "VENTAS POR DEPARTAMENTO Y MUNICIPIO/Chimaltenango",
          "VENTAS POR DEPARTAMENTO Y MUNICIPIO/Chiquimula",
          "VENTAS POR DEPARTAMENTO Y MUNICIPIO/Escuintla",
          "VENTAS POR DEPARTAMENTO Y MUNICIPIO/Guatemala",
          "VENTAS POR DEPARTAMENTO Y MUNICIPIO/Huehuetenango",
          "VENTAS POR DEPARTAMENTO Y MUNICIPIO/Jalapa",
          "VENTAS POR DEPARTAMENTO Y MUNICIPIO/Jutiapa",
          "VENTAS POR DEPARTAMENTO Y MUNICIPIO/Petén",
          "VENTAS POR DEPARTAMENTO Y MUNICIPIO/Quetzaltenango",
          "VENTAS POR DEPARTAMENTO Y MUNICIPIO/Retalhuleu",
          "VENTAS POR DEPARTAMENTO Y MUNICIPIO/Sacatepéquez",
          "VENTAS POR DEPARTAMENTO Y MUNICIPIO/San Marcos",
          "VENTAS POR DEPARTAMENTO Y MUNICIPIO/Santa Rosa",
          "VENTAS POR DEPARTAMENTO Y MUNICIPIO/Zacapa",
          "VENTAS POR DEPARTAMENTO Y MUNICIPIO",
          "VENTAS POR DEPARTAMENTO Y MUNICIPIO",
          "VENTAS POR DEPARTAMENTO Y MUNICIPIO",
          "VENTAS POR DEPARTAMENTO Y MUNICIPIO",
          "VENTAS POR DEPARTAMENTO Y MUNICIPIO",
          "VENTAS POR DEPARTAMENTO Y MUNICIPIO",
          "VENTAS POR DEPARTAMENTO Y MUNICIPIO",
          "VENTAS POR DEPARTAMENTO Y MUNICIPIO",
          "VENTAS POR DEPARTAMENTO Y MUNICIPIO",
          "VENTAS POR DEPARTAMENTO Y MUNICIPIO",
          "VENTAS POR DEPARTAMENTO Y MUNICIPIO",
          "VENTAS POR DEPARTAMENTO Y MUNICIPIO",
          "VENTAS POR DEPARTAMENTO Y MUNICIPIO",
          "VENTAS POR DEPARTAMENTO Y MUNICIPIO",
          "VENTAS POR DEPARTAMENTO Y MUNICIPIO",
          "VENTAS POR DEPARTAMENTO Y MUNICIPIO",
          "VENTAS POR DEPARTAMENTO Y MUNICIPIO",
          "VENTAS POR DEPARTAMENTO Y MUNICIPIO",
          "VENTAS POR DEPARTAMENTO Y MUNICIPIO",
          "VENTAS POR DEPARTAMENTO Y MUNICIPIO",
          "VENTAS POR DEPARTAMENTO Y MUNICIPIO",
          "VENTAS POR DEPARTAMENTO Y MUNICIPIO",
          ""
         ],
         "type": "treemap",
         "values": [
          53,
          17,
          43,
          38,
          33,
          63,
          68,
          76,
          14,
          17,
          44,
          31,
          43,
          57,
          35,
          48,
          82,
          51,
          56,
          49,
          26,
          29,
          102,
          59,
          111,
          90,
          64,
          111,
          165,
          242,
          30,
          53,
          151,
          91,
          147,
          141,
          80,
          103,
          232,
          129,
          115,
          111,
          65,
          67,
          125,
          54,
          120,
          94,
          54,
          166,
          174,
          207,
          40,
          54,
          131,
          89,
          143,
          139,
          79,
          107,
          227,
          131,
          128,
          115,
          66,
          83,
          56,
          38,
          62,
          43,
          34,
          76,
          80,
          109,
          18,
          24,
          76,
          43,
          64,
          64,
          50,
          57,
          85,
          65,
          48,
          51,
          41,
          36,
          54,
          27,
          66,
          43,
          31,
          67,
          77,
          100,
          14,
          24,
          81,
          41,
          79,
          79,
          47,
          64,
          116,
          70,
          63,
          66,
          24,
          51,
          25,
          12,
          29,
          20,
          15,
          20,
          36,
          53,
          7,
          12,
          34,
          26,
          32,
          32,
          21,
          18,
          63,
          23,
          25,
          36,
          21,
          17,
          36,
          15,
          29,
          21,
          10,
          27,
          44,
          50,
          8,
          13,
          20,
          26,
          31,
          42,
          25,
          28,
          46,
          31,
          21,
          28,
          16,
          25,
          12,
          7,
          9,
          8,
          8,
          10,
          25,
          19,
          3,
          4,
          15,
          8,
          9,
          18,
          6,
          12,
          17,
          12,
          11,
          14,
          7,
          8,
          15,
          8,
          10,
          14,
          8,
          13,
          21,
          18,
          2,
          5,
          11,
          9,
          15,
          13,
          5,
          9,
          13,
          13,
          14,
          11,
          6,
          6,
          1,
          2,
          1,
          1,
          2,
          2,
          8,
          5,
          1,
          1,
          3,
          5,
          1,
          4,
          4,
          1,
          5,
          2,
          3,
          4,
          4,
          3,
          1,
          2,
          1,
          1,
          6,
          3,
          1,
          1,
          4,
          1,
          3,
          1,
          2,
          4,
          2,
          1,
          1,
          2,
          3,
          1,
          2,
          2,
          1,
          2,
          1,
          2,
          1,
          4,
          1,
          3,
          1,
          1,
          1,
          2,
          3,
          1,
          2,
          2,
          1,
          1,
          4,
          4,
          2,
          1,
          2,
          1,
          6,
          4,
          1,
          1,
          2,
          1,
          1,
          6,
          1,
          1,
          486,
          246,
          485,
          374,
          260,
          566,
          703,
          890,
          137,
          214,
          575,
          374,
          572,
          592,
          353,
          453,
          901,
          529,
          485,
          490,
          278,
          325,
          10288
         ]
        }
       ],
       "layout": {
        "legend": {
         "tracegroupgap": 0
        },
        "margin": {
         "t": 60
        },
        "template": {
         "data": {
          "bar": [
           {
            "error_x": {
             "color": "#2a3f5f"
            },
            "error_y": {
             "color": "#2a3f5f"
            },
            "marker": {
             "line": {
              "color": "#E5ECF6",
              "width": 0.5
             },
             "pattern": {
              "fillmode": "overlay",
              "size": 10,
              "solidity": 0.2
             }
            },
            "type": "bar"
           }
          ],
          "barpolar": [
           {
            "marker": {
             "line": {
              "color": "#E5ECF6",
              "width": 0.5
             },
             "pattern": {
              "fillmode": "overlay",
              "size": 10,
              "solidity": 0.2
             }
            },
            "type": "barpolar"
           }
          ],
          "carpet": [
           {
            "aaxis": {
             "endlinecolor": "#2a3f5f",
             "gridcolor": "white",
             "linecolor": "white",
             "minorgridcolor": "white",
             "startlinecolor": "#2a3f5f"
            },
            "baxis": {
             "endlinecolor": "#2a3f5f",
             "gridcolor": "white",
             "linecolor": "white",
             "minorgridcolor": "white",
             "startlinecolor": "#2a3f5f"
            },
            "type": "carpet"
           }
          ],
          "choropleth": [
           {
            "colorbar": {
             "outlinewidth": 0,
             "ticks": ""
            },
            "type": "choropleth"
           }
          ],
          "contour": [
           {
            "colorbar": {
             "outlinewidth": 0,
             "ticks": ""
            },
            "colorscale": [
             [
              0,
              "#0d0887"
             ],
             [
              0.1111111111111111,
              "#46039f"
             ],
             [
              0.2222222222222222,
              "#7201a8"
             ],
             [
              0.3333333333333333,
              "#9c179e"
             ],
             [
              0.4444444444444444,
              "#bd3786"
             ],
             [
              0.5555555555555556,
              "#d8576b"
             ],
             [
              0.6666666666666666,
              "#ed7953"
             ],
             [
              0.7777777777777778,
              "#fb9f3a"
             ],
             [
              0.8888888888888888,
              "#fdca26"
             ],
             [
              1,
              "#f0f921"
             ]
            ],
            "type": "contour"
           }
          ],
          "contourcarpet": [
           {
            "colorbar": {
             "outlinewidth": 0,
             "ticks": ""
            },
            "type": "contourcarpet"
           }
          ],
          "heatmap": [
           {
            "colorbar": {
             "outlinewidth": 0,
             "ticks": ""
            },
            "colorscale": [
             [
              0,
              "#0d0887"
             ],
             [
              0.1111111111111111,
              "#46039f"
             ],
             [
              0.2222222222222222,
              "#7201a8"
             ],
             [
              0.3333333333333333,
              "#9c179e"
             ],
             [
              0.4444444444444444,
              "#bd3786"
             ],
             [
              0.5555555555555556,
              "#d8576b"
             ],
             [
              0.6666666666666666,
              "#ed7953"
             ],
             [
              0.7777777777777778,
              "#fb9f3a"
             ],
             [
              0.8888888888888888,
              "#fdca26"
             ],
             [
              1,
              "#f0f921"
             ]
            ],
            "type": "heatmap"
           }
          ],
          "heatmapgl": [
           {
            "colorbar": {
             "outlinewidth": 0,
             "ticks": ""
            },
            "colorscale": [
             [
              0,
              "#0d0887"
             ],
             [
              0.1111111111111111,
              "#46039f"
             ],
             [
              0.2222222222222222,
              "#7201a8"
             ],
             [
              0.3333333333333333,
              "#9c179e"
             ],
             [
              0.4444444444444444,
              "#bd3786"
             ],
             [
              0.5555555555555556,
              "#d8576b"
             ],
             [
              0.6666666666666666,
              "#ed7953"
             ],
             [
              0.7777777777777778,
              "#fb9f3a"
             ],
             [
              0.8888888888888888,
              "#fdca26"
             ],
             [
              1,
              "#f0f921"
             ]
            ],
            "type": "heatmapgl"
           }
          ],
          "histogram": [
           {
            "marker": {
             "pattern": {
              "fillmode": "overlay",
              "size": 10,
              "solidity": 0.2
             }
            },
            "type": "histogram"
           }
          ],
          "histogram2d": [
           {
            "colorbar": {
             "outlinewidth": 0,
             "ticks": ""
            },
            "colorscale": [
             [
              0,
              "#0d0887"
             ],
             [
              0.1111111111111111,
              "#46039f"
             ],
             [
              0.2222222222222222,
              "#7201a8"
             ],
             [
              0.3333333333333333,
              "#9c179e"
             ],
             [
              0.4444444444444444,
              "#bd3786"
             ],
             [
              0.5555555555555556,
              "#d8576b"
             ],
             [
              0.6666666666666666,
              "#ed7953"
             ],
             [
              0.7777777777777778,
              "#fb9f3a"
             ],
             [
              0.8888888888888888,
              "#fdca26"
             ],
             [
              1,
              "#f0f921"
             ]
            ],
            "type": "histogram2d"
           }
          ],
          "histogram2dcontour": [
           {
            "colorbar": {
             "outlinewidth": 0,
             "ticks": ""
            },
            "colorscale": [
             [
              0,
              "#0d0887"
             ],
             [
              0.1111111111111111,
              "#46039f"
             ],
             [
              0.2222222222222222,
              "#7201a8"
             ],
             [
              0.3333333333333333,
              "#9c179e"
             ],
             [
              0.4444444444444444,
              "#bd3786"
             ],
             [
              0.5555555555555556,
              "#d8576b"
             ],
             [
              0.6666666666666666,
              "#ed7953"
             ],
             [
              0.7777777777777778,
              "#fb9f3a"
             ],
             [
              0.8888888888888888,
              "#fdca26"
             ],
             [
              1,
              "#f0f921"
             ]
            ],
            "type": "histogram2dcontour"
           }
          ],
          "mesh3d": [
           {
            "colorbar": {
             "outlinewidth": 0,
             "ticks": ""
            },
            "type": "mesh3d"
           }
          ],
          "parcoords": [
           {
            "line": {
             "colorbar": {
              "outlinewidth": 0,
              "ticks": ""
             }
            },
            "type": "parcoords"
           }
          ],
          "pie": [
           {
            "automargin": true,
            "type": "pie"
           }
          ],
          "scatter": [
           {
            "fillpattern": {
             "fillmode": "overlay",
             "size": 10,
             "solidity": 0.2
            },
            "type": "scatter"
           }
          ],
          "scatter3d": [
           {
            "line": {
             "colorbar": {
              "outlinewidth": 0,
              "ticks": ""
             }
            },
            "marker": {
             "colorbar": {
              "outlinewidth": 0,
              "ticks": ""
             }
            },
            "type": "scatter3d"
           }
          ],
          "scattercarpet": [
           {
            "marker": {
             "colorbar": {
              "outlinewidth": 0,
              "ticks": ""
             }
            },
            "type": "scattercarpet"
           }
          ],
          "scattergeo": [
           {
            "marker": {
             "colorbar": {
              "outlinewidth": 0,
              "ticks": ""
             }
            },
            "type": "scattergeo"
           }
          ],
          "scattergl": [
           {
            "marker": {
             "colorbar": {
              "outlinewidth": 0,
              "ticks": ""
             }
            },
            "type": "scattergl"
           }
          ],
          "scattermapbox": [
           {
            "marker": {
             "colorbar": {
              "outlinewidth": 0,
              "ticks": ""
             }
            },
            "type": "scattermapbox"
           }
          ],
          "scatterpolar": [
           {
            "marker": {
             "colorbar": {
              "outlinewidth": 0,
              "ticks": ""
             }
            },
            "type": "scatterpolar"
           }
          ],
          "scatterpolargl": [
           {
            "marker": {
             "colorbar": {
              "outlinewidth": 0,
              "ticks": ""
             }
            },
            "type": "scatterpolargl"
           }
          ],
          "scatterternary": [
           {
            "marker": {
             "colorbar": {
              "outlinewidth": 0,
              "ticks": ""
             }
            },
            "type": "scatterternary"
           }
          ],
          "surface": [
           {
            "colorbar": {
             "outlinewidth": 0,
             "ticks": ""
            },
            "colorscale": [
             [
              0,
              "#0d0887"
             ],
             [
              0.1111111111111111,
              "#46039f"
             ],
             [
              0.2222222222222222,
              "#7201a8"
             ],
             [
              0.3333333333333333,
              "#9c179e"
             ],
             [
              0.4444444444444444,
              "#bd3786"
             ],
             [
              0.5555555555555556,
              "#d8576b"
             ],
             [
              0.6666666666666666,
              "#ed7953"
             ],
             [
              0.7777777777777778,
              "#fb9f3a"
             ],
             [
              0.8888888888888888,
              "#fdca26"
             ],
             [
              1,
              "#f0f921"
             ]
            ],
            "type": "surface"
           }
          ],
          "table": [
           {
            "cells": {
             "fill": {
              "color": "#EBF0F8"
             },
             "line": {
              "color": "white"
             }
            },
            "header": {
             "fill": {
              "color": "#C8D4E3"
             },
             "line": {
              "color": "white"
             }
            },
            "type": "table"
           }
          ]
         },
         "layout": {
          "annotationdefaults": {
           "arrowcolor": "#2a3f5f",
           "arrowhead": 0,
           "arrowwidth": 1
          },
          "autotypenumbers": "strict",
          "coloraxis": {
           "colorbar": {
            "outlinewidth": 0,
            "ticks": ""
           }
          },
          "colorscale": {
           "diverging": [
            [
             0,
             "#8e0152"
            ],
            [
             0.1,
             "#c51b7d"
            ],
            [
             0.2,
             "#de77ae"
            ],
            [
             0.3,
             "#f1b6da"
            ],
            [
             0.4,
             "#fde0ef"
            ],
            [
             0.5,
             "#f7f7f7"
            ],
            [
             0.6,
             "#e6f5d0"
            ],
            [
             0.7,
             "#b8e186"
            ],
            [
             0.8,
             "#7fbc41"
            ],
            [
             0.9,
             "#4d9221"
            ],
            [
             1,
             "#276419"
            ]
           ],
           "sequential": [
            [
             0,
             "#0d0887"
            ],
            [
             0.1111111111111111,
             "#46039f"
            ],
            [
             0.2222222222222222,
             "#7201a8"
            ],
            [
             0.3333333333333333,
             "#9c179e"
            ],
            [
             0.4444444444444444,
             "#bd3786"
            ],
            [
             0.5555555555555556,
             "#d8576b"
            ],
            [
             0.6666666666666666,
             "#ed7953"
            ],
            [
             0.7777777777777778,
             "#fb9f3a"
            ],
            [
             0.8888888888888888,
             "#fdca26"
            ],
            [
             1,
             "#f0f921"
            ]
           ],
           "sequentialminus": [
            [
             0,
             "#0d0887"
            ],
            [
             0.1111111111111111,
             "#46039f"
            ],
            [
             0.2222222222222222,
             "#7201a8"
            ],
            [
             0.3333333333333333,
             "#9c179e"
            ],
            [
             0.4444444444444444,
             "#bd3786"
            ],
            [
             0.5555555555555556,
             "#d8576b"
            ],
            [
             0.6666666666666666,
             "#ed7953"
            ],
            [
             0.7777777777777778,
             "#fb9f3a"
            ],
            [
             0.8888888888888888,
             "#fdca26"
            ],
            [
             1,
             "#f0f921"
            ]
           ]
          },
          "colorway": [
           "#636efa",
           "#EF553B",
           "#00cc96",
           "#ab63fa",
           "#FFA15A",
           "#19d3f3",
           "#FF6692",
           "#B6E880",
           "#FF97FF",
           "#FECB52"
          ],
          "font": {
           "color": "#2a3f5f"
          },
          "geo": {
           "bgcolor": "white",
           "lakecolor": "white",
           "landcolor": "#E5ECF6",
           "showlakes": true,
           "showland": true,
           "subunitcolor": "white"
          },
          "hoverlabel": {
           "align": "left"
          },
          "hovermode": "closest",
          "mapbox": {
           "style": "light"
          },
          "paper_bgcolor": "white",
          "plot_bgcolor": "#E5ECF6",
          "polar": {
           "angularaxis": {
            "gridcolor": "white",
            "linecolor": "white",
            "ticks": ""
           },
           "bgcolor": "#E5ECF6",
           "radialaxis": {
            "gridcolor": "white",
            "linecolor": "white",
            "ticks": ""
           }
          },
          "scene": {
           "xaxis": {
            "backgroundcolor": "#E5ECF6",
            "gridcolor": "white",
            "gridwidth": 2,
            "linecolor": "white",
            "showbackground": true,
            "ticks": "",
            "zerolinecolor": "white"
           },
           "yaxis": {
            "backgroundcolor": "#E5ECF6",
            "gridcolor": "white",
            "gridwidth": 2,
            "linecolor": "white",
            "showbackground": true,
            "ticks": "",
            "zerolinecolor": "white"
           },
           "zaxis": {
            "backgroundcolor": "#E5ECF6",
            "gridcolor": "white",
            "gridwidth": 2,
            "linecolor": "white",
            "showbackground": true,
            "ticks": "",
            "zerolinecolor": "white"
           }
          },
          "shapedefaults": {
           "line": {
            "color": "#2a3f5f"
           }
          },
          "ternary": {
           "aaxis": {
            "gridcolor": "white",
            "linecolor": "white",
            "ticks": ""
           },
           "baxis": {
            "gridcolor": "white",
            "linecolor": "white",
            "ticks": ""
           },
           "bgcolor": "#E5ECF6",
           "caxis": {
            "gridcolor": "white",
            "linecolor": "white",
            "ticks": ""
           }
          },
          "title": {
           "x": 0.05
          },
          "xaxis": {
           "automargin": true,
           "gridcolor": "white",
           "linecolor": "white",
           "ticks": "",
           "title": {
            "standoff": 15
           },
           "zerolinecolor": "white",
           "zerolinewidth": 2
          },
          "yaxis": {
           "automargin": true,
           "gridcolor": "white",
           "linecolor": "white",
           "ticks": "",
           "title": {
            "standoff": 15
           },
           "zerolinecolor": "white",
           "zerolinewidth": 2
          }
         }
        }
       }
      }
     },
     "metadata": {},
     "output_type": "display_data"
    }
   ],
   "source": [
    "fig = px.treemap(analisis2, path=[px.Constant(\"VENTAS POR DEPARTAMENTO Y MUNICIPIO\"), 'departamento','cantidad'],\n",
    "color_continuous_scale='RdBu')\n",
    "fig.show()"
   ]
  },
  {
   "cell_type": "code",
   "execution_count": 320,
   "metadata": {},
   "outputs": [
    {
     "data": {
      "text/html": [
       "<div>\n",
       "<style scoped>\n",
       "    .dataframe tbody tr th:only-of-type {\n",
       "        vertical-align: middle;\n",
       "    }\n",
       "\n",
       "    .dataframe tbody tr th {\n",
       "        vertical-align: top;\n",
       "    }\n",
       "\n",
       "    .dataframe thead th {\n",
       "        text-align: right;\n",
       "    }\n",
       "</style>\n",
       "<table border=\"1\" class=\"dataframe\">\n",
       "  <thead>\n",
       "    <tr style=\"text-align: right;\">\n",
       "      <th></th>\n",
       "      <th>ganancias</th>\n",
       "    </tr>\n",
       "    <tr>\n",
       "      <th>subcategoria</th>\n",
       "      <th></th>\n",
       "    </tr>\n",
       "  </thead>\n",
       "  <tbody>\n",
       "    <tr>\n",
       "      <th>Electrodomésticos</th>\n",
       "      <td>261481.4800</td>\n",
       "    </tr>\n",
       "    <tr>\n",
       "      <th>Máquinas</th>\n",
       "      <td>23556.4600</td>\n",
       "    </tr>\n",
       "    <tr>\n",
       "      <th>Librerías</th>\n",
       "      <td>249493.9200</td>\n",
       "    </tr>\n",
       "    <tr>\n",
       "      <th>Accesorios</th>\n",
       "      <td>270081.3800</td>\n",
       "    </tr>\n",
       "    <tr>\n",
       "      <th>Teléfonos</th>\n",
       "      <td>301774.8800</td>\n",
       "    </tr>\n",
       "    <tr>\n",
       "      <th>Mesas</th>\n",
       "      <td>-123058.5200</td>\n",
       "    </tr>\n",
       "    <tr>\n",
       "      <th>Almacenamiento</th>\n",
       "      <td>162085.4000</td>\n",
       "    </tr>\n",
       "    <tr>\n",
       "      <th>Carpetas</th>\n",
       "      <td>53318.4400</td>\n",
       "    </tr>\n",
       "    <tr>\n",
       "      <th>Sobres</th>\n",
       "      <td>62854.0400</td>\n",
       "    </tr>\n",
       "    <tr>\n",
       "      <th>Papel</th>\n",
       "      <td>60746.9600</td>\n",
       "    </tr>\n",
       "    <tr>\n",
       "      <th>Mobiliario</th>\n",
       "      <td>2954.3200</td>\n",
       "    </tr>\n",
       "    <tr>\n",
       "      <th>Arte</th>\n",
       "      <td>69822.1600</td>\n",
       "    </tr>\n",
       "    <tr>\n",
       "      <th>Etiquetas</th>\n",
       "      <td>23892.2000</td>\n",
       "    </tr>\n",
       "    <tr>\n",
       "      <th>Copiadoras</th>\n",
       "      <td>410454.4308</td>\n",
       "    </tr>\n",
       "    <tr>\n",
       "      <th>Grapas</th>\n",
       "      <td>25316.0000</td>\n",
       "    </tr>\n",
       "    <tr>\n",
       "      <th>Suministros</th>\n",
       "      <td>75708.6800</td>\n",
       "    </tr>\n",
       "    <tr>\n",
       "      <th>Sillas</th>\n",
       "      <td>287811.9200</td>\n",
       "    </tr>\n",
       "  </tbody>\n",
       "</table>\n",
       "</div>"
      ],
      "text/plain": [
       "                     ganancias\n",
       "subcategoria                  \n",
       "Electrodomésticos  261481.4800\n",
       "Máquinas            23556.4600\n",
       "Librerías          249493.9200\n",
       "Accesorios         270081.3800\n",
       "Teléfonos          301774.8800\n",
       "Mesas             -123058.5200\n",
       "Almacenamiento     162085.4000\n",
       "Carpetas            53318.4400\n",
       "Sobres              62854.0400\n",
       "Papel               60746.9600\n",
       "Mobiliario           2954.3200\n",
       "Arte                69822.1600\n",
       "Etiquetas           23892.2000\n",
       "Copiadoras         410454.4308\n",
       "Grapas              25316.0000\n",
       "Suministros         75708.6800\n",
       "Sillas             287811.9200"
      ]
     },
     "execution_count": 320,
     "metadata": {},
     "output_type": "execute_result"
    }
   ],
   "source": [
    "dwh_query = '''SELECT p.subcategoria, sum(v.ganancia) as ganancias\n",
    "FROM fact_table as v\n",
    "inner join producto as p on v.producto_id = p.producto_id\n",
    "group by p.subcategoria;'''\n",
    "analisis3 = pd.read_sql(dwh_query, postgres_driver1, index_col=\"subcategoria\")\n",
    "analisis3"
   ]
  },
  {
   "cell_type": "code",
   "execution_count": 321,
   "metadata": {},
   "outputs": [
    {
     "data": {
      "text/plain": [
       "<AxesSubplot:ylabel='subcategoria'>"
      ]
     },
     "execution_count": 321,
     "metadata": {},
     "output_type": "execute_result"
    },
    {
     "data": {
      "image/png": "[encoded data removed]",
      "text/plain": [
       "<Figure size 640x480 with 1 Axes>"
      ]
     },
     "metadata": {},
     "output_type": "display_data"
    }
   ],
   "source": [
    "analisis3.plot(kind = 'barh')\n"
   ]
  },
  {
   "cell_type": "code",
   "execution_count": 329,
   "metadata": {},
   "outputs": [
    {
     "data": {
      "text/html": [
       "<div>\n",
       "<style scoped>\n",
       "    .dataframe tbody tr th:only-of-type {\n",
       "        vertical-align: middle;\n",
       "    }\n",
       "\n",
       "    .dataframe tbody tr th {\n",
       "        vertical-align: top;\n",
       "    }\n",
       "\n",
       "    .dataframe thead th {\n",
       "        text-align: right;\n",
       "    }\n",
       "</style>\n",
       "<table border=\"1\" class=\"dataframe\">\n",
       "  <thead>\n",
       "    <tr style=\"text-align: right;\">\n",
       "      <th></th>\n",
       "      <th>ganancia_neta</th>\n",
       "    </tr>\n",
       "    <tr>\n",
       "      <th>nombre_del_producto</th>\n",
       "      <th></th>\n",
       "    </tr>\n",
       "  </thead>\n",
       "  <tbody>\n",
       "    <tr>\n",
       "      <th>Chromcraft Mesa de conferencias, Negro</th>\n",
       "      <td>-2967.26</td>\n",
       "    </tr>\n",
       "    <tr>\n",
       "      <th>Lesro Mesa de conferencias, Blanco</th>\n",
       "      <td>-2579.46</td>\n",
       "    </tr>\n",
       "    <tr>\n",
       "      <th>Lesro Mesa de ordenador, Negro</th>\n",
       "      <td>-1998.92</td>\n",
       "    </tr>\n",
       "    <tr>\n",
       "      <th>Bevis Mesa de ordenador, Negro</th>\n",
       "      <td>-1879.36</td>\n",
       "    </tr>\n",
       "    <tr>\n",
       "      <th>Chromcraft Mesa redonda, Rectangular</th>\n",
       "      <td>-1672.86</td>\n",
       "    </tr>\n",
       "  </tbody>\n",
       "</table>\n",
       "</div>"
      ],
      "text/plain": [
       "                                        ganancia_neta\n",
       "nombre_del_producto                                  \n",
       "Chromcraft Mesa de conferencias, Negro       -2967.26\n",
       "Lesro Mesa de conferencias, Blanco           -2579.46\n",
       "Lesro Mesa de ordenador, Negro               -1998.92\n",
       "Bevis Mesa de ordenador, Negro               -1879.36\n",
       "Chromcraft Mesa redonda, Rectangular         -1672.86"
      ]
     },
     "execution_count": 329,
     "metadata": {},
     "output_type": "execute_result"
    }
   ],
   "source": [
    "dwh_query = '''select p.nombre_del_producto, sum(v.ganancia)/sum(cantidad) as ganancia_neta\n",
    "FROM fact_table as v\n",
    "inner join producto as p on v.producto_id = p.producto_id\n",
    "group by p.nombre_del_producto\n",
    "order by ganancia_neta asc \n",
    "FETCH FIRST 20 ROWS only;'''\n",
    "analisis4 = pd.read_sql(dwh_query, postgres_driver1, index_col='nombre_del_producto')\n",
    "analisis4.head()"
   ]
  },
  {
   "cell_type": "code",
   "execution_count": 327,
   "metadata": {},
   "outputs": [
    {
     "data": {
      "text/plain": [
       "<AxesSubplot:ylabel='nombre_del_producto'>"
      ]
     },
     "execution_count": 327,
     "metadata": {},
     "output_type": "execute_result"
    },
    {
     "data": {
      "image/png": "[encoded data removed]",
      "text/plain": [
       "<Figure size 640x480 with 1 Axes>"
      ]
     },
     "metadata": {},
     "output_type": "display_data"
    }
   ],
   "source": [
    "analisis4.plot(kind = 'barh')"
   ]
  },
  {
   "cell_type": "code",
   "execution_count": 331,
   "metadata": {},
   "outputs": [
    {
     "data": {
      "text/html": [
       "<div>\n",
       "<style scoped>\n",
       "    .dataframe tbody tr th:only-of-type {\n",
       "        vertical-align: middle;\n",
       "    }\n",
       "\n",
       "    .dataframe tbody tr th {\n",
       "        vertical-align: top;\n",
       "    }\n",
       "\n",
       "    .dataframe thead th {\n",
       "        text-align: right;\n",
       "    }\n",
       "</style>\n",
       "<table border=\"1\" class=\"dataframe\">\n",
       "  <thead>\n",
       "    <tr style=\"text-align: right;\">\n",
       "      <th></th>\n",
       "      <th>ganancia_neta</th>\n",
       "    </tr>\n",
       "    <tr>\n",
       "      <th>nombre_del_producto</th>\n",
       "      <th></th>\n",
       "    </tr>\n",
       "  </thead>\n",
       "  <tbody>\n",
       "    <tr>\n",
       "      <th>Motorola Cargador, Al por mayor</th>\n",
       "      <td>1756.800000</td>\n",
       "    </tr>\n",
       "    <tr>\n",
       "      <th>Breville Horno, Negro</th>\n",
       "      <td>1720.200000</td>\n",
       "    </tr>\n",
       "    <tr>\n",
       "      <th>Nokia Cargador, Azul</th>\n",
       "      <td>1653.600000</td>\n",
       "    </tr>\n",
       "    <tr>\n",
       "      <th>Bevis Mesa de madera, Blanco</th>\n",
       "      <td>1571.600000</td>\n",
       "    </tr>\n",
       "    <tr>\n",
       "      <th>Hoover Horno, Blanco</th>\n",
       "      <td>1565.344444</td>\n",
       "    </tr>\n",
       "  </tbody>\n",
       "</table>\n",
       "</div>"
      ],
      "text/plain": [
       "                                 ganancia_neta\n",
       "nombre_del_producto                           \n",
       "Motorola Cargador, Al por mayor    1756.800000\n",
       "Breville Horno, Negro              1720.200000\n",
       "Nokia Cargador, Azul               1653.600000\n",
       "Bevis Mesa de madera, Blanco       1571.600000\n",
       "Hoover Horno, Blanco               1565.344444"
      ]
     },
     "execution_count": 331,
     "metadata": {},
     "output_type": "execute_result"
    }
   ],
   "source": [
    "dwh_query = '''select p.nombre_del_producto, sum(v.ganancia)/sum(cantidad) as ganancia_neta\n",
    "FROM fact_table as v\n",
    "inner join producto as p on v.producto_id = p.producto_id\n",
    "group by p.nombre_del_producto\n",
    "order by ganancia_neta desc \n",
    "FETCH FIRST 20 ROWS only;'''\n",
    "analisis5 = pd.read_sql(dwh_query, postgres_driver1, index_col='nombre_del_producto')\n",
    "analisis5.head()"
   ]
  },
  {
   "cell_type": "code",
   "execution_count": 332,
   "metadata": {},
   "outputs": [
    {
     "data": {
      "text/plain": [
       "<AxesSubplot:ylabel='nombre_del_producto'>"
      ]
     },
     "execution_count": 332,
     "metadata": {},
     "output_type": "execute_result"
    },
    {
     "data": {
      "image/png": "[encoded data removed]",
      "text/plain": [
       "<Figure size 640x480 with 1 Axes>"
      ]
     },
     "metadata": {},
     "output_type": "display_data"
    }
   ],
   "source": [
    "analisis5.plot(kind = 'barh')"
   ]
  }
 ],
 "metadata": {
  "kernelspec": {
   "display_name": "base",
   "language": "python",
   "name": "python3"
  },
  "language_info": {
   "codemirror_mode": {
    "name": "ipython",
    "version": 3
   },
   "file_extension": ".py",
   "mimetype": "text/x-python",
   "name": "python",
   "nbconvert_exporter": "python",
   "pygments_lexer": "ipython3",
   "version": "3.9.13"
  },
  "orig_nbformat": 4,
  "vscode": {
   "interpreter": {
    "hash": "ee1a1af4c815baca03d20a3507fa6a19707e2568db8336f298af13da70a7d5e1"
   }
  }
 },
 "nbformat": 4,
 "nbformat_minor": 2
}
