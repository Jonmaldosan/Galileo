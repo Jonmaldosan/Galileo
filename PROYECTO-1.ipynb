{
 "cells": [
  {
   "attachments": {},
   "cell_type": "markdown",
   "metadata": {},
   "source": [
    "## Hoja de Trabajo No. 2\n",
    "##  Ciencia de Datos en Python"
   ]
  },
  {
   "attachments": {},
   "cell_type": "markdown",
   "metadata": {},
   "source": [
    "### Parte 1\n",
    "#### Programa en Python que recibe un parametro numero de segundos y que despliega en pantalla las horas, minutos y segundos que corresponden. "
   ]
  },
  {
   "cell_type": "code",
   "execution_count": 8,
   "metadata": {},
   "outputs": [
    {
     "name": "stdout",
     "output_type": "stream",
     "text": [
      "el numero equivale a 12 horas, 41 minutos, 18 segundos\n"
     ]
    }
   ],
   "source": [
    "try:\n",
    "    segundos = int(input(\"ingrese un numero\"))\n",
    "    horas = segundos // 3600\n",
    "    minutos = (segundos % 3600) // 60\n",
    "    segundos = (segundos % 3600) % 60\n",
    "    print(f\"el numero equivale a {horas} horas, {minutos} minutos, {segundos} segundos\")\n",
    "except(ValueError):\n",
    "    print(\"dato no valido\")\n",
    "\n"
   ]
  },
  {
   "attachments": {},
   "cell_type": "markdown",
   "metadata": {},
   "source": [
    "### Funcion que despliega cuatro patrones triangulares dados un caracter y numero especifico"
   ]
  },
  {
   "cell_type": "code",
   "execution_count": 97,
   "metadata": {},
   "outputs": [
    {
     "name": "stdout",
     "output_type": "stream",
     "text": [
      "*   \n",
      "**  \n",
      "*** \n",
      "****\n",
      "         ****\n",
      "         *** \n",
      "         **  \n",
      "         *   \n",
      "****\n",
      " ***\n",
      "  **\n",
      "   *\n",
      "        *\n",
      "       **\n",
      "      ***\n",
      "     ****\n"
     ]
    }
   ],
   "source": [
    "try: \n",
    "    numero = int(input(\"ingrese un numero entre 0 y 20\"))\n",
    "    caracter = str(input(\"ingrese un caracter\"))\n",
    "    for i in range(numero):\n",
    "        print((caracter * (i+1)).ljust(numero))\n",
    "    for i in range(numero):\n",
    "        print(('  ' * numero), (caracter * (numero-i)).ljust(numero))\n",
    "    for i in range(numero):\n",
    "        print((caracter * (numero-i)).rjust(numero))\n",
    "    for i in range(numero):\n",
    "        print((' ' * numero), (caracter * (i+1)).rjust(numero))\n",
    "except(ValueError):\n",
    "    print(\"dato no valido\")\n"
   ]
  },
  {
   "attachments": {},
   "cell_type": "markdown",
   "metadata": {},
   "source": [
    "### Haga un programa en Python que la fecha de nacimiento de una persona (puede ingresar por separado cada valor, es decir pedir primero dıa, luego mes y luego anio), despliegue la edad de la persona en anios, meses y dıas. Su resultado puede ser aproximado."
   ]
  },
  {
   "cell_type": "code",
   "execution_count": 1,
   "metadata": {},
   "outputs": [
    {
     "data": {
      "text/plain": [
       "<module 'datetime' from '/Users/jonmaldosan/opt/anaconda3/lib/python3.9/datetime.py'>"
      ]
     },
     "execution_count": 1,
     "metadata": {},
     "output_type": "execute_result"
    }
   ],
   "source": [
    "import datetime\n",
    "datetime"
   ]
  },
  {
   "cell_type": "code",
   "execution_count": 24,
   "metadata": {},
   "outputs": [],
   "source": [
    "from dateutil.relativedelta import relativedelta"
   ]
  },
  {
   "cell_type": "code",
   "execution_count": 31,
   "metadata": {},
   "outputs": [
    {
     "name": "stdout",
     "output_type": "stream",
     "text": [
      "la edad es 23 años, 2 meses y 2 dias \n"
     ]
    }
   ],
   "source": [
    "try:\n",
    "    dia = int(input(\"ingrese el dia\"))\n",
    "    mes = int(input(\"ingrese el mes\"))\n",
    "    anio = int(input(\"ingrese un anio\"))\n",
    "    birthday = datetime.date(anio, mes, dia)\n",
    "    hoy = datetime.date.today()\n",
    "    edad = relativedelta(hoy, birthday)\n",
    "    print(f\"la edad es {edad.years} años, {edad.months} meses y {edad.days} dias \")\n",
    "except(ValueError):\n",
    "    print(\"dato no valido\")"
   ]
  },
  {
   "attachments": {},
   "cell_type": "markdown",
   "metadata": {},
   "source": [
    "### Escriba una funcion en Python que dada una tupla de elementos (números o letras) esta se convierta a un string. "
   ]
  },
  {
   "cell_type": "code",
   "execution_count": 35,
   "metadata": {},
   "outputs": [
    {
     "name": "stdout",
     "output_type": "stream",
     "text": [
      "1, r, 4, 5, y, u\n",
      "1 r 4 5 y u\n"
     ]
    }
   ],
   "source": [
    "tupla = str(input(\"ingrese los elementos separados por comas\"))\n",
    "comas = tupla.replace(\",\", \"\")\n",
    "resultado = ''.join(comas)\n",
    "print(tupla)\n",
    "print(resultado)\n"
   ]
  },
  {
   "attachments": {},
   "cell_type": "markdown",
   "metadata": {},
   "source": [
    "### Cree un programa en Python que dada una lista de tuplas, elimine las tuplas que están vacías."
   ]
  },
  {
   "cell_type": "code",
   "execution_count": 20,
   "metadata": {},
   "outputs": [
    {
     "name": "stdout",
     "output_type": "stream",
     "text": [
      "['X', ('a', 'b'), ('a', 'b', 'c'), 'd']\n"
     ]
    }
   ],
   "source": [
    "def eliminar_tuplas_vacias(lista_de_tuplas):\n",
    "    lista_sin_tuplas_vacias = []\n",
    "\n",
    "    for tupla in lista_de_tuplas:\n",
    "        if tupla:\n",
    "            lista_sin_tuplas_vacias.append(tupla)\n",
    "    return lista_sin_tuplas_vacias\n",
    "\n",
    "lista_de_tuplas1 = [(), (), (\"X\"), (\"a\", \"b\"), (\"a\", \"b\", \"c\"), (\"d\")]\n",
    "lista_sin_tuplas_vacias1 = eliminar_tuplas_vacias(lista_de_tuplas1)\n",
    "print(lista_sin_tuplas_vacias1) \n"
   ]
  },
  {
   "attachments": {},
   "cell_type": "markdown",
   "metadata": {},
   "source": [
    "### Cree una función en Python que dada una tupla de tuplas con números, produzca una tupla con el promedio de cada tupla individual."
   ]
  },
  {
   "cell_type": "code",
   "execution_count": 22,
   "metadata": {},
   "outputs": [
    {
     "name": "stdout",
     "output_type": "stream",
     "text": [
      "(10.5, 44.0, 58.0)\n"
     ]
    }
   ],
   "source": [
    "def promedio_tuplas(tuplas):\n",
    "    promedios = []\n",
    "    for tupla in tuplas:\n",
    "       promedio_actual = sum(tupla) / len(tupla)\n",
    "       promedios.append(promedio_actual)\n",
    "    return tuple(promedios)\n",
    "\n",
    "lista = ((10, 10, 10, 12), (30, 45, 56, 45), (81, 80, 39, 32))\n",
    "promedios = promedio_tuplas(lista)\n",
    "print(promedios)\n"
   ]
  },
  {
   "attachments": {},
   "cell_type": "markdown",
   "metadata": {},
   "source": [
    "### Escribir un programa que gestione las facturas pendientes de cobro de una empresa. Las facturas se almacenaran en un diccionario donde la llave de cada factura sera el numero de factura (debe utilizar un numero de 4 dıgitos) y el valor el coste de la factura."
   ]
  },
  {
   "cell_type": "code",
   "execution_count": 8,
   "metadata": {},
   "outputs": [],
   "source": [
    "import pandas as pd"
   ]
  },
  {
   "cell_type": "code",
   "execution_count": 11,
   "metadata": {},
   "outputs": [
    {
     "name": "stdout",
     "output_type": "stream",
     "text": [
      "Factura añadida correctamente.\n",
      "{'3456': 400.0}\n",
      "Cantidad cobrada hasta el momento:  400.0\n",
      "Cantidad pendiente de cobro:  400.0\n"
     ]
    }
   ],
   "source": [
    "facturas = {}\n",
    "\n",
    "try:\n",
    "    \n",
    "    opcion = int(input(\"Selecione la acción que desea realizar: 1 - Registro, 2 - Pago, 3 - Terminar\"))\n",
    "    \n",
    "    if opcion == 1:\n",
    "        num_factura = input(\"Ingrese el número de factura (4 dígitos): \")\n",
    "        costo = float(input(\"Ingrese el costo de la factura: \"))\n",
    "        facturas[num_factura] = costo\n",
    "        print(\"Factura añadida correctamente.\")\n",
    "        print(facturas)\n",
    "        \n",
    "    elif opcion == 2:\n",
    "        num_factura = input(\"Ingrese el número de factura a pagar: \")\n",
    "        if num_factura in facturas:\n",
    "            del facturas[num_factura]\n",
    "            print(\"Factura pagada correctamente.\")\n",
    "            print(facturas)\n",
    "        else:\n",
    "            print(\"La factura no existe en el sistema.\")\n",
    "        \n",
    "    elif opcion == 3:\n",
    "        print(\"Terminando programa...\")\n",
    "    \n",
    "except:\n",
    "        print(\"Opción no válida.\")\n",
    "    \n",
    "cobrado = sum(facturas.values())\n",
    "pendiente = 0\n",
    "for costo in facturas.values():\n",
    "    pendiente += costo\n",
    "    \n",
    "    print(\"Cantidad cobrada hasta el momento: \", cobrado)\n",
    "    print(\"Cantidad pendiente de cobro: \", pendiente)"
   ]
  },
  {
   "attachments": {},
   "cell_type": "markdown",
   "metadata": {},
   "source": [
    "### Haga una función en Python, que cree un set con todas las cartas de una baraja de Pocker utilizando el siguiente formato: Figura-Numero. Utilice las letras T para tréboles, C para corazones, P para picas y E para espadas. "
   ]
  },
  {
   "cell_type": "code",
   "execution_count": 4,
   "metadata": {},
   "outputs": [
    {
     "name": "stdout",
     "output_type": "stream",
     "text": [
      "<function crear_baraja at 0x7fbb9149d4c0>\n"
     ]
    }
   ],
   "source": [
    "def crear_baraja():\n",
    "    figuras = ['T', 'C', 'P', 'E']\n",
    "    numeros = ['2', '3', '4', '5', '6', '7', '8', '9', '10', '11', '12', '13', '1']\n",
    "    baraja = set()\n",
    "    for figura in figuras:\n",
    "        for numero in numeros:\n",
    "            carta = figura + '-' + numero\n",
    "            baraja.add(carta)\n",
    "    return baraja\n",
    "\n",
    "print(crear_baraja)"
   ]
  },
  {
   "attachments": {},
   "cell_type": "markdown",
   "metadata": {},
   "source": [
    "### Haga una función en Python, que cree un set con todas las cartas de una baraja de Pocker utilizando el siguiente formato: Tipo-Numero. Utilice las letras T para tréboles, C para corazones, P para picas y E para espadas."
   ]
  },
  {
   "cell_type": "code",
   "execution_count": 5,
   "metadata": {},
   "outputs": [],
   "source": [
    "import random"
   ]
  },
  {
   "cell_type": "code",
   "execution_count": 6,
   "metadata": {},
   "outputs": [
    {
     "name": "stdout",
     "output_type": "stream",
     "text": [
      "Set 1: {'C-12', 'E-8', 'T-8'}\n",
      "Set 2: {'E-10', 'P-11', 'P-6', 'C-2', 'C-4', 'T-7', 'C-6', 'P-5', 'P-10', 'C-11', 'T-10', 'T-5', 'C-7', 'C-10', 'C-8', 'C-12', 'E-11', 'C-9', 'T-3', 'E-6', 'E-4', 'P-1'}\n"
     ]
    }
   ],
   "source": [
    "def crear_sets(baraja):\n",
    "    n1 = random.randint(1, len(baraja))\n",
    "    n2 = random.randint(1, len(baraja))\n",
    "    set1 = set()\n",
    "    set2 = set()\n",
    "    while len(set1) < n1 or len(set2) < n2:\n",
    "        carta = random.choice(list(baraja))\n",
    "        if carta not in set1 and len(set1) < n1:\n",
    "            set1.add(carta)\n",
    "        elif carta not in set2 and len(set2) < n2:\n",
    "            set2.add(carta)\n",
    "            \n",
    "    return set1, set2\n",
    "\n",
    "baraja = crear_baraja()\n",
    "set1, set2 = crear_sets(baraja)\n",
    "print(\"Set 1:\", set1)\n",
    "print(\"Set 2:\", set2)"
   ]
  },
  {
   "attachments": {},
   "cell_type": "markdown",
   "metadata": {},
   "source": [
    "### Calcular la probabilidad de la intersección de ambos conjuntos y demuestre si son eventos independientes con la regla del producto."
   ]
  },
  {
   "cell_type": "code",
   "execution_count": 7,
   "metadata": {},
   "outputs": [],
   "source": [
    "def probabilidad_interseccion(set1, set2):\n",
    "    interseccion = set1.intersection(set2)\n",
    "    prob_interseccion = len(interseccion) / (len(set1) + len(set2) - len(interseccion))\n",
    "    return prob_interseccion"
   ]
  }
 ],
 "metadata": {
  "kernelspec": {
   "display_name": "base",
   "language": "python",
   "name": "python3"
  },
  "language_info": {
   "codemirror_mode": {
    "name": "ipython",
    "version": 3
   },
   "file_extension": ".py",
   "mimetype": "text/x-python",
   "name": "python",
   "nbconvert_exporter": "python",
   "pygments_lexer": "ipython3",
   "version": "3.9.13"
  },
  "orig_nbformat": 4,
  "vscode": {
   "interpreter": {
    "hash": "ee1a1af4c815baca03d20a3507fa6a19707e2568db8336f298af13da70a7d5e1"
   }
  }
 },
 "nbformat": 4,
 "nbformat_minor": 2
}
